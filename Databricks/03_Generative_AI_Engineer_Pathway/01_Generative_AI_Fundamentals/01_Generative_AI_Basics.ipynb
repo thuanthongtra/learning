{
 "cells": [
  {
   "cell_type": "markdown",
   "metadata": {
    "application/vnd.databricks.v1+cell": {
     "cellMetadata": {},
     "inputWidgets": {},
     "nuid": "3a839450-5ed6-4fe3-9d20-0a97b8d13890",
     "showTitle": false,
     "title": ""
    }
   },
   "source": [
    "# Generative AI Basics"
   ]
  },
  {
   "cell_type": "markdown",
   "metadata": {
    "application/vnd.databricks.v1+cell": {
     "cellMetadata": {},
     "inputWidgets": {},
     "nuid": "f103f4fa-a197-4c59-89af-6b38109031fa",
     "showTitle": false,
     "title": ""
    }
   },
   "source": [
    "## What is Generative AI?\n",
    "<img src=\"../images/01_Generative_AI_Fundamentals/01/Generative_AI_In_AI.png\" alt=\"Generative_AI_In_AI\" style=\"border: 2px solid black; border-radius: 10px;\">\n",
    "\n",
    "- **Artificial Intelligence:** A multidisciplinary field of computer science that aims to increase systems capable of **_emulating_** and **_surpassing_** **human-level intelligence**\n",
    "- **Machine Learning:** **_Learn_** from exising data and **_make_** **predictions** without being explicitly programmed\n",
    "- **Deep Learing:** Use **\"artificial neural networkds\"** (networks that enable system to process information) to **_learn_** from data, inspred by human brain\n",
    "- **Generative Artificial Intelligence:** Sub-field of AI that focuses on **_generating_** **`new content`** such as:\n",
    "  - Images\n",
    "  - Text\n",
    "  - Audio/music\n",
    "  - Video\n",
    "  - Code\n",
    "  - 3D objects\n",
    "  - Synthetic data"
   ]
  },
  {
   "cell_type": "markdown",
   "metadata": {
    "application/vnd.databricks.v1+cell": {
     "cellMetadata": {},
     "inputWidgets": {},
     "nuid": "45977657-aa39-46df-8ecf-46feffe4d2ef",
     "showTitle": false,
     "title": ""
    }
   },
   "source": [
    "## Generative Models\n",
    "Generative AI is build upon specific type of model called **Generative Models**. These models **`mathematically approximates`** the underlying data.\n",
    "\n",
    "<img src=\"../images/01_Generative_AI_Fundamentals/01/Generative_Models.png\" alt=\"Generative_Models\" style=\"border: 2px solid black; border-radius: 10px;\">\n",
    "\n",
    "1. Take **large datasets** such as images, text or sounds as input\n",
    "2. Use Deep Neural Network to **_determine_** **patterns** within the data\n",
    "3. Once the models complete learning process, they could be employed for tasks"
   ]
  },
  {
   "cell_type": "markdown",
   "metadata": {
    "application/vnd.databricks.v1+cell": {
     "cellMetadata": {},
     "inputWidgets": {},
     "nuid": "d3eeaf2d-421f-4dc9-b36d-c20cfba5c3f3",
     "showTitle": false,
     "title": ""
    }
   },
   "source": [
    "## Why Now?\n",
    "**1. Large Datasets**\n",
    "- Availability of large and diverse datasets\n",
    "  - AI models learn patterns, correlations and characteristics of large datasets, e.g. open-source high quality datasets\n",
    "  - Pre-trained state-of-the-art models\n",
    "\n",
    "**2. Computational Power**\n",
    "- Advancements in hardware, e.g. GPUs\n",
    "- Access to cloud computing\n",
    "- Open-source software, e.g. Hugging Face\n",
    "\n",
    "**3. Innovative DL Models**\n",
    "- Generative Adversarial Networks (GANs)\n",
    "- Transformers Architecture\n",
    "- Reinforcement learning from human feedback (RLHF)\n"
   ]
  },
  {
   "cell_type": "markdown",
   "metadata": {
    "application/vnd.databricks.v1+cell": {
     "cellMetadata": {},
     "inputWidgets": {},
     "nuid": "e7fcdfcc-9b3c-403b-9533-a32913e8a953",
     "showTitle": false,
     "title": ""
    }
   },
   "source": [
    "# LLM and Generative AI"
   ]
  },
  {
   "cell_type": "markdown",
   "metadata": {
    "application/vnd.databricks.v1+cell": {
     "cellMetadata": {},
     "inputWidgets": {},
     "nuid": "bb937981-f52f-45d9-9298-ea46a9586a1f",
     "showTitle": false,
     "title": ""
    }
   },
   "source": [
    "## What is LLM?\n",
    "<img src=\"../images/01_Generative_AI_Fundamentals/01/LLMs_And_Generative_AI.png\" alt=\"LLMs_And_Generative_AI\" style=\"border: 2px solid black; border-radius: 10px;\">\n",
    "\n",
    "Generative AI has 2 models:\n",
    "**1. Large Language Model (LLM):**\n",
    "- Model trained on massive datasets to achieve advanced language processing capabilities\n",
    "- Based on deep learning neural networks\n",
    "\n",
    "**2. Foundation Model:**\n",
    "- Large ML model trained on vast amount of data & fine-tuned for more specific language understanding and generation tasks"
   ]
  }
 ],
 "metadata": {
  "application/vnd.databricks.v1+notebook": {
   "dashboards": [],
   "environmentMetadata": null,
   "language": "python",
   "notebookMetadata": {
    "pythonIndentUnit": 4
   },
   "notebookName": "01_Generative_AI_Basics",
   "widgets": {}
  }
 },
 "nbformat": 4,
 "nbformat_minor": 0
}

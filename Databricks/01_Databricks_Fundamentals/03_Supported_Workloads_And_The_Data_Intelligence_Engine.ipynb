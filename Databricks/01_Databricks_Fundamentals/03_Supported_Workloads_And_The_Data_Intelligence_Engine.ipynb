{
 "cells": [
  {
   "cell_type": "markdown",
   "metadata": {
    "application/vnd.databricks.v1+cell": {
     "cellMetadata": {},
     "inputWidgets": {},
     "nuid": "3793c3cc-a8a5-4ed5-98bf-8e874e06fb27",
     "showTitle": false,
     "tableResultSettingsMap": {},
     "title": ""
    }
   },
   "source": [
    "# Data Warehousing\n",
    "- Databricks SQL has tasks including:\n",
    "  - SQL analytics\n",
    "  - BI activities\n",
    "  - Data transformation\n",
    "  - Querying\n",
    "  - Dashboard creation\n",
    "  - Realtime business insights\n",
    "- With Intelligence Engine\n",
    "\n",
    "![Databricks_SQL_With_AI](./images/Databricks_SQL_With_AI.png)"
   ]
  },
  {
   "cell_type": "markdown",
   "metadata": {
    "application/vnd.databricks.v1+cell": {
     "cellMetadata": {},
     "inputWidgets": {},
     "nuid": "3d349956-a9aa-4fb4-9ca4-8c133f6c20cb",
     "showTitle": false,
     "tableResultSettingsMap": {},
     "title": ""
    }
   },
   "source": [
    "## Data Warehousing With Intelligence\n",
    "\n",
    "![Databricks_Warehousing_With_AI](./images/Databricks_Warehousing_With_AI.png)"
   ]
  },
  {
   "cell_type": "markdown",
   "metadata": {
    "application/vnd.databricks.v1+cell": {
     "cellMetadata": {},
     "inputWidgets": {},
     "nuid": "9353057a-f447-4e92-9c12-b114081330e9",
     "showTitle": false,
     "tableResultSettingsMap": {},
     "title": ""
    }
   },
   "source": [
    "## Best TCO and Performance for Data Warehousing\n",
    "- Databricks Serverless SQL removes the need to manage, configure or scale cloud infrastructure\n",
    "  - Leaving data team for what they do best\n",
    "- Get instance elastic SQL serverless compute, decouple from storage\n",
    "  - Instant startup, greater availability and **40% average lower overall costs with serverless**\n",
    "- Automatically determince instance types and configuration for best price/perf (up to 12x)\n",
    "- **High concurrency** built-in, automatic load balancing\n"
   ]
  },
  {
   "cell_type": "markdown",
   "metadata": {
    "application/vnd.databricks.v1+cell": {
     "cellMetadata": {},
     "inputWidgets": {},
     "nuid": "89451725-e8ce-4c91-b3e3-2f6851825c0d",
     "showTitle": false,
     "tableResultSettingsMap": {},
     "title": ""
    }
   },
   "source": [
    "# Orchestration\n",
    "\n",
    "![Workflows_With_AI](./images/Workflows_With_AI.png)"
   ]
  },
  {
   "cell_type": "code",
   "execution_count": 0,
   "metadata": {
    "application/vnd.databricks.v1+cell": {
     "cellMetadata": {},
     "inputWidgets": {},
     "nuid": "b94f78a6-a649-4e56-91a3-e69b0042c30e",
     "showTitle": false,
     "tableResultSettingsMap": {},
     "title": ""
    }
   },
   "outputs": [],
   "source": []
  },
  {
   "cell_type": "code",
   "execution_count": 0,
   "metadata": {
    "application/vnd.databricks.v1+cell": {
     "cellMetadata": {},
     "inputWidgets": {},
     "nuid": "ed2b6909-242c-4f18-aa94-131249875636",
     "showTitle": false,
     "tableResultSettingsMap": {},
     "title": ""
    }
   },
   "outputs": [],
   "source": []
  },
  {
   "cell_type": "markdown",
   "metadata": {
    "application/vnd.databricks.v1+cell": {
     "cellMetadata": {},
     "inputWidgets": {},
     "nuid": "a5d45c6d-d69b-4928-97ac-2f8c7e07d5ab",
     "showTitle": false,
     "tableResultSettingsMap": {},
     "title": ""
    }
   },
   "source": [
    "# ETL and Real-time Analytics"
   ]
  },
  {
   "cell_type": "code",
   "execution_count": 0,
   "metadata": {
    "application/vnd.databricks.v1+cell": {
     "cellMetadata": {},
     "inputWidgets": {},
     "nuid": "d9889a4a-b242-4a18-a826-9c912480d6f7",
     "showTitle": false,
     "tableResultSettingsMap": {},
     "title": ""
    }
   },
   "outputs": [],
   "source": []
  },
  {
   "cell_type": "markdown",
   "metadata": {
    "application/vnd.databricks.v1+cell": {
     "cellMetadata": {},
     "inputWidgets": {},
     "nuid": "f81ab972-4579-4895-bcfc-faa0d2a9dd68",
     "showTitle": false,
     "tableResultSettingsMap": {},
     "title": ""
    }
   },
   "source": [
    "# Data Science and AI"
   ]
  },
  {
   "cell_type": "code",
   "execution_count": 0,
   "metadata": {
    "application/vnd.databricks.v1+cell": {
     "cellMetadata": {},
     "inputWidgets": {},
     "nuid": "11c4cc38-0a02-4215-9bb4-84ec903f68b3",
     "showTitle": false,
     "tableResultSettingsMap": {},
     "title": ""
    }
   },
   "outputs": [],
   "source": []
  },
  {
   "cell_type": "code",
   "execution_count": 0,
   "metadata": {
    "application/vnd.databricks.v1+cell": {
     "cellMetadata": {},
     "inputWidgets": {},
     "nuid": "1a3afb0b-4bc1-4311-85b9-7ae6fa6561d1",
     "showTitle": false,
     "tableResultSettingsMap": {},
     "title": ""
    }
   },
   "outputs": [],
   "source": []
  }
 ],
 "metadata": {
  "application/vnd.databricks.v1+notebook": {
   "dashboards": [],
   "environmentMetadata": null,
   "language": "python",
   "notebookMetadata": {
    "pythonIndentUnit": 4
   },
   "notebookName": "03_Supported_Workloads_And_The_Data_Intelligence_Engine",
   "widgets": {}
  },
  "language_info": {
   "name": "python"
  }
 },
 "nbformat": 4,
 "nbformat_minor": 0
}

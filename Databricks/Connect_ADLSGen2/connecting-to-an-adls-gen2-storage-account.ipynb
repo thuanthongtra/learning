{
 "cells": [
  {
   "cell_type": "markdown",
   "metadata": {
    "application/vnd.databricks.v1+cell": {
     "cellMetadata": {},
     "inputWidgets": {},
     "nuid": "f9c9c313-5c08-403f-a788-e2c8ecc488bf",
     "showTitle": false,
     "title": ""
    }
   },
   "source": [
    "\n",
    "<div style=\"text-align: center; line-height: 0; padding-top: 9px;\">\n",
    "  <img src=\"https://databricks.com/wp-content/uploads/2018/03/db-academy-rgb-1200px.png\" alt=\"Databricks Learning\" style=\"width: 600px\">\n",
    "</div>"
   ]
  },
  {
   "cell_type": "markdown",
   "metadata": {
    "application/vnd.databricks.v1+cell": {
     "cellMetadata": {},
     "inputWidgets": {},
     "nuid": "d712028a-769c-4777-9187-6ed0df29621d",
     "showTitle": false,
     "title": ""
    }
   },
   "source": [
    "# Connecting to an ADLS Gen2 Storage Account\n",
    "\n",
    "In this demo you will learn how to:\n",
    "* Add data to Azure Databricks Unity Catalog metastore.\n",
    "* Read data from and write to an external storage location in Azure."
   ]
  },
  {
   "cell_type": "markdown",
   "metadata": {
    "application/vnd.databricks.v1+cell": {
     "cellMetadata": {},
     "inputWidgets": {},
     "nuid": "12c9db78-c390-403c-8f9b-3407ae2f6817",
     "showTitle": false,
     "title": ""
    }
   },
   "source": [
    "## Prerequisites\n",
    "\n",
    "If you would like to follow along with this demo, you will need:\n",
    "* Access to your Azure Portal with the ability to create a ADLS Gen2 storage account and an Azure Databricks Access Connector. \n",
    "* Account administrator capabilities in your Databricks account with access to your Unity Catalog Data Explorer.\n",
    "\n",
    "The resources you will need include:\n",
    "* An Azure Databricks Access Connector resource in Azure.\n",
    "* An Azure Data Lake Storage Gen2 Storage Account.\n",
    "* A CSV file with sample data to practice with."
   ]
  },
  {
   "cell_type": "markdown",
   "metadata": {
    "application/vnd.databricks.v1+cell": {
     "cellMetadata": {},
     "inputWidgets": {},
     "nuid": "e9050533-c1dd-481b-bb64-4955650def0b",
     "showTitle": false,
     "title": ""
    }
   },
   "source": [
    "## Overview\n",
    "\n",
    "Many use cases require the use of external storage. These use cases are often related to the storage of data assets outside the metastore bucket. These use cases include, but are not limited to:\n",
    "\n",
    "* Migrating large datasets from a traditional Hive metastore to Unity Catalog. If there is a need to avoid the cost and time required to move this data, accessing them in place as a collection of external tables provides a viable alternative.\n",
    "* Use of external writers: that is, ongoing processes outside of your Azure Databricks deployment that write to the storage.\n",
    "* Strict business or regulalatory requirements that impose a hierarchy or naming convention on your storage.\n",
    "* Hard requirement for data isolation at the infrastructural level.\n",
    "* Requirement to manage data in a format that isn't Delta.\n",
    "\n",
    "In this demonstration, we'll walk through how to add data files directly into the metastore and how to work with data in external storage."
   ]
  },
  {
   "cell_type": "markdown",
   "metadata": {
    "application/vnd.databricks.v1+cell": {
     "cellMetadata": {},
     "inputWidgets": {},
     "nuid": "953e8318-2c85-4884-8671-43329edd2156",
     "showTitle": false,
     "title": ""
    }
   },
   "source": [
    "## Upload a file to Unity Catalog Data Explorer\n",
    "\n",
    "Unity Catalog provides the option to upload a data file directly to Data Explorer. The steps are as listed below:\n",
    "1. Create a new catalog in the metastore.\n",
    "2. Create a new schema in the catalog.\n",
    "3. Upload a CSV to create a table.\n",
    "4. Grant appropriate permissions as necessary. "
   ]
  },
  {
   "cell_type": "markdown",
   "metadata": {
    "application/vnd.databricks.v1+cell": {
     "cellMetadata": {},
     "inputWidgets": {},
     "nuid": "362ad366-58e6-4510-b3fd-1cf231c8be5f",
     "showTitle": false,
     "title": ""
    }
   },
   "source": [
    "###View table in a notebook\n",
    "Using the code below, you can view the table created in the metastore here in the notebook. Fill in the catalog name, schema name, and table name as it appears in the Data Explorer. "
   ]
  },
  {
   "cell_type": "code",
   "execution_count": 0,
   "metadata": {
    "application/vnd.databricks.v1+cell": {
     "cellMetadata": {},
     "inputWidgets": {},
     "nuid": "dd4c3993-e1b0-4435-83b2-8370749b7c34",
     "showTitle": false,
     "title": ""
    }
   },
   "outputs": [],
   "source": [
    "USE CATALOG <catalog_name>;\n",
    "USE SCHEMA <schema_name>;\n",
    "SELECT * from <table_name>;"
   ]
  },
  {
   "cell_type": "markdown",
   "metadata": {
    "application/vnd.databricks.v1+cell": {
     "cellMetadata": {},
     "inputWidgets": {},
     "nuid": "17260074-f7b6-4e5b-8008-dce313710f75",
     "showTitle": false,
     "title": ""
    }
   },
   "source": [
    "Next, you can do work with the table and the results will be saved back to the catalog indicated previously. You can view the results from the Data Explorer window. \n",
    "\n",
    "The example below demonstrates creating a silver table using the `customers.csv` data filtered on the `loyalty_segment` column."
   ]
  },
  {
   "cell_type": "code",
   "execution_count": 0,
   "metadata": {
    "application/vnd.databricks.v1+cell": {
     "cellMetadata": {},
     "inputWidgets": {},
     "nuid": "172780b8-41be-419c-bcc9-f8709e4aec4d",
     "showTitle": false,
     "title": ""
    }
   },
   "outputs": [],
   "source": [
    "CREATE TABLE silver_customers_highloyalty AS SELECT * FROM customers WHERE loyalty_segment=3"
   ]
  },
  {
   "cell_type": "markdown",
   "metadata": {
    "application/vnd.databricks.v1+cell": {
     "cellMetadata": {},
     "inputWidgets": {},
     "nuid": "d0d812d3-6ca6-4d4f-83a9-587c5ad173c3",
     "showTitle": false,
     "title": ""
    }
   },
   "source": [
    "## Adding an External Location\n",
    "\n",
    "External locations require a storage credential that is authroized with the ADLS Gen2 Storage Account as a Storage Blob Data Contributor in the Azure Portal. These two resources must exist in the Azure Portal before you begin. For this example, a demo-content container will be used from the trainingdemostorage storage account. \n",
    "\n",
    "To add an external data location to Unity Catalog, follow these steps in the Data Explorer:\n",
    "1. In Unity Catalog, select Storage Credentials.\n",
    "2. Select Create credential and complete the form using the details of your Azure Databricks Access Connector that has the Storage Blob Data Contributor role for your storage account in the Azure Portal. \n",
    "3. Click Create to complete the form.\n",
    "4. Select External Locations.\n",
    "5. Click Create location and complete the details for the storage account that will be the external location, including the URL that matches to the root path for the container. \n",
    "6. Select the appropriate storage credential that has permissions with the storage account and click Create to complete the form. \n",
    "\n",
    "It will verify the Storage Credential has appropriate permissions. Once complete, you can view your External Location from the Data Explorer. Once the external location is available, the appropriate permissions to users, service principals, and groups can be provided through Unity Catalog."
   ]
  },
  {
   "cell_type": "markdown",
   "metadata": {
    "application/vnd.databricks.v1+cell": {
     "cellMetadata": {},
     "inputWidgets": {},
     "nuid": "9de0d5f3-06c1-4d5f-aac3-9b62e693b61a",
     "showTitle": false,
     "title": ""
    }
   },
   "source": [
    "The following commands display the Storage Credentials and External Locations from Unity Catalog."
   ]
  },
  {
   "cell_type": "code",
   "execution_count": 0,
   "metadata": {
    "application/vnd.databricks.v1+cell": {
     "cellMetadata": {},
     "inputWidgets": {},
     "nuid": "f4094f05-8275-4378-8c14-da467cbcb6ef",
     "showTitle": false,
     "title": ""
    }
   },
   "outputs": [],
   "source": [
    "SHOW STORAGE CREDENTIALS"
   ]
  },
  {
   "cell_type": "code",
   "execution_count": 0,
   "metadata": {
    "application/vnd.databricks.v1+cell": {
     "cellMetadata": {},
     "inputWidgets": {},
     "nuid": "08eb0061-f81f-474f-aa02-a9511ec2458a",
     "showTitle": false,
     "title": ""
    }
   },
   "outputs": [],
   "source": [
    "SHOW EXTERNAL LOCATIONS"
   ]
  },
  {
   "cell_type": "markdown",
   "metadata": {
    "application/vnd.databricks.v1+cell": {
     "cellMetadata": {},
     "inputWidgets": {},
     "nuid": "131c09a9-986f-4530-85f2-a95c9d983a32",
     "showTitle": false,
     "title": ""
    }
   },
   "source": [
    "Next, you can execute the following commands to display the contents of the external location. Fill in your data for `<container-name>`, `<storage-account-name>`, and `<path>`, where the path leads to the folder containing your data file, starting at the first directory foler in your container."
   ]
  },
  {
   "cell_type": "code",
   "execution_count": 0,
   "metadata": {
    "application/vnd.databricks.v1+cell": {
     "cellMetadata": {},
     "inputWidgets": {},
     "nuid": "cd20a609-d88f-4a2c-896d-231337367b0d",
     "showTitle": false,
     "title": ""
    }
   },
   "outputs": [],
   "source": [
    "LIST 'abfss://<container-name>@<storage-account-name>.dfs.core.windows.net/<path>'"
   ]
  },
  {
   "cell_type": "markdown",
   "metadata": {
    "application/vnd.databricks.v1+cell": {
     "cellMetadata": {},
     "inputWidgets": {},
     "nuid": "57bbe59e-1443-4412-9fd6-c073517a8b43",
     "showTitle": false,
     "title": ""
    }
   },
   "source": [
    "To view a table created using the data file, you can use the command below. The value of `<abfss://path>` is the same as the cell above. "
   ]
  },
  {
   "cell_type": "code",
   "execution_count": 0,
   "metadata": {
    "application/vnd.databricks.v1+cell": {
     "cellMetadata": {},
     "inputWidgets": {},
     "nuid": "83d5284f-a23e-42e4-9afc-9dc5bb5251bf",
     "showTitle": false,
     "title": ""
    }
   },
   "outputs": [],
   "source": [
    "SELECT * FROM CSV.`<abfss://path>`;"
   ]
  },
  {
   "cell_type": "markdown",
   "metadata": {
    "application/vnd.databricks.v1+cell": {
     "cellMetadata": {},
     "inputWidgets": {},
     "nuid": "cc783d1d-33a3-4581-aad4-900cba1b168f",
     "showTitle": false,
     "title": ""
    }
   },
   "source": [
    "As you can see, SQL does not give you the ability to infer the schema of the data into the column headers, so instead you can also create a data frame using Python, as seen below. "
   ]
  },
  {
   "cell_type": "code",
   "execution_count": 0,
   "metadata": {
    "application/vnd.databricks.v1+cell": {
     "cellMetadata": {},
     "inputWidgets": {},
     "nuid": "433d7dfa-4998-429a-ae07-99489c944134",
     "showTitle": false,
     "title": ""
    }
   },
   "outputs": [],
   "source": [
    "%python\n",
    "df = (spark.read\n",
    "  .format(\"csv\")\n",
    "  .option(\"header\", \"true\")\n",
    "  .option(\"inferSchema\", \"true\")\n",
    "  .load(\"abfss://<path>/<file>.csv\")\n",
    ")\n",
    "display(df)"
   ]
  },
  {
   "cell_type": "markdown",
   "metadata": {
    "application/vnd.databricks.v1+cell": {
     "cellMetadata": {},
     "inputWidgets": {},
     "nuid": "d1f4c64d-b182-45a5-929c-58cce36fabe7",
     "showTitle": false,
     "title": ""
    }
   },
   "source": [
    "## Dropping a table that was saved to external storage\n",
    "\n",
    "This example points out that data persists even if the table is dropped when it is saved to the external location. \n",
    "\n",
    "The command below, creates a new external table in the storage account in Azure. If you review the Data Explorer, you will see that the table's meta data is stored in the Unity Catalog metastore. By viewing the storage account in Azure Portal, you can see the new table is now present. "
   ]
  },
  {
   "cell_type": "code",
   "execution_count": 0,
   "metadata": {
    "application/vnd.databricks.v1+cell": {
     "cellMetadata": {},
     "inputWidgets": {},
     "nuid": "7c0a36df-05bc-4ab4-a3b7-2939be3caa04",
     "showTitle": false,
     "title": ""
    }
   },
   "outputs": [],
   "source": [
    "CREATE TABLE silver_customers_highloyalty_external \n",
    "  LOCATION 'abfss://<path>/silver/'\n",
    "  AS SELECT * FROM customers WHERE loyalty_segment=3"
   ]
  },
  {
   "cell_type": "markdown",
   "metadata": {
    "application/vnd.databricks.v1+cell": {
     "cellMetadata": {},
     "inputWidgets": {},
     "nuid": "ac0efc3d-1249-41fa-ad60-85627663a20e",
     "showTitle": false,
     "title": ""
    }
   },
   "source": [
    "Now if we drop the table with the command below, you will see that it is no longer available in the metastore."
   ]
  },
  {
   "cell_type": "code",
   "execution_count": 0,
   "metadata": {
    "application/vnd.databricks.v1+cell": {
     "cellMetadata": {},
     "inputWidgets": {},
     "nuid": "f857243e-0c5e-4ab2-9cde-bbf59ec377c5",
     "showTitle": false,
     "title": ""
    }
   },
   "outputs": [],
   "source": [
    "DROP TABLE silver_customers_highloyalty_external"
   ]
  },
  {
   "cell_type": "markdown",
   "metadata": {
    "application/vnd.databricks.v1+cell": {
     "cellMetadata": {},
     "inputWidgets": {},
     "nuid": "e0cc40ee-4f44-4bff-808e-113c08df1cde",
     "showTitle": false,
     "title": ""
    }
   },
   "source": [
    "However, even though we dropped the table, the data files still remain in the Azure Portal (as seen with the command below or through viewing the storage account in the portal). This is intrinsic behaviour of an external table, which is the main differentiator between managed and external tables. When we drop a managed table, the data files are deleted as well. As it stands, you could recreate the table if desired, without having to specify source data again."
   ]
  },
  {
   "cell_type": "code",
   "execution_count": 0,
   "metadata": {
    "application/vnd.databricks.v1+cell": {
     "cellMetadata": {},
     "inputWidgets": {},
     "nuid": "6a454233-0c8f-4d4f-9840-200641355d24",
     "showTitle": false,
     "title": ""
    }
   },
   "outputs": [],
   "source": [
    "LIST 'abfss://<path>/'"
   ]
  },
  {
   "cell_type": "markdown",
   "metadata": {
    "application/vnd.databricks.v1+cell": {
     "cellMetadata": {},
     "inputWidgets": {},
     "nuid": "de5d72ef-6b38-4c63-8f20-c8d6232dd155",
     "showTitle": false,
     "title": ""
    }
   },
   "source": [
    "&copy; 2023 Databricks, Inc. All rights reserved.<br/>\n",
    "Apache, Apache Spark, Spark and the Spark logo are trademarks of the <a href=\"https://www.apache.org/\">Apache Software Foundation</a>.<br/>\n",
    "<br/>\n",
    "<a href=\"https://databricks.com/privacy-policy\">Privacy Policy</a> | <a href=\"https://databricks.com/terms-of-use\">Terms of Use</a> | <a href=\"https://help.databricks.com/\">Support</a>"
   ]
  }
 ],
 "metadata": {
  "application/vnd.databricks.v1+notebook": {
   "dashboards": [],
   "environmentMetadata": null,
   "language": "python",
   "notebookMetadata": {
    "pythonIndentUnit": 4
   },
   "notebookName": "connecting-to-an-adls-gen2-storage-account",
   "widgets": {}
  }
 },
 "nbformat": 4,
 "nbformat_minor": 0
}

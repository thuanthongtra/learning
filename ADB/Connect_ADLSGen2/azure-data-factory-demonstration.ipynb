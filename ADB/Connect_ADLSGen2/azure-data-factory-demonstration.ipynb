{
 "cells": [
  {
   "cell_type": "markdown",
   "metadata": {
    "application/vnd.databricks.v1+cell": {
     "cellMetadata": {},
     "inputWidgets": {},
     "nuid": "445b07a3-74b0-4df4-9eef-5f5380a6aca2",
     "showTitle": false,
     "title": ""
    }
   },
   "source": [
    "\n",
    "<div style=\"text-align: center; line-height: 0; padding-top: 9px;\">\n",
    "  <img src=\"https://databricks.com/wp-content/uploads/2018/03/db-academy-rgb-1200px.png\" alt=\"Databricks Learning\" style=\"width: 600px\">\n",
    "</div>"
   ]
  },
  {
   "cell_type": "markdown",
   "metadata": {
    "application/vnd.databricks.v1+cell": {
     "cellMetadata": {},
     "inputWidgets": {},
     "nuid": "cab899b6-71fa-4eda-b04a-eb6b27990240",
     "showTitle": false,
     "title": ""
    }
   },
   "source": [
    "# Connecting to Azure Data Factory\n",
    "\n",
    "This notebook is designed to be scheduled as a job, but can also be run interactively.\n",
    "\n",
    "In this demo you will learn how to\n",
    "- Connect an Azure Data Factory instance to Azure Databricks.\n",
    "- Run a notebook as part of a pipeline.\n",
    "- View the return value of the notebook as an exit value in Azure Data Factory."
   ]
  },
  {
   "cell_type": "markdown",
   "metadata": {
    "application/vnd.databricks.v1+cell": {
     "cellMetadata": {},
     "inputWidgets": {},
     "nuid": "ffb9e93f-ba4e-4992-a752-2e09d1fcb99a",
     "showTitle": false,
     "title": ""
    }
   },
   "source": [
    "## Prerequisites\n",
    "\n",
    "If you would like to follow along with this demo, you will need:\n",
    "* Access to your Azure Portal with the ability to create an Azure Data Factory resource. \n",
    "* Account administrator capabilities in your Databricks account with access to create a user access token.\n",
    "* Access to or permissions to create a useable compute cluster for automation.\n",
    "\n",
    "The resources you will need include:\n",
    "* An Azure Data Factory resource in Azure.\n",
    "* An compute cluster in Azure Databricks."
   ]
  },
  {
   "cell_type": "markdown",
   "metadata": {
    "application/vnd.databricks.v1+cell": {
     "cellMetadata": {},
     "inputWidgets": {},
     "nuid": "7edde73b-eb4b-4eb6-bbb1-214a99af04ee",
     "showTitle": false,
     "title": ""
    }
   },
   "source": [
    "### Note: Widgets\n",
    "\n",
    "The [Databricks Utilities module](https://docs.databricks.com/dev-tools/databricks-utils.html) includes a number of methods to make notebooks more extensible and easier to take to production.\n",
    "\n",
    "The `widgets` submodule includes a number of methods to allow interactive variables to be set while working with notebooks in the workspace with an interactive cluster. To learn more about this functionality, refer to the [Databricks documentation](https://docs.databricks.com/notebooks/widgets.html#widgets).\n",
    "\n",
    "This notebook will focus on only two of these methods, emphasizing their utility when running a notebook as a job:\n",
    "1. `dbutils.widgets.text` accepts a parameter name and a default value. This is the method through which external values can be passed into scheduled notebooks.\n",
    "1. `dbutils.widgets.get` accepts a parameter name and retrieves the associated value from the widget with that parameter name."
   ]
  },
  {
   "cell_type": "markdown",
   "metadata": {
    "application/vnd.databricks.v1+cell": {
     "cellMetadata": {},
     "inputWidgets": {},
     "nuid": "1f44849b-b0f4-4207-8a7b-824d1fbda2a0",
     "showTitle": false,
     "title": ""
    }
   },
   "source": [
    "## Overview\n",
    "In the cell below, a text widget is created with the default value `\"default\"`. This widget expects values to be passed as strings.\n",
    "\n",
    "If you run this cell in an interactive notebook, you will see the widget populated with the default value at the top of the notebook. This can be manually manipulated."
   ]
  },
  {
   "cell_type": "code",
   "execution_count": 0,
   "metadata": {
    "application/vnd.databricks.v1+cell": {
     "cellMetadata": {},
     "inputWidgets": {},
     "nuid": "7ab4747e-062d-4113-9914-13850256e6e7",
     "showTitle": false,
     "title": ""
    }
   },
   "outputs": [],
   "source": [
    "%scala\n",
    "dbutils.widgets.text(\"ranBy\", \"default\")"
   ]
  },
  {
   "cell_type": "markdown",
   "metadata": {
    "application/vnd.databricks.v1+cell": {
     "cellMetadata": {},
     "inputWidgets": {},
     "nuid": "69508130-7818-4097-ae9a-aa70b1dc6fe6",
     "showTitle": false,
     "title": ""
    }
   },
   "source": [
    "The cell below retrieves the value currently associated with the widget and assigns it to a variable. Remember that this value will be passed as a string--be sure to cast it to the correct type if you wish to pass numeric values or use JSON to pass multiple fields. If no parameter is passed to the notebook when scheduling, the default value will be used."
   ]
  },
  {
   "cell_type": "code",
   "execution_count": 0,
   "metadata": {
    "application/vnd.databricks.v1+cell": {
     "cellMetadata": {},
     "inputWidgets": {},
     "nuid": "0b4f10b7-6da2-4931-b00d-b471bc2285b8",
     "showTitle": false,
     "title": ""
    }
   },
   "outputs": [],
   "source": [
    "%scala\n",
    "val ranBy = dbutils.widgets.get(\"ranBy\")"
   ]
  },
  {
   "cell_type": "markdown",
   "metadata": {
    "application/vnd.databricks.v1+cell": {
     "cellMetadata": {},
     "inputWidgets": {},
     "nuid": "12f174bd-1355-4bc8-8230-3264fd92179c",
     "showTitle": false,
     "title": ""
    }
   },
   "source": [
    "Taken together, `dbutils.widgets.text` allows the passing of external values and `dbutils.widgets.get` allows those values to be referenced."
   ]
  },
  {
   "cell_type": "markdown",
   "metadata": {
    "application/vnd.databricks.v1+cell": {
     "cellMetadata": {},
     "inputWidgets": {},
     "nuid": "facfee93-b346-49e1-9b86-99fb9226a65a",
     "showTitle": false,
     "title": ""
    }
   },
   "source": [
    "## Capturing the value\n",
    "The following code block writes a simple file that records the time the notebook was run and the value associated with the `\"ranBy\"` parameter/widget. The final line displays the full content of this file from all previous executions by the present user."
   ]
  },
  {
   "cell_type": "code",
   "execution_count": 0,
   "metadata": {
    "application/vnd.databricks.v1+cell": {
     "cellMetadata": {},
     "inputWidgets": {},
     "nuid": "0c74ee65-31e5-4edd-b25b-dd83fb506fd3",
     "showTitle": false,
     "title": ""
    }
   },
   "outputs": [],
   "source": [
    "%scala\n",
    "import org.apache.spark.sql.functions.{lit, unix_timestamp}\n",
    "import org.apache.spark.sql.types.TimestampType\n",
    "\n",
    "val tags = com.databricks.logging.AttributionContext.current.tags\n",
    "val username = tags.getOrElse(com.databricks.logging.BaseTagDefinitions.TAG_USER, java.util.UUID.randomUUID.toString.replace(\"-\", \"\"))\n",
    "val path = \"/users/\"+username+\"/runLog\"\n",
    "\n",
    "spark\n",
    "  .range(1)\n",
    "  .select(unix_timestamp.alias(\"runtime\").cast(TimestampType), lit(ranBy).alias(\"ranBy\"))\n",
    "  .write\n",
    "  .mode(\"APPEND\")\n",
    "  .parquet(path)\n",
    "\n",
    "display(spark.read.parquet(path))"
   ]
  },
  {
   "cell_type": "markdown",
   "metadata": {
    "application/vnd.databricks.v1+cell": {
     "cellMetadata": {},
     "inputWidgets": {},
     "nuid": "edb7c12c-49ba-4488-9186-c16d5fdfbb42",
     "showTitle": false,
     "title": ""
    }
   },
   "source": [
    "## Exit Value\n",
    "The `notebook` submodule contains only two methods. [Documentation here](https://docs.databricks.com/notebooks/notebook-workflows.html#notebook-workflows).\n",
    "1. `dbutils.notebook.run` allows you to call another notebook using a relative path.\n",
    "1. `dbutils.notebook.exit` allows you to return an exit value that can be captured and referenced by integrated scheduling services and APIs. While running in interactive mode, this is essentially a no-op as this value does not go anywhere."
   ]
  },
  {
   "cell_type": "markdown",
   "metadata": {
    "application/vnd.databricks.v1+cell": {
     "cellMetadata": {},
     "inputWidgets": {},
     "nuid": "91f3cb9e-c8c1-4be2-a7ad-855ec4194715",
     "showTitle": false,
     "title": ""
    }
   },
   "source": [
    "In the cell below, the value associated with the variable `path` is returned as the exit value."
   ]
  },
  {
   "cell_type": "code",
   "execution_count": 0,
   "metadata": {
    "application/vnd.databricks.v1+cell": {
     "cellMetadata": {},
     "inputWidgets": {},
     "nuid": "30d210bf-fc0e-40e8-b877-7a3894907308",
     "showTitle": false,
     "title": ""
    }
   },
   "outputs": [],
   "source": [
    "%scala\n",
    "dbutils.notebook.exit(path)"
   ]
  },
  {
   "cell_type": "markdown",
   "metadata": {
    "application/vnd.databricks.v1+cell": {
     "cellMetadata": {},
     "inputWidgets": {},
     "nuid": "982a47e3-3253-4500-b5cf-89cf5c552ce6",
     "showTitle": false,
     "title": ""
    }
   },
   "source": [
    "&copy; 2023 Databricks, Inc. All rights reserved.<br/>\n",
    "Apache, Apache Spark, Spark and the Spark logo are trademarks of the <a href=\"https://www.apache.org/\">Apache Software Foundation</a>.<br/>\n",
    "<br/>\n",
    "<a href=\"https://databricks.com/privacy-policy\">Privacy Policy</a> | <a href=\"https://databricks.com/terms-of-use\">Terms of Use</a> | <a href=\"https://help.databricks.com/\">Support</a>"
   ]
  }
 ],
 "metadata": {
  "application/vnd.databricks.v1+notebook": {
   "dashboards": [],
   "environmentMetadata": null,
   "language": "python",
   "notebookMetadata": {
    "pythonIndentUnit": 4
   },
   "notebookName": "azure-data-factory-demonstration",
   "widgets": {}
  }
 },
 "nbformat": 4,
 "nbformat_minor": 0
}

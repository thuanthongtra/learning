{
 "cells": [
  {
   "cell_type": "markdown",
   "metadata": {
    "application/vnd.databricks.v1+cell": {
     "cellMetadata": {},
     "inputWidgets": {},
     "nuid": "ba74fff0-062a-44c2-895e-6f128d3cd6af",
     "showTitle": false,
     "title": ""
    }
   },
   "source": [
    "# 1. Databricks and Apache Spark"
   ]
  },
  {
   "cell_type": "markdown",
   "metadata": {
    "application/vnd.databricks.v1+cell": {
     "cellMetadata": {},
     "inputWidgets": {},
     "nuid": "4a8abbea-9a31-485b-8665-c75bfb2dadf9",
     "showTitle": false,
     "title": ""
    }
   },
   "source": [
    "- **Row-Oriented data on disk (CSV):** data is stored in row wise basis (each record, ordered by column)\n",
    "- **Column-Oriented data on disk (Parquet, Delta, ORC):** data is stored in column wise basis (all data in column 1, all data in column 2... ordered by row)\n",
    "   - When we want to query column 1, 2, 3 then it only fetch those 3 column, not all like Row-Orientied\n",
    "   - It keeps statistics, metadata, etc. has compression built-in"
   ]
  },
  {
   "cell_type": "markdown",
   "metadata": {
    "application/vnd.databricks.v1+cell": {
     "cellMetadata": {},
     "inputWidgets": {},
     "nuid": "ae202664-c282-461d-b1ca-78b73af75260",
     "showTitle": false,
     "title": ""
    }
   },
   "source": []
  },
  {
   "cell_type": "markdown",
   "metadata": {
    "application/vnd.databricks.v1+cell": {
     "cellMetadata": {},
     "inputWidgets": {},
     "nuid": "b9349da3-7b6d-4a30-98ad-cbbd40150c15",
     "showTitle": false,
     "title": ""
    }
   },
   "source": []
  },
  {
   "cell_type": "markdown",
   "metadata": {
    "application/vnd.databricks.v1+cell": {
     "cellMetadata": {},
     "inputWidgets": {},
     "nuid": "4b4f0465-ca58-47cb-9ea0-82c26b5bff77",
     "showTitle": false,
     "title": ""
    }
   },
   "source": []
  },
  {
   "cell_type": "markdown",
   "metadata": {
    "application/vnd.databricks.v1+cell": {
     "cellMetadata": {},
     "inputWidgets": {},
     "nuid": "8f12cc19-ed9d-44db-ade4-5d7ea531bc77",
     "showTitle": false,
     "title": ""
    }
   },
   "source": []
  },
  {
   "cell_type": "markdown",
   "metadata": {
    "application/vnd.databricks.v1+cell": {
     "cellMetadata": {},
     "inputWidgets": {},
     "nuid": "67e855b2-41be-4f61-a706-e8ce7c556e62",
     "showTitle": false,
     "title": ""
    }
   },
   "source": []
  },
  {
   "cell_type": "markdown",
   "metadata": {
    "application/vnd.databricks.v1+cell": {
     "cellMetadata": {},
     "inputWidgets": {},
     "nuid": "9ebd3ce5-cfa1-443b-b3ff-f2e65ac2c117",
     "showTitle": false,
     "title": ""
    }
   },
   "source": []
  },
  {
   "cell_type": "markdown",
   "metadata": {
    "application/vnd.databricks.v1+cell": {
     "cellMetadata": {},
     "inputWidgets": {},
     "nuid": "7f0f116d-ec22-4da9-8b58-f1647c6125e4",
     "showTitle": false,
     "title": ""
    }
   },
   "source": []
  },
  {
   "cell_type": "markdown",
   "metadata": {
    "application/vnd.databricks.v1+cell": {
     "cellMetadata": {},
     "inputWidgets": {},
     "nuid": "f4c1e1a9-c253-4441-975d-f234a6895495",
     "showTitle": false,
     "title": ""
    }
   },
   "source": []
  },
  {
   "cell_type": "markdown",
   "metadata": {
    "application/vnd.databricks.v1+cell": {
     "cellMetadata": {},
     "inputWidgets": {},
     "nuid": "4688227e-2a79-4d93-9d35-23f093ed5c4f",
     "showTitle": false,
     "title": ""
    }
   },
   "source": []
  },
  {
   "cell_type": "markdown",
   "metadata": {
    "application/vnd.databricks.v1+cell": {
     "cellMetadata": {},
     "inputWidgets": {},
     "nuid": "7188677d-5d16-425a-86bd-2dbdd6dd0354",
     "showTitle": false,
     "title": ""
    }
   },
   "source": [
    "### Narrow vs Wide Transformation\n",
    "- Narrow Transformation: 1-1 Partition\n",
    "  - select, filter, cast, union\n",
    "  - Start with 1 memory partition, do transformations and data stay within the **same** memory partition\n",
    "- Wide Transformation: Causes Shuffle/Exchange\n",
    "  - distinct, groupBy, sort, join\n",
    "  - Redistribute data and then create **new** memory partitions\n",
    "  - Redistibuting or re-partitioning data so the data is grouped differently across partitions\n",
    "    - Based on data size we may need to decrease/increase the number of Shuffle partitions via ```spark.sql.shuffle.patitions```\n",
    "![Narrow vs Wide Transformation](./images/Narrow_And_Wide_Transformation.png)"
   ]
  }
 ],
 "metadata": {
  "application/vnd.databricks.v1+notebook": {
   "dashboards": [],
   "language": "python",
   "notebookMetadata": {
    "pythonIndentUnit": 4
   },
   "notebookName": "02_Apache_Spark_Programming_2",
   "widgets": {}
  },
  "kernelspec": {
   "display_name": "Python 3",
   "language": "python",
   "name": "python3"
  },
  "language_info": {
   "name": "python",
   "version": "3.11.3"
  }
 },
 "nbformat": 4,
 "nbformat_minor": 0
}

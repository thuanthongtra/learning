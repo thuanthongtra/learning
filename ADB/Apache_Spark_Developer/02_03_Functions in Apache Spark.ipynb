{
 "cells": [
  {
   "cell_type": "markdown",
   "metadata": {
    "application/vnd.databricks.v1+cell": {
     "cellMetadata": {},
     "inputWidgets": {},
     "nuid": "93166f77-66d3-43fd-bcd4-dfb4cf4f1476",
     "showTitle": false,
     "title": ""
    }
   },
   "source": [
    "# 3. Functions in Apache Spark"
   ]
  },
  {
   "cell_type": "markdown",
   "metadata": {
    "application/vnd.databricks.v1+cell": {
     "cellMetadata": {},
     "inputWidgets": {},
     "nuid": "e53e771d-40f1-46c3-a994-718a05ac7125",
     "showTitle": false,
     "title": ""
    }
   },
   "source": [
    "## Aggregations"
   ]
  },
  {
   "cell_type": "markdown",
   "metadata": {
    "application/vnd.databricks.v1+cell": {
     "cellMetadata": {},
     "inputWidgets": {},
     "nuid": "8143be98-9a17-46e7-9b3e-937a8aaaa740",
     "showTitle": false,
     "title": ""
    }
   },
   "source": [
    "### \"summary\" and \"describe\"\n",
    "![Summary and Describe](./images/Summary_Describe.png)\n"
   ]
  },
  {
   "cell_type": "markdown",
   "metadata": {
    "application/vnd.databricks.v1+cell": {
     "cellMetadata": {},
     "inputWidgets": {},
     "nuid": "0d3b9aa3-2de1-4566-b0b9-274bf1b2fd92",
     "showTitle": false,
     "title": ""
    }
   },
   "source": [
    "### format_number()\n",
    "![format_number](./images/format_number.png)\n"
   ]
  },
  {
   "cell_type": "markdown",
   "metadata": {
    "application/vnd.databricks.v1+cell": {
     "cellMetadata": {},
     "inputWidgets": {},
     "nuid": "55235741-dc63-4240-8c0c-9a3086bc7a6a",
     "showTitle": false,
     "title": ""
    }
   },
   "source": [
    "## DateTimes"
   ]
  },
  {
   "cell_type": "markdown",
   "metadata": {
    "application/vnd.databricks.v1+cell": {
     "cellMetadata": {},
     "inputWidgets": {},
     "nuid": "7f46b6d2-f342-4eeb-8362-5af43f8788ec",
     "showTitle": false,
     "title": ""
    }
   },
   "source": [
    "### Unix time\n",
    "- Unix time is a system for describing a point in time. It is the number of million seconds that have elapsed since Unix epoch. The Unix eposh is 00:00:00 UTC on 1 Jan 1970.\n",
    "  - ```\n",
    "    df2 = df1.withColumn(\"ts\", (col(\"unixtime\") / 1e6).cast(\"timestamp\"))\n",
    "    ```\n",
    "\n",
    "![Unix Timestamp](./images/Unix_Timestamp.png)"
   ]
  },
  {
   "cell_type": "markdown",
   "metadata": {
    "application/vnd.databricks.v1+cell": {
     "cellMetadata": {},
     "inputWidgets": {},
     "nuid": "d6bf8054-e946-4c06-b857-6b2cef3ceada",
     "showTitle": false,
     "title": ""
    }
   },
   "source": [
    "## Complex Types"
   ]
  },
  {
   "cell_type": "markdown",
   "metadata": {
    "application/vnd.databricks.v1+cell": {
     "cellMetadata": {},
     "inputWidgets": {},
     "nuid": "f7b7ee9e-1966-4799-8c4a-1d43b5c72803",
     "showTitle": false,
     "title": ""
    }
   },
   "source": [
    "## Additional Functions"
   ]
  }
 ],
 "metadata": {
  "application/vnd.databricks.v1+notebook": {
   "dashboards": [],
   "language": "python",
   "notebookMetadata": {
    "pythonIndentUnit": 4
   },
   "notebookName": "02_03_Functions in Apache Spark",
   "widgets": {}
  },
  "language_info": {
   "name": "python"
  }
 },
 "nbformat": 4,
 "nbformat_minor": 0
}

{
 "cells": [
  {
   "cell_type": "markdown",
   "metadata": {
    "application/vnd.databricks.v1+cell": {
     "cellMetadata": {},
     "inputWidgets": {},
     "nuid": "93166f77-66d3-43fd-bcd4-dfb4cf4f1476",
     "showTitle": false,
     "title": ""
    }
   },
   "source": [
    "# 1. Databricks and Apache Spark"
   ]
  },
  {
   "cell_type": "markdown",
   "metadata": {
    "application/vnd.databricks.v1+cell": {
     "cellMetadata": {},
     "inputWidgets": {},
     "nuid": "74862d66-c1fc-4b37-96d6-79333e23130a",
     "showTitle": false,
     "title": ""
    }
   },
   "source": [
    "- **Row-Oriented data on disk (CSV):** data is stored in row wise basis (each record, ordered by column)\n",
    "- **Column-Oriented data on disk (Parquet, Delta, ORC):** data is stored in column wise basis (all data in column 1, all data in column 2... ordered by row)\n",
    "  - When we want to query column 1, 2, 3 then it only fetch those 3 column, not all like Row-Orientied\n",
    "  - It keeps statistics, metadata, etc. has compression built-in"
   ]
  },
  {
   "cell_type": "code",
   "execution_count": 0,
   "metadata": {
    "application/vnd.databricks.v1+cell": {
     "cellMetadata": {},
     "inputWidgets": {},
     "nuid": "ed27b870-d18c-4601-aa11-2442229add9c",
     "showTitle": true,
     "title": "Parameterize via Widgets - Python"
    }
   },
   "outputs": [],
   "source": [
    "dbultils.widgets.text(\"Text\", \"Hello World!\")\n",
    "dbultils.widgets.dropdown(\"Dropdown\", \"1\", [str (x) for x in rang(1,10)])\n",
    "dbultils.widgets.combobox(\"Combobox\", \"A\", [\"A\", \"B\", \"C\"])\n",
    "dbultils.widgets.multiselect(\"Multiselect\", \"Yes\", [\"Yes\", \"No\", \"Maybe\"])"
   ]
  },
  {
   "cell_type": "code",
   "execution_count": 0,
   "metadata": {
    "application/vnd.databricks.v1+cell": {
     "cellMetadata": {},
     "inputWidgets": {},
     "nuid": "838d37fc-60bb-45eb-bf30-0d2b20b4cd74",
     "showTitle": true,
     "title": "Parameterize via Widgets - SQL"
    }
   },
   "outputs": [],
   "source": [
    "%sql\n",
    "CREATE WIDGET TEXT state DEFAULT \"CA\""
   ]
  }
 ],
 "metadata": {
  "application/vnd.databricks.v1+notebook": {
   "dashboards": [],
   "environmentMetadata": null,
   "language": "python",
   "notebookMetadata": {
    "pythonIndentUnit": 4
   },
   "notebookName": "02_01_Databricks and Apache Spark",
   "widgets": {}
  },
  "language_info": {
   "name": "python"
  }
 },
 "nbformat": 4,
 "nbformat_minor": 0
}

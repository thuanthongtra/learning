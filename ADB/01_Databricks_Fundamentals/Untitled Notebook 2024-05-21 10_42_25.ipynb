{
 "cells": [
  {
   "cell_type": "markdown",
   "metadata": {
    "application/vnd.databricks.v1+cell": {
     "cellMetadata": {},
     "inputWidgets": {},
     "nuid": "008729fe-e88c-45f6-bd86-f04f0affc644",
     "showTitle": false,
     "title": ""
    }
   },
   "source": [
    "# History of Data Mgmt Platform"
   ]
  },
  {
   "cell_type": "markdown",
   "metadata": {
    "application/vnd.databricks.v1+cell": {
     "cellMetadata": {},
     "inputWidgets": {},
     "nuid": "31a68239-0b78-4d94-98cd-8de78f97df33",
     "showTitle": false,
     "title": ""
    }
   },
   "source": [
    "## Data Warehouse\n",
    "- In late 1980s, businesses need more than relational databases --> data warehouse\n",
    "\n",
    "**Pros:**\n",
    "- Business Intelligence (BI)\n",
    "- Analytics\n",
    "- Structured & clean data\n",
    "- Predefined schemas\n",
    "\n",
    "**Cons:**\n",
    "- No support for semi or unstructured data\n",
    "- Inflexible schemas\n",
    "- Struggle with volumne and velocity upsticks\n",
    "- Long processing time"
   ]
  },
  {
   "cell_type": "markdown",
   "metadata": {
    "application/vnd.databricks.v1+cell": {
     "cellMetadata": {},
     "inputWidgets": {},
     "nuid": "bacb5302-5864-4237-9333-4ce3c4b3f5a5",
     "showTitle": false,
     "title": ""
    }
   },
   "source": [
    "## Data Lakes\n",
    "- In early 2000s, Big Data explosion --> Data Lake\n",
    "\n",
    "**Pros:**\n",
    "- Flexible data storage\n",
    "- Streaming support\n",
    "- Cost efficient in the cloud\n",
    "- Support for AI and ML\n",
    "\n",
    "**Cons:**\n",
    "- No transactional support\n",
    "  - Poor data reliability, data quality\n",
    "- Slow analysis performance\n",
    "- Data Gov concerns security, privacy\n",
    "- Data warehouses still needed"
   ]
  },
  {
   "cell_type": "markdown",
   "metadata": {
    "application/vnd.databricks.v1+cell": {
     "cellMetadata": {},
     "inputWidgets": {},
     "nuid": "d781c0a6-a219-47ae-836d-c9ecfab52b7d",
     "showTitle": false,
     "title": ""
    }
   },
   "source": [
    "## Data Lakehouse\n",
    "- In 2021, advent of Lakehouse architect paradigm\n",
    "- An open unified foundation for all data\n",
    "\n",
    "![Data Lakehouse Overview](./images/Data_Lakehouse_Overview.npg)\n",
    "\n",
    "- It combines the benefits of Data Lake and analytical power of Data Warehouse\n",
    "- It is built on top of Data Lake = all datatypes to be stored together = **1 unified source of truth**\n",
    "- It provides direct access for BI and AI to work together with **unified security, governance and cataloging components**"
   ]
  },
  {
   "cell_type": "markdown",
   "metadata": {
    "application/vnd.databricks.v1+cell": {
     "cellMetadata": {},
     "inputWidgets": {},
     "nuid": "e9cf02a4-2632-465c-83d3-c961e830a3f2",
     "showTitle": false,
     "title": ""
    }
   },
   "source": [
    "### Key features:\n",
    "- **Transactional support:** access transactions for concurent read/write interactions\n",
    "- **Schema enforcement and governance:** for data integrity and auditing needs\n",
    "- **Data governance:** for data privacy regulations and data use metrics\n",
    "- **BI support:** reduces latency of obtaining data and drawing insights\n",
    "- **Decouple storage from compute:** each operation on its own cluster, allowing to scale independently\n",
    "- **Open storage formats:** apache parquet, so variety of tools can access and manipulate data\n",
    "- **Support for diverse data types:** structured, semi-structured, unstructured\n",
    "- **Support for diverse workloads:** DE, ML, AI workloads\n",
    "- **End-to-end streaming**: for real-time reports, remove the need of intermediate systems"
   ]
  },
  {
   "cell_type": "markdown",
   "metadata": {
    "application/vnd.databricks.v1+cell": {
     "cellMetadata": {},
     "inputWidgets": {},
     "nuid": "79d72069-3062-41e9-bc71-97bb4767188c",
     "showTitle": false,
     "title": ""
    }
   },
   "source": [
    "## Data Intelligence Platform\n",
    "![Data Intelligence Platform](./images/Data_Intelligence_Platform.npg)\n",
    "\n",
    "Data Intelligence Platform is built on the foundation of Data Lakehouse\n",
    "\n",
    "![Data Lakehouse With Generative AI](./images/Data_Lakehouse_With_Generative_AI.npg)\n",
    "- Now the Lakehouse has Generative AI available to support all areas of work\n",
    "  - Generative AI understands the sematic of the data and then infuse it throughout the whole platform\n"
   ]
  }
 ],
 "metadata": {
  "application/vnd.databricks.v1+notebook": {
   "dashboards": [],
   "environmentMetadata": null,
   "language": "python",
   "notebookMetadata": {
    "pythonIndentUnit": 4
   },
   "notebookName": "Untitled Notebook 2024-05-21 10_42_25",
   "widgets": {}
  }
 },
 "nbformat": 4,
 "nbformat_minor": 0
}

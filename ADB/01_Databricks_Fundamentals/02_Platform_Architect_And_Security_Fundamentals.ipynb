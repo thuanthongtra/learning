{
 "cells": [
  {
   "cell_type": "markdown",
   "metadata": {
    "application/vnd.databricks.v1+cell": {
     "cellMetadata": {},
     "inputWidgets": {},
     "nuid": "3793c3cc-a8a5-4ed5-98bf-8e874e06fb27",
     "showTitle": false,
     "title": ""
    }
   },
   "source": [
    "# Platform Architecture Overview"
   ]
  },
  {
   "cell_type": "markdown",
   "metadata": {
    "application/vnd.databricks.v1+cell": {
     "cellMetadata": {},
     "inputWidgets": {},
     "nuid": "e4c0c416-c2d9-47a7-9084-c55c977a2fb6",
     "showTitle": false,
     "title": ""
    }
   },
   "source": [
    "## Data Intelligence and Delta Lake\n",
    "![Data Intelligence and Delta Lake](./images/Data_Intelligence_and_Delta_Lake.png)\n",
    "\n",
    "**Delta Lake** is file-based open source storage format\n",
    "- ACID transaction guarantees\n",
    "- Scalable data and metadata handling: leveraging Spark to scale out all metadata processing and handling metadata for metabyte scale table\n",
    "- Audit history and time travel: using transaction logs with details of any transaction\n",
    "- Schema enforcement and schema evolution: preventing the insertions of data with mismatched schema and allow to explicitly change table schema\n",
    "- Support for deletes, updates and merges\n",
    "- Unified streaming and batch data processing"
   ]
  },
  {
   "cell_type": "markdown",
   "metadata": {
    "application/vnd.databricks.v1+cell": {
     "cellMetadata": {},
     "inputWidgets": {},
     "nuid": "63762a17-1ad5-4410-b78b-553abb69e07d",
     "showTitle": false,
     "title": ""
    }
   },
   "source": [
    "## Data Intelligence and Unity Catalog\n",
    "\n",
    "![Data Intelligence and Unity Catalog](./images/Data_Intelligence_and_Unity_Catalog.png)\n",
    "\n",
    "**Unity Catalog:**\n",
    "1. Unified view of data and AI estate:\n",
    "\n",
    "![Unity_Catalog_1_Unified_View](./images/Unity_Catalog_1_Unified_View.png)\n",
    "    \n",
    "  - **Discover, classify and organize** structure and unstructured data as well as notebooks, ML models, ML features and arbitrary files at 1 place\n",
    "  - Leverage **data federation** to register and query data from external data sources without ingestion, expanding analysis capabilities\n",
    "  - Drive better data understanding and faster insights with efficient **tag-based search**\n",
    "\n",
    "2. Single permission model for data and AI:\n",
    "\n",
    "![Unity_Catalog_2_Single_Permission_Model](./images/Unity_Catalog_2_Single_Permission_Model.png)\n",
    "  \n",
    "  - Secure data estate with a **unified interface** for managing access policies across all data and AI assets\n",
    "  - Enable **fine-grained access controls** on rows and columns for enhanced security\n",
    "  - Access data securely from diverse computing platforms using **open interfaces**\n",
    "\n",
    "3. AI-driven monitoring and reporting\n",
    "\n",
    "![Unity_Catalog_3_AI_Driven](./images/Unity_Catalog_3_AI_Driven.png)\n",
    "\n",
    "  - Receive **proactive alerts** for quality issues and errors in data and ML model pipelines\n",
    "  - Access **real-time data lineage** down to the column level for efficient root cause analysis and error debugging\n",
    "  - Utilize **auto-generated** dashboards to easily share data and ML quality reports\n",
    "  - Gain a clear **end-to-end view** on data flow and consumption, ensuring compliance and audit readiness\n",
    "\n",
    "4. Open data sharing and collaboration"
   ]
  },
  {
   "cell_type": "markdown",
   "metadata": {
    "application/vnd.databricks.v1+cell": {
     "cellMetadata": {},
     "inputWidgets": {},
     "nuid": "0d613b89-d2ac-40b9-aa5d-d2db78e4296e",
     "showTitle": false,
     "title": ""
    }
   },
   "source": [
    "# Data Governance\n",
    "**Data Governace:** includes the principle practises and tools to manage organization's data assets. It helps: \n",
    "  - Understanding who has access to what data\n",
    "  - Auditing accesses\n",
    "  - Understanding how data is used in business\n",
    "  - Aligning with business strategy to ensure data compliance, security, quality and visibility"
   ]
  },
  {
   "cell_type": "markdown",
   "metadata": {
    "application/vnd.databricks.v1+cell": {
     "cellMetadata": {},
     "inputWidgets": {},
     "nuid": "a7e2fa26-09b6-49f4-bb2a-e8f0f40a15d5",
     "showTitle": false,
     "title": ""
    }
   },
   "source": [
    "## Key Elements\n",
    "**Data Governace** has 8 components\n",
    "\n",
    "![Data_Governance_Key_Elements](./images/Data_Governance_Key_Elements.png)"
   ]
  },
  {
   "cell_type": "markdown",
   "metadata": {
    "application/vnd.databricks.v1+cell": {
     "cellMetadata": {},
     "inputWidgets": {},
     "nuid": "2cf277c0-b5e1-4b64-becc-8518a8b1fedf",
     "showTitle": false,
     "title": ""
    }
   },
   "source": [
    "## Data Governance Complexity\n",
    "\n",
    "![Data_Governance_Complex](./images/Data_Governance_Complex.png)\n",
    "|Issues                                 |Consequences                                     |UC decreases the complexity              |\n",
    "|---------------------------------------|-------------------------------------------------|-----------------------------------------|\n",
    "|Fragmented view of the data estate     |Reduced pace of innovation                       |Unified view of the data estate          |\n",
    "|Multiple tools for access mgmt         |Increased data breach risk, operational expenses |Single permissions model for data and AI |\n",
    "|Incomplete monitoring & visibility     |Non-compliance risk, reputation harm             |AI powered monitoring & reporting        |\n",
    "|Lake of cross-platform data sharing    |Costly data sharing, untapped monetization       |Delta Sharing built into the platform    |\n",
    "\n"
   ]
  },
  {
   "cell_type": "markdown",
   "metadata": {
    "application/vnd.databricks.v1+cell": {
     "cellMetadata": {},
     "inputWidgets": {},
     "nuid": "5196ac21-45cb-46a9-a7a9-a7156289d931",
     "showTitle": false,
     "title": ""
    }
   },
   "source": [
    "## Data Governance With/Without Intelligence"
   ]
  },
  {
   "cell_type": "markdown",
   "metadata": {
    "application/vnd.databricks.v1+cell": {
     "cellMetadata": {},
     "inputWidgets": {},
     "nuid": "49395ca9-4cf9-421b-bb00-89defc2ac922",
     "showTitle": false,
     "title": ""
    }
   },
   "source": [
    "## AI Helps"
   ]
  },
  {
   "cell_type": "markdown",
   "metadata": {
    "application/vnd.databricks.v1+cell": {
     "cellMetadata": {},
     "inputWidgets": {},
     "nuid": "4d7565bb-efcb-478d-99a3-afddb4185db1",
     "showTitle": false,
     "title": ""
    }
   },
   "source": [
    "### Find and Discover Data & AI Assets\n",
    "\n",
    "![AI_Find_Discover_Data_AI_Assets](./images/AI_Find_Discover_Data_AI_Assets.png)"
   ]
  },
  {
   "cell_type": "markdown",
   "metadata": {
    "application/vnd.databricks.v1+cell": {
     "cellMetadata": {},
     "inputWidgets": {},
     "nuid": "96e3d27d-6306-4d75-bc1c-51a71ee7e903",
     "showTitle": false,
     "title": ""
    }
   },
   "source": [
    "### Enhance Data Documentation\n",
    "\n",
    "![AI_Enhance_Data_Documentation](./images/AI_Enhance_Data_Documentation.png)"
   ]
  },
  {
   "cell_type": "markdown",
   "metadata": {
    "application/vnd.databricks.v1+cell": {
     "cellMetadata": {},
     "inputWidgets": {},
     "nuid": "7fd5b19d-3ee2-4dbb-a0a9-4f83040c737b",
     "showTitle": false,
     "title": ""
    }
   },
   "source": [
    "### Automate Lineage for Workloads\n",
    "\n",
    "![AI_Automate_Lineage_Workloads](./images/AI_Automate_Lineage_Workloads.png)"
   ]
  },
  {
   "cell_type": "markdown",
   "metadata": {
    "application/vnd.databricks.v1+cell": {
     "cellMetadata": {},
     "inputWidgets": {},
     "nuid": "f506ce4e-d41f-450b-ad37-3bed92bd6ee2",
     "showTitle": false,
     "title": ""
    }
   },
   "source": [
    "### Monitor & Observe\n",
    "\n",
    "![AI_Monitor_Observe.png](./images/AI_Monitor_Observe.png)\n"
   ]
  },
  {
   "cell_type": "markdown",
   "metadata": {
    "application/vnd.databricks.v1+cell": {
     "cellMetadata": {},
     "inputWidgets": {},
     "nuid": "0a1c16c5-1e54-48bd-a204-84c50e51c338",
     "showTitle": false,
     "title": ""
    }
   },
   "source": [
    "## Delta Sharing \n",
    "![Delta_Sharing_Icon.png](./images/Delta_Sharing_Icon.png)\n",
    "- **Open cross-platform sharing:**\n",
    "  - Easily share parquet and delta format data, without establish new ingestion processes to consume data\n",
    "  - Has **native integration** with Power BI, Tableau, Spark, Pandas and Java\n",
    "- **Share live data without copying it:**\n",
    "  - Data is maintained on the Provider in Data Lake, ensuring data is reliable in real-time and provides most current data to the Recipient\n",
    "- **Centralized administration & governance:**\n",
    "  - Data is governanced, tracked and audited in 1 single place\n",
    "  - Allow to monitor data at table, partition and version level\n",
    "- **Marketplace for data products:**\n",
    "  - Build and package data products through a marketplace for distribution anywhere \n",
    "- **Privacy-safe data clean rooms:**\n",
    "  - Collaboration between data Provider and Recipient is hosted in secured environment\n",
    "- **Avoid vendor lock-in:** seamless data sharing across clouds, regions and platforms without replication\n",
    "- **Share more than just data:** notebooks, ML models, dashboards"
   ]
  },
  {
   "cell_type": "markdown",
   "metadata": {
    "application/vnd.databricks.v1+cell": {
     "cellMetadata": {},
     "inputWidgets": {},
     "nuid": "2fbbe13c-6738-4280-aaec-c3ebc7f81e2d",
     "showTitle": false,
     "title": ""
    }
   },
   "source": [
    "## Databricks Marketplace\n",
    "\n",
    "![Marketplace_Provider_Consumer.png](./images/Marketplace_Provider_Consumer.png)\n",
    "- It is open marketplace for all data, analytics and AI, powered by **Delta Sharing**\n",
    "- It provides more than data:\n",
    "\n",
    "![Marketplace_Provide_More_Than_Data.png](./images/Marketplace_Provide_More_Than_Data.png)\n"
   ]
  },
  {
   "cell_type": "markdown",
   "metadata": {
    "application/vnd.databricks.v1+cell": {
     "cellMetadata": {},
     "inputWidgets": {},
     "nuid": "847f89d0-a76b-407d-aa75-2e85c9e01b5e",
     "showTitle": false,
     "title": ""
    }
   },
   "source": [
    "## Databricks Clean Room\n",
    "- Different business units of organization run computation on joined data\n",
    "- Setup sercured way, data owner can share datasets and collaborators can run on mutually approved computation in a single space\n",
    "- Backed by Delta Sharing, business units don't need to replicate data into the clean room\n",
    "\n",
    "![Databricks_Clean_Room.png](./images/Databricks_Clean_Room.png)"
   ]
  },
  {
   "cell_type": "markdown",
   "metadata": {
    "application/vnd.databricks.v1+cell": {
     "cellMetadata": {},
     "inputWidgets": {},
     "nuid": "e1b96209-cdf4-452e-88c6-72ecef51df8f",
     "showTitle": false,
     "title": ""
    }
   },
   "source": [
    "# Security, Reliability and Performance"
   ]
  }
 ],
 "metadata": {
  "application/vnd.databricks.v1+notebook": {
   "dashboards": [],
   "environmentMetadata": null,
   "language": "python",
   "notebookMetadata": {
    "pythonIndentUnit": 4
   },
   "notebookName": "02_Platform_Architect_And_Security_Fundamentals",
   "widgets": {}
  }
 },
 "nbformat": 4,
 "nbformat_minor": 0
}

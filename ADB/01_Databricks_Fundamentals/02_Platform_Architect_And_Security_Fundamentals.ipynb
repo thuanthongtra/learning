{
 "cells": [
  {
   "cell_type": "markdown",
   "metadata": {
    "application/vnd.databricks.v1+cell": {
     "cellMetadata": {},
     "inputWidgets": {},
     "nuid": "3793c3cc-a8a5-4ed5-98bf-8e874e06fb27",
     "showTitle": false,
     "title": ""
    }
   },
   "source": [
    "# Platform Architecture Overview"
   ]
  },
  {
   "cell_type": "markdown",
   "metadata": {
    "application/vnd.databricks.v1+cell": {
     "cellMetadata": {},
     "inputWidgets": {},
     "nuid": "e4c0c416-c2d9-47a7-9084-c55c977a2fb6",
     "showTitle": false,
     "title": ""
    }
   },
   "source": [
    "## Data Intelligence and Delta Lake\n",
    "![Data Intelligence and Delta Lake](./images/Data_Intelligence_and_Delta_Lake.png)\n",
    "\n",
    "**Delta Lake** is file-based open source storage format\n",
    "- ACID transaction guarantees\n",
    "- Scalable data and metadata handling: leveraging Spark to scale out all metadata processing and handling metadata for metabyte scale table\n",
    "- Audit history and time travel: using transaction logs with details of any transaction\n",
    "- Schema enforcement and schema evolution: preventing the insertions of data with mismatched schema and allow to explicitly change table schema\n",
    "- Support for deletes, updates and merges\n",
    "- Unified streaming and batch data processing"
   ]
  },
  {
   "cell_type": "markdown",
   "metadata": {
    "application/vnd.databricks.v1+cell": {
     "cellMetadata": {},
     "inputWidgets": {},
     "nuid": "63762a17-1ad5-4410-b78b-553abb69e07d",
     "showTitle": false,
     "title": ""
    }
   },
   "source": [
    "## Data Intelligence and Unity Catalog\n",
    "\n",
    "![Data Intelligence and Unity Catalog](./images/Data_Intelligence_and_Unity_Catalog.png)\n",
    "\n",
    "**Unity Catalog:**\n",
    "1. Unified view of data and AI estate:\n",
    "\n",
    "![Unity_Catalog_2_Single_Permission_Model](./images/Unity_Catalog_2_Single_Permission_Model.png)\n",
    "    \n",
    "  - **Discover, classify and organize** structure and unstructured data as well as notebooks, ML models, ML features and arbitrary files at 1 place\n",
    "  - Leverage **data federation** to register and query data from external data sources without ingestion, expanding analysis capabilities\n",
    "  - Drive better data understanding and faster insights with efficient **tag-based search**\n",
    "\n",
    "2. Single permission model for data and AI:\n",
    "\n",
    "![Unity_Catalog_2_Single_Permission_Model](./images/Unity_Catalog_2_Single_Permission_Model.png)\n",
    "  \n",
    "  - Secure data estate with a **unified interface** for managing access policies across all data and AI assets\n",
    "  - Enable **fine-grained access controls** on rows and columns for enhanced security\n",
    "  - Access data securely from diverse computing platforms using **open interfaces**\n",
    "\n",
    "3. AI-driven monitoring and reporting\n",
    "\n",
    "![Unity_Catalog_3_AI_Driven](./images/Unity_Catalog_3_AI_Driven.png)\n",
    "\n",
    "  - Receive **proactive alerts** for quality issues and errors in data and ML model pipelines\n",
    "  - Access **real-time data lineage** down to the column level for efficient root cause analysis and error debugging\n",
    "  - Utilize **auto-generated** dashboards to easily share data and ML quality reports\n",
    "  - Gain a clear **end-to-end view** on data flow and consumption, ensuring compliance and audit readiness\n",
    "\n",
    "4. Open data sharing and collaboration"
   ]
  },
  {
   "cell_type": "markdown",
   "metadata": {
    "application/vnd.databricks.v1+cell": {
     "cellMetadata": {},
     "inputWidgets": {},
     "nuid": "0d613b89-d2ac-40b9-aa5d-d2db78e4296e",
     "showTitle": false,
     "title": ""
    }
   },
   "source": [
    "# Data Governance"
   ]
  },
  {
   "cell_type": "code",
   "execution_count": 0,
   "metadata": {
    "application/vnd.databricks.v1+cell": {
     "cellMetadata": {},
     "inputWidgets": {},
     "nuid": "a7e2fa26-09b6-49f4-bb2a-e8f0f40a15d5",
     "showTitle": false,
     "title": ""
    }
   },
   "outputs": [],
   "source": []
  },
  {
   "cell_type": "code",
   "execution_count": 0,
   "metadata": {
    "application/vnd.databricks.v1+cell": {
     "cellMetadata": {},
     "inputWidgets": {},
     "nuid": "2cf277c0-b5e1-4b64-becc-8518a8b1fedf",
     "showTitle": false,
     "title": ""
    }
   },
   "outputs": [],
   "source": []
  },
  {
   "cell_type": "code",
   "execution_count": 0,
   "metadata": {
    "application/vnd.databricks.v1+cell": {
     "cellMetadata": {},
     "inputWidgets": {},
     "nuid": "ab01dab6-32f3-4dbf-94a9-7ed1ca7ef485",
     "showTitle": false,
     "title": ""
    }
   },
   "outputs": [],
   "source": []
  },
  {
   "cell_type": "markdown",
   "metadata": {
    "application/vnd.databricks.v1+cell": {
     "cellMetadata": {},
     "inputWidgets": {},
     "nuid": "e1b96209-cdf4-452e-88c6-72ecef51df8f",
     "showTitle": false,
     "title": ""
    }
   },
   "source": [
    "# Security, Reliability and Performance"
   ]
  }
 ],
 "metadata": {
  "application/vnd.databricks.v1+notebook": {
   "dashboards": [],
   "environmentMetadata": null,
   "language": "python",
   "notebookMetadata": {
    "pythonIndentUnit": 4
   },
   "notebookName": "02_Platform_Architect_And_Security_Fundamentals",
   "widgets": {}
  }
 },
 "nbformat": 4,
 "nbformat_minor": 0
}

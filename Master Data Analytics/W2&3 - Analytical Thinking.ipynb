{
 "cells": [
  {
   "cell_type": "markdown",
   "metadata": {
    "application/vnd.databricks.v1+cell": {
     "cellMetadata": {},
     "inputWidgets": {},
     "nuid": "07805d60-231c-4e47-8a33-463194242e1f",
     "showTitle": false,
     "tableResultSettingsMap": {},
     "title": ""
    }
   },
   "source": [
    "# BI Overview\n",
    "\n",
    "![](./images/W2/BI_Overview.png)"
   ]
  },
  {
   "cell_type": "markdown",
   "metadata": {
    "application/vnd.databricks.v1+cell": {
     "cellMetadata": {},
     "inputWidgets": {},
     "nuid": "96f7a7fe-4cc9-4f4b-b49f-7d531bb37b0e",
     "showTitle": false,
     "tableResultSettingsMap": {},
     "title": ""
    }
   },
   "source": [
    "## 3 Level of Analytical Thinking\n",
    "\n",
    "![](./images/W2/Analytical_Thinking.png)"
   ]
  },
  {
   "cell_type": "markdown",
   "metadata": {
    "application/vnd.databricks.v1+cell": {
     "cellMetadata": {},
     "inputWidgets": {},
     "nuid": "7e5e6bc6-59a6-4a7b-a51c-b034b66c5531",
     "showTitle": false,
     "tableResultSettingsMap": {},
     "title": ""
    }
   },
   "source": [
    "## 1 Way of Thinking\n",
    "- Same direction\n",
    "- No duplication\n",
    "\n",
    "![](./images/W2/Problem_Solving.png)"
   ]
  },
  {
   "cell_type": "markdown",
   "metadata": {
    "application/vnd.databricks.v1+cell": {
     "cellMetadata": {},
     "inputWidgets": {},
     "nuid": "44d74605-e2d6-4ea8-877d-6d8e5f62e6ec",
     "showTitle": false,
     "tableResultSettingsMap": {},
     "title": ""
    }
   },
   "source": [
    "## From Data to Story Process\n",
    "\n",
    "![](./images/W2/Data_To_Story_Process.png)\n",
    "- **Context/Big Picture:** understand the:\n",
    "  - Current situations\n",
    "  - Questions that we are going to answer\n",
    "  - Do we have neccessary data?"
   ]
  },
  {
   "cell_type": "markdown",
   "metadata": {
    "application/vnd.databricks.v1+cell": {
     "cellMetadata": {},
     "inputWidgets": {},
     "nuid": "4e03a171-f15c-4437-a12c-e071e09d64ce",
     "showTitle": false,
     "tableResultSettingsMap": {},
     "title": ""
    }
   },
   "source": [
    "# Data Analytics Problem Solving"
   ]
  },
  {
   "cell_type": "markdown",
   "metadata": {
    "application/vnd.databricks.v1+cell": {
     "cellMetadata": {},
     "inputWidgets": {},
     "nuid": "bc7cd6fb-c4f8-424f-86dd-69323259a38e",
     "showTitle": false,
     "tableResultSettingsMap": {},
     "title": ""
    }
   },
   "source": [
    "## Understanding the Context\n",
    "**Frameworks for converting business problem into data problem**\n",
    "![](./images/W2/Convert_Bus_To_Data.png)\n"
   ]
  },
  {
   "cell_type": "markdown",
   "metadata": {
    "application/vnd.databricks.v1+cell": {
     "cellMetadata": {},
     "inputWidgets": {},
     "nuid": "151cdcd9-5a6e-47df-b366-a29011bda201",
     "showTitle": false,
     "tableResultSettingsMap": {},
     "title": ""
    }
   },
   "source": [
    "**Approach:** answer those questions\n",
    "1. Make sense?\n",
    "    - Listen to user's problems\n",
    "    - Re-confirm are they correct/valid?\n",
    "2. Relevent?\n",
    "    - Match with company's (or team's) goals\n",
    "3. Impact?\n",
    "    - Prioritize what to do first, what data available"
   ]
  },
  {
   "cell_type": "markdown",
   "metadata": {
    "application/vnd.databricks.v1+cell": {
     "cellMetadata": {},
     "inputWidgets": {},
     "nuid": "fb1b5f17-cb56-4c1d-ba9c-74ac1e6bb82a",
     "showTitle": false,
     "tableResultSettingsMap": {},
     "title": ""
    }
   },
   "source": [
    "**Example:**\n",
    "![](./images/W2/Convert_Bus_To_Data_Example.png)\n",
    "- What --> **revenue**\n",
    "- How much to increase --> **x%**\n",
    "- When --> next **y months**\n",
    "- Who --> focus on **existing customers** who would make **cross-sell**"
   ]
  },
  {
   "cell_type": "markdown",
   "metadata": {
    "application/vnd.databricks.v1+cell": {
     "cellMetadata": {},
     "inputWidgets": {},
     "nuid": "16a15375-195f-4dc5-918e-c0537d6e49ec",
     "showTitle": false,
     "tableResultSettingsMap": {},
     "title": ""
    }
   },
   "source": [
    "## Part 1: Logic Tree Fundamentals"
   ]
  },
  {
   "cell_type": "markdown",
   "metadata": {
    "application/vnd.databricks.v1+cell": {
     "cellMetadata": {},
     "inputWidgets": {},
     "nuid": "15d767ea-4c27-474e-8008-67dcacbafcba",
     "showTitle": false,
     "tableResultSettingsMap": {},
     "title": ""
    }
   },
   "source": [
    "### Overview\n",
    "**Logic tree:** is the most fundamental tool to structure and solve problem in a systematic way\n",
    "\n",
    "![](./images/W2/Logic_Tree_Overview.png)"
   ]
  },
  {
   "cell_type": "markdown",
   "metadata": {
    "application/vnd.databricks.v1+cell": {
     "cellMetadata": {},
     "inputWidgets": {},
     "nuid": "aeb837d5-cf4c-4200-9320-6e4d18c80dbb",
     "showTitle": false,
     "tableResultSettingsMap": {},
     "title": ""
    }
   },
   "source": [
    "### 4 Things\n",
    "1. They are a **map** of the problem\n",
    "    - Add structures (forced constraints) --> freely to tackle each part without worrying missing something\n",
    "    - Team brainstorming = different lenses and cleaving frames\n",
    "    ![](./images/W2/Map.png)\n",
    "\n",
    "2. Issue Trees are tool for **dividing and conquering**\n",
    "    - List possibilities, variables with **_Issue Tree_**, otherwise:\n",
    "      - Incomplete list of possible hypotheses\n",
    "      - HUGE list with hundreds or thousands of hypotheses\n",
    "\n",
    "3. Issue Trees are excellent for **prioritization**\n",
    "    - For **_Issue Trees_**, is **data available** to address data issue?\n",
    "    - For **_Solution Tree_**, does solution have **more impact** than other solution?\n",
    "    - **Result:** building short/mid/long term solutions\n",
    "    ![](./images/W2/Prioritization.png)  \n",
    "\n",
    "4. Can have **problem trees** and **solution trees**"
   ]
  },
  {
   "cell_type": "markdown",
   "metadata": {
    "application/vnd.databricks.v1+cell": {
     "cellMetadata": {},
     "inputWidgets": {},
     "nuid": "b2769d40-1b94-4004-8a99-1624117d5d63",
     "showTitle": false,
     "tableResultSettingsMap": {},
     "title": ""
    }
   },
   "source": [
    "**Example 4 things:** looking for reason why employees left the company\n",
    "- **1 & 2:** build the map and divide based on Demography, Working Times, Salaries, etc.\n",
    "  \n",
    "  ![](./images/W2/4Things_Example_1.png)\n",
    "\n",
    "- **3:** get prioritized influences --> **focus on Age**\n",
    "  \n",
    "  ![](./images/W2/4Things_Example_2.png)\n",
    "\n",
    "- **4:** have 2 types of trees\n",
    "  \n",
    "  ![](./images/W2/Solution_Logic.png)  "
   ]
  },
  {
   "cell_type": "markdown",
   "metadata": {
    "application/vnd.databricks.v1+cell": {
     "cellMetadata": {},
     "inputWidgets": {},
     "nuid": "578d3291-7e32-4cb6-8fe5-f854e19132b4",
     "showTitle": false,
     "tableResultSettingsMap": {},
     "title": ""
    }
   },
   "source": [
    "## Part 2: Techniques to Build Logic Trees"
   ]
  },
  {
   "cell_type": "markdown",
   "metadata": {
    "application/vnd.databricks.v1+cell": {
     "cellMetadata": {},
     "inputWidgets": {},
     "nuid": "ad63d5db-c790-431a-8fc8-9aded1ac8422",
     "showTitle": false,
     "tableResultSettingsMap": {},
     "title": ""
    }
   },
   "source": [
    "### Step by step\n",
    "**MECE = mutually exclusive, collective exhautive**\n",
    "- In Logic Tree, MECE = no overlapping branches + no missing branches\n",
    "\n",
    "There are 6 steps to practice bulding issue trees\n",
    "\n",
    "![](./images/W2/6Steps_Issue_Trees.png)"
   ]
  },
  {
   "cell_type": "markdown",
   "metadata": {
    "application/vnd.databricks.v1+cell": {
     "cellMetadata": {},
     "inputWidgets": {},
     "nuid": "c48d5021-e85f-4df7-becb-7a3711bee99b",
     "showTitle": false,
     "tableResultSettingsMap": {},
     "title": ""
    }
   },
   "source": [
    "### ---------Step 1---------\n",
    "Pick a Case"
   ]
  },
  {
   "cell_type": "markdown",
   "metadata": {
    "application/vnd.databricks.v1+cell": {
     "cellMetadata": {},
     "inputWidgets": {},
     "nuid": "48affd89-93b5-4cb8-af14-27fab32d08d3",
     "showTitle": false,
     "tableResultSettingsMap": {},
     "title": ""
    }
   },
   "source": [
    "### 5 Cores Structures\n",
    "\n",
    "![](./images/W2/5Cores_Strutures_Overview.png)"
   ]
  },
  {
   "cell_type": "markdown",
   "metadata": {
    "application/vnd.databricks.v1+cell": {
     "cellMetadata": {},
     "inputWidgets": {},
     "nuid": "8317240b-7a26-4e27-ac4c-69dee80de2a2",
     "showTitle": false,
     "tableResultSettingsMap": {},
     "title": ""
    }
   },
   "source": [
    "Not all basic structuring techniques are equally strong: some are more difficult, mor insightful than others\n",
    "\n",
    "![](./images/W2/Not_Strong_Not_Weak.png)\n",
    "- **Conceptual Structures:** hard because it requires lots of domain knowledge, experience and effort to collect data for long term problem\n",
    "- **Algebraic Structures:** it is close the problem analysis, but difficult because we need to choose the \"right\" metrics (which requires domain knowledge & experience)\n",
    "- **Process-driven Structures:** process is already in place, but it would not be frequently changed\n",
    "- **Segmentation:** easy to divide in segments to easily understand, but not much insights generated because most of them are facts\n",
    "- **Oppsite words:** another way of thinking/perspective not to miss scenario to analyze"
   ]
  },
  {
   "cell_type": "markdown",
   "metadata": {
    "application/vnd.databricks.v1+cell": {
     "cellMetadata": {},
     "inputWidgets": {},
     "nuid": "4d1fcf7b-82b8-4369-b022-25348acf3ab4",
     "showTitle": false,
     "tableResultSettingsMap": {},
     "title": ""
    }
   },
   "source": [
    "**Example:** Some of possible MECE structures to answer the case \"What are possible reasons for a Nespresso's market share drop in the London's coffee capsules market?\"\n",
    "\n",
    "![](./images/W2/Example_1.png)"
   ]
  },
  {
   "cell_type": "markdown",
   "metadata": {
    "application/vnd.databricks.v1+cell": {
     "cellMetadata": {},
     "inputWidgets": {},
     "nuid": "0240d4bd-aaa7-4e43-b183-fe161c089e45",
     "showTitle": false,
     "tableResultSettingsMap": {},
     "title": ""
    }
   },
   "source": [
    "**Example:** An issue tree\n",
    "\n",
    "![](./images/W2/Example_2.png)"
   ]
  },
  {
   "cell_type": "markdown",
   "metadata": {
    "application/vnd.databricks.v1+cell": {
     "cellMetadata": {},
     "inputWidgets": {},
     "nuid": "58a606d1-0eca-4ee3-bed3-3f3577c68cc1",
     "showTitle": false,
     "tableResultSettingsMap": {},
     "title": ""
    }
   },
   "source": [
    "**Example:** An poor issue tree\n",
    "\n",
    "![](./images/W2/Example_3.png)"
   ]
  },
  {
   "cell_type": "markdown",
   "metadata": {
    "application/vnd.databricks.v1+cell": {
     "cellMetadata": {},
     "inputWidgets": {},
     "nuid": "3b07a15d-2bd8-4501-82b0-8d2a287c8696",
     "showTitle": false,
     "tableResultSettingsMap": {},
     "title": ""
    }
   },
   "source": [
    "#### (1) Algebraic Structures\n",
    "- Based on mathematics\n",
    "\n",
    "![](./images/W2/Algebraic_Structures_Overview.png)"
   ]
  },
  {
   "cell_type": "markdown",
   "metadata": {
    "application/vnd.databricks.v1+cell": {
     "cellMetadata": {},
     "inputWidgets": {},
     "nuid": "baf33cc4-3c7a-4ea8-9a44-f9283d5309b8",
     "showTitle": false,
     "tableResultSettingsMap": {},
     "title": ""
    }
   },
   "source": [
    "**Example:**\n",
    "\n",
    "![](./images/W2/Math_Tree_Example_1.png)"
   ]
  },
  {
   "cell_type": "markdown",
   "metadata": {
    "application/vnd.databricks.v1+cell": {
     "cellMetadata": {},
     "inputWidgets": {},
     "nuid": "2d500e4f-519a-4e60-894e-bb2e92abb0fd",
     "showTitle": false,
     "tableResultSettingsMap": {},
     "title": ""
    }
   },
   "source": [
    "There is **no absolute right or wrong way to construct trees (maybe have many formulas)**\n",
    "\n",
    "![](./images/W2/Algebraic_No_Right_Wrong.png)"
   ]
  },
  {
   "cell_type": "markdown",
   "metadata": {
    "application/vnd.databricks.v1+cell": {
     "cellMetadata": {},
     "inputWidgets": {},
     "nuid": "08bc0f05-c88a-4d58-bc67-2fe46b893208",
     "showTitle": false,
     "tableResultSettingsMap": {},
     "title": ""
    }
   },
   "source": [
    "There are 4 methods that help to create \"mini-equations\" to break down each bucket"
   ]
  },
  {
   "cell_type": "markdown",
   "metadata": {
    "application/vnd.databricks.v1+cell": {
     "cellMetadata": {},
     "inputWidgets": {},
     "nuid": "db1ef5d8-501e-4d07-a4e3-ba210c529967",
     "showTitle": false,
     "tableResultSettingsMap": {},
     "title": ""
    }
   },
   "source": [
    "##### 1. Use a proven formula\n",
    "- Most of the time, there are formulas that fit the problem well, just use it\n",
    "- Example:\n",
    "\n",
    "![](./images/W2/Proven_Formula_Example.png)"
   ]
  },
  {
   "cell_type": "markdown",
   "metadata": {
    "application/vnd.databricks.v1+cell": {
     "cellMetadata": {},
     "inputWidgets": {},
     "nuid": "245accea-2e94-492f-9767-2a3a2ed0eff1",
     "showTitle": false,
     "tableResultSettingsMap": {},
     "title": ""
    }
   },
   "source": [
    "##### 2. The \"Dimensional Analysis\" method\n",
    "- It help to break down almost any metrc into a formula\n",
    "- Be careful NOT to:\n",
    "  - Lose meaning in the process\n",
    "  - End up with a formula that is methematically right but doesn't make any sense\n",
    "- Example:\n",
    "\n",
    "![](./images/W2/Dimensional_Analysis_Example.png)"
   ]
  },
  {
   "cell_type": "markdown",
   "metadata": {
    "application/vnd.databricks.v1+cell": {
     "cellMetadata": {},
     "inputWidgets": {},
     "nuid": "800069b9-4900-42e2-8307-5c6d5305be71",
     "showTitle": false,
     "tableResultSettingsMap": {},
     "title": ""
    }
   },
   "source": [
    "##### 3. Funnel Method\n",
    "- It wonders when the target metric is a percentage or is the end result of a funnel\n",
    "  - We need to find these funnels and then break them into stages\n",
    "- Example:\n",
    "\n",
    "![](./images/W2/Funnel_Method_Example.png)"
   ]
  },
  {
   "cell_type": "markdown",
   "metadata": {
    "application/vnd.databricks.v1+cell": {
     "cellMetadata": {},
     "inputWidgets": {},
     "nuid": "721fb767-128d-4fc7-afbe-df6f7f599f36",
     "showTitle": false,
     "tableResultSettingsMap": {},
     "title": ""
    }
   },
   "source": [
    "##### 4. Use a Sum of Segments\n",
    "- Althought it does not go too much into the structure of the problem, but it slices it out\n",
    "- Example:\n",
    "\n",
    "![](./images/W2/Sum_Segments_Example.png)"
   ]
  },
  {
   "cell_type": "markdown",
   "metadata": {
    "application/vnd.databricks.v1+cell": {
     "cellMetadata": {},
     "inputWidgets": {},
     "nuid": "efd6797a-304b-43e1-a336-5b8ec804a8e9",
     "showTitle": false,
     "tableResultSettingsMap": {},
     "title": ""
    }
   },
   "source": [
    "##### Futher...\n",
    "If we want to go further we can:\n",
    "- Use \"boolean operators\": **AND, OR** functions\n",
    "  ![](./images/W2/Algebraic_Further_1.png)\n",
    "\n",
    "- Even go 3rd step further with \"conditional operators\": **IF-THEN** functions\n",
    "  ![](./images/W2/Algebraic_Further_2.png)"
   ]
  },
  {
   "cell_type": "markdown",
   "metadata": {
    "application/vnd.databricks.v1+cell": {
     "cellMetadata": {},
     "inputWidgets": {},
     "nuid": "54f58aab-a3ce-44aa-808f-bee96faac8f4",
     "showTitle": false,
     "tableResultSettingsMap": {},
     "title": ""
    }
   },
   "source": [
    "**Develop Hypethesis Tree**\n",
    "\n",
    "![](./images/W2/Hypothesis_Tree.png)"
   ]
  },
  {
   "cell_type": "markdown",
   "metadata": {
    "application/vnd.databricks.v1+cell": {
     "cellMetadata": {},
     "inputWidgets": {},
     "nuid": "55894a79-f3f9-496e-ab55-cb2f4b98ad92",
     "showTitle": false,
     "tableResultSettingsMap": {},
     "title": ""
    }
   },
   "source": [
    "##### Example of Revenue Model\n",
    "**Understand:** Revenue = Price * Quantity\n",
    "\n",
    "1. **Product Centric Model:** iPhone example\n",
    "\n",
    "![](./images/W2/Product_Centric_Model.png)\n",
    "\n",
    "- **Quantity:**\n",
    "  - Cross Sell (Combo)\n",
    "  - Upsell (128GB -> 256GB)\n",
    "  - Create new types of product, new channels\n",
    "\n",
    "- **Price:**\n",
    "  - Increase price, not drop quantity too much\n",
    "    - Careful with **price sensitivity** of customer\n",
    "    - Consider position of company brand, product line, competition in the market, e.g. only your company can provide the product/service\n",
    "    - **Price index** for portfolio of products, e.g. essential products can be increased in price, but not reduced in quantity because customers still need to buy\n",
    "\n",
    "\n",
    "\n",
    "\n"
   ]
  },
  {
   "cell_type": "markdown",
   "metadata": {
    "application/vnd.databricks.v1+cell": {
     "cellMetadata": {},
     "inputWidgets": {},
     "nuid": "1379f54f-f9ae-4d96-8285-1e284ec307b9",
     "showTitle": false,
     "tableResultSettingsMap": {},
     "title": ""
    }
   },
   "source": [
    "2. **Sale Centric Model (Alternative):** Supermarket example\n",
    "\n",
    "![](./images/W2/Sale_Centric_Model.png)\n",
    "- **# of Sales:**\n",
    "  - Increase **customers**\n",
    "  - Increase **frequency of buying times** of customers\n",
    "\n",
    "- **Avg. Ticket:**\n",
    "  - Increase **ticket value**\n",
    "  - Increase **items** in ticket"
   ]
  },
  {
   "cell_type": "markdown",
   "metadata": {
    "application/vnd.databricks.v1+cell": {
     "cellMetadata": {},
     "inputWidgets": {},
     "nuid": "3e3a4715-871a-41bb-8237-af8d77ce2728",
     "showTitle": false,
     "tableResultSettingsMap": {},
     "title": ""
    }
   },
   "source": [
    "\n",
    "3. **Customer Centric Model (Alternative):** Apple example\n",
    "\n",
    "![](./images/W2/Customer_Centric_Model.png)"
   ]
  },
  {
   "cell_type": "markdown",
   "metadata": {
    "application/vnd.databricks.v1+cell": {
     "cellMetadata": {},
     "inputWidgets": {},
     "nuid": "735558fe-5e0d-4d54-abc0-833c5beca835",
     "showTitle": false,
     "tableResultSettingsMap": {},
     "title": ""
    }
   },
   "source": [
    "4. **Subscription Model (Alternative):** Telecom example\n",
    "\n",
    "![](./images/W2/Subscription_Model.png)\n",
    "- Main concern = retain customers. Secondary concerns:\n",
    "  - Get new customer\n",
    "  - Make current customer spend more\n",
    "- Example: Netflix\n",
    "  - Provides recommendations (personalization) to help customers find more suitable movies = watch more = stay longer\n",
    "  - Creates new movies, TV series that they don't charge more. They want to keep customers in their platform = recurring revenues = healthy business"
   ]
  },
  {
   "cell_type": "markdown",
   "metadata": {
    "application/vnd.databricks.v1+cell": {
     "cellMetadata": {},
     "inputWidgets": {},
     "nuid": "f327f05f-58ee-4e05-ab35-58bc57ddc2f4",
     "showTitle": false,
     "tableResultSettingsMap": {},
     "title": ""
    }
   },
   "source": [
    "**Revenue Model** was driven by essentially the same **3 factors**:\n",
    "- **Number of customers** making purchases\n",
    "- **Number of purchases** that those customers make\n",
    "- **Size of those purchases**\n",
    "\n",
    "Simple Revenue Model:\n",
    "![](./images/W2/Simple_Revenue_Model.png)"
   ]
  },
  {
   "cell_type": "markdown",
   "metadata": {
    "application/vnd.databricks.v1+cell": {
     "cellMetadata": {},
     "inputWidgets": {},
     "nuid": "8ad02ec8-f17a-4776-a04f-80c6c14efb14",
     "showTitle": false,
     "tableResultSettingsMap": {},
     "title": ""
    }
   },
   "source": [
    "We can apply this approach for other business line:\n",
    "1. **Customer Lifecycle**\n",
    "\n",
    "![](./images/W2/Customer_Lifecycle_Revenue_Model.png)\n",
    "- For E-commerce, the cost of finding a new customer = 5 * cost of retaining a customer (promotions, discounts)\n",
    "- When we have customer, we need to keep them in our company = loyal customer\n",
    "\n",
    "2. **Marketplace**\n",
    "\n",
    "![](./images/W2/Marketplace_Revenue_Model.png)\n",
    "- Breakdown revenue into smaller categories\n",
    "\n",
    "3. **E-commerce**\n",
    "\n",
    "![](./images/W2/E_Commerce_Revenue_Model.png)\n",
    "\n",
    "4. **Community or User Generated Content Revenue Model**\n",
    "\n",
    "![](./images/W2/Community_Revenue_Model.png)\n",
    "\n",
    "5. **SaaS Revenue Model**\n",
    "\n",
    "![](./images/W2/SaaS_Revenue_Model.png)"
   ]
  },
  {
   "cell_type": "markdown",
   "metadata": {
    "application/vnd.databricks.v1+cell": {
     "cellMetadata": {},
     "inputWidgets": {},
     "nuid": "0da93c05-0fa0-437f-9c93-44336b2415d0",
     "showTitle": false,
     "tableResultSettingsMap": {},
     "title": ""
    }
   },
   "source": [
    "#### (2) Process Structures\n",
    "- It has beginning, some steps in middle then an end\n",
    "  - Ensure MECE\n",
    "\n",
    "![](./images/W2/Process_Structure_Overview.png)"
   ]
  },
  {
   "cell_type": "markdown",
   "metadata": {
    "application/vnd.databricks.v1+cell": {
     "cellMetadata": {},
     "inputWidgets": {},
     "nuid": "b9ee4525-a6e9-4b8f-bfec-f2dced2b4741",
     "showTitle": false,
     "tableResultSettingsMap": {},
     "title": ""
    }
   },
   "source": [
    "##### Examples\n",
    "\n",
    "![](./images/W2/Process_Strucutre_Example_1.png)\n",
    "\n",
    "![](./images/W2/Process_Strucutre_Example_2.png)"
   ]
  },
  {
   "cell_type": "markdown",
   "metadata": {
    "application/vnd.databricks.v1+cell": {
     "cellMetadata": {},
     "inputWidgets": {},
     "nuid": "8773d32e-937e-42d8-a399-cd954cc04682",
     "showTitle": false,
     "tableResultSettingsMap": {},
     "title": ""
    }
   },
   "source": [
    "#### (3) Conceptual Frameworks\n",
    "- Based more on categories of concepts\n",
    "- If the problem cannot be broken down as a formula or as a process, conceptual structure are pretty much the only way to go\n",
    "  - Some problems are not numerical problems nor processes\n",
    "  - Long-term problem\n",
    "  - Qualitative issues\n",
    "  - Interrelationships between parts are moe inportant then the parts themselves\n",
    "- Some frameworks:\n",
    "  - 3Cs: Company, Customer, Competitor\n",
    "  - 4Ps: Product, Price, Place, Promotion\n",
    "  - Porter's 5 Forces\n",
    "  - People, Process, System\n",
    "  - Trust Equation: Credibility, Reliability, Intimacy and Self-Orientation\n",
    "\n",
    "![](./images/W2/Conceptual_Frameworks_Overview.png)"
   ]
  },
  {
   "cell_type": "markdown",
   "metadata": {
    "application/vnd.databricks.v1+cell": {
     "cellMetadata": {},
     "inputWidgets": {},
     "nuid": "7228b13f-0b0e-4b38-ab3e-28001d6f559f",
     "showTitle": false,
     "tableResultSettingsMap": {},
     "title": ""
    }
   },
   "source": [
    "##### Example\n",
    "\n",
    "![](./images/W2/Conceptual_Framework_Example_Inventory.png)"
   ]
  },
  {
   "cell_type": "markdown",
   "metadata": {
    "application/vnd.databricks.v1+cell": {
     "cellMetadata": {},
     "inputWidgets": {},
     "nuid": "b8418c4a-8da1-4e71-8564-c785caa82ab3",
     "showTitle": false,
     "tableResultSettingsMap": {},
     "title": ""
    }
   },
   "source": [
    "##### Cleaving Frames\n",
    "\n",
    "![](./images/W2/Cleaving_Frames.png)"
   ]
  },
  {
   "cell_type": "markdown",
   "metadata": {
    "application/vnd.databricks.v1+cell": {
     "cellMetadata": {},
     "inputWidgets": {},
     "nuid": "5433d715-d115-4a4a-9dca-e70cd5c22ed0",
     "showTitle": false,
     "tableResultSettingsMap": {},
     "title": ""
    }
   },
   "source": [
    "#### (4) Segmentations\n",
    "- Divide to smaller categories to understand how much each category influence/affect/contribute to the problems/results\n",
    "\n",
    "![](./images/W2/Segmentations_Overview.png)"
   ]
  },
  {
   "cell_type": "markdown",
   "metadata": {
    "application/vnd.databricks.v1+cell": {
     "cellMetadata": {},
     "inputWidgets": {},
     "nuid": "469cc033-71ed-44f8-8fc7-9e1fa2c934ba",
     "showTitle": false,
     "tableResultSettingsMap": {},
     "title": ""
    }
   },
   "source": [
    "##### 5 Whys\n",
    "\n",
    "![](./images/W2/5Why_Root_Cause_Of_Market_Share_Loss.png)"
   ]
  },
  {
   "cell_type": "markdown",
   "metadata": {
    "application/vnd.databricks.v1+cell": {
     "cellMetadata": {},
     "inputWidgets": {},
     "nuid": "50bdf563-c755-44f4-8d4e-6f6139376842",
     "showTitle": false,
     "tableResultSettingsMap": {},
     "title": ""
    }
   },
   "source": [
    "##### 5W 1H Approach\n",
    "\n",
    "![](./images/W2/5W_1H_Approach.png)"
   ]
  },
  {
   "cell_type": "markdown",
   "metadata": {
    "application/vnd.databricks.v1+cell": {
     "cellMetadata": {},
     "inputWidgets": {},
     "nuid": "fa3ae795-ddea-47ce-ba8a-93422371a19d",
     "showTitle": false,
     "tableResultSettingsMap": {},
     "title": ""
    }
   },
   "source": [
    "##### Example\n",
    "\n",
    "![](./images/W2/Conceptual_Frameworks_Example_Sales.png)"
   ]
  },
  {
   "cell_type": "markdown",
   "metadata": {
    "application/vnd.databricks.v1+cell": {
     "cellMetadata": {},
     "inputWidgets": {},
     "nuid": "91987fc3-fb42-418d-9004-103a9975f2b0",
     "showTitle": false,
     "tableResultSettingsMap": {},
     "title": ""
    }
   },
   "source": [
    "**Store Level Hypotheses:**\n",
    "1. **City type:** Stores located in urban or Tier 1 cities should have higher sales because of the higherincome levels of people there.\n",
    "2. **Population Density:** Stores located in densely populated areas should have higher sales because ofmore demand.\n",
    "3. **Store Capacity:** Stores which are very big in size should have higher sales as they act like one-stop-shops and people would prefer getting everything from one place\n",
    "4. **Competitors:** Stores having similar establishments nearby should have less sales because of morecompetition.\n",
    "5. **Marketing:** Stores which have a good marketing division should have higher sales as it will be able toattract customers through the right offers and advertising.\n",
    "6. **Location:** Stores located within popular marketplaces should have higher sales because of betteraccess to customers.\n",
    "7. **Ambiance:** Stores which are well-maintained and managed by polite and humble people areexpected to have higher footfall and thus higher sales."
   ]
  },
  {
   "cell_type": "markdown",
   "metadata": {
    "application/vnd.databricks.v1+cell": {
     "cellMetadata": {},
     "inputWidgets": {},
     "nuid": "0e62adfe-6c1b-41c3-aa9e-f90f4214affd",
     "showTitle": false,
     "tableResultSettingsMap": {},
     "title": ""
    }
   },
   "source": [
    "**Product Level Hypotheses:**\n",
    "1. **Brand:** Branded products should have higher sales because of higher trust in the customer.\n",
    "2. **Packaging:** Products with good packaging can attract customers and sell more.\n",
    "3. **Utility:** Daily use products should have a higher tendency to sell as compared to the specific useproducts.\n",
    "4. **Display Area:** Products which are given bigger shelves in the store are likely to catch attention firstand sell more.\n",
    "5. **Visibility in Store:** The location of product in a store will impact sales. Ones which are right at entrancewill catch the eye of customer first rather than the ones in back.\n",
    "6. **Advertising:** Better advertising of products in the store will should higher sales in most cases.\n",
    "7. **Promotional Offers:** Products accompanied with attractive offers and discounts will sell more."
   ]
  },
  {
   "cell_type": "markdown",
   "metadata": {
    "application/vnd.databricks.v1+cell": {
     "cellMetadata": {},
     "inputWidgets": {},
     "nuid": "3678beee-8645-4bf0-a583-4d24bcdedcfd",
     "showTitle": false,
     "tableResultSettingsMap": {},
     "title": ""
    }
   },
   "source": [
    "**Customer Level Hypotheses:**\n",
    "1. **Customer Behavior:** Stores keeping the right set of products to meet the local needs of customerswill have higher sales.\n",
    "2. **Job Profile:** Customer working at executive levels would have higher chances of purchasing highamount products as compared to customers working at entry or mid senior level.\n",
    "3. **Family Size:** More the number of family members, more amount will be spent by a customer tobuy products\n",
    "4. **Annual Income:** Higher the annual income of a customer, customer is more likely to buy high costproducts.\n",
    "5. **Past Purchase History:** Availability of this information can help us to determine the frequency of aproduct being purchased by a user."
   ]
  },
  {
   "cell_type": "markdown",
   "metadata": {
    "application/vnd.databricks.v1+cell": {
     "cellMetadata": {},
     "inputWidgets": {},
     "nuid": "72cb7f52-f603-44d8-b7a0-c5e3bd0d3348",
     "showTitle": false,
     "tableResultSettingsMap": {},
     "title": ""
    }
   },
   "source": [
    "**Macro Level Hypotheses:**\n",
    "1. **Environment:** If the environment is declared safe by government, customer would be more likely topurchase products without worrying if it’s environment friendly or not.\n",
    "2. **Economic Growth:** If the current economy shows a consistent growth, per capita income will rise,therefore buying power of customers will increase."
   ]
  },
  {
   "cell_type": "markdown",
   "metadata": {
    "application/vnd.databricks.v1+cell": {
     "cellMetadata": {},
     "inputWidgets": {},
     "nuid": "c8266a54-99d8-40fd-82d8-419b4d086df5",
     "showTitle": false,
     "tableResultSettingsMap": {},
     "title": ""
    }
   },
   "source": [
    "#### (5) Opposite Words\n",
    "- Try to think otherwise\n",
    "- 2 appropriate situations to use:\n",
    "  - Need a quick structure just to organize Speech\n",
    "  - Can't find another type of structure to work with\n",
    "\n",
    "![](./images/W2/Opposite_Wrods_Overview.png)"
   ]
  },
  {
   "cell_type": "markdown",
   "metadata": {
    "application/vnd.databricks.v1+cell": {
     "cellMetadata": {},
     "inputWidgets": {},
     "nuid": "edae1fc7-d1b9-40dd-8b64-89c930c4e7aa",
     "showTitle": false,
     "tableResultSettingsMap": {},
     "title": ""
    }
   },
   "source": [
    "##### Example\n",
    "\n",
    "![](./images/W2/Opposite_Word_Example.png)"
   ]
  },
  {
   "cell_type": "markdown",
   "metadata": {
    "application/vnd.databricks.v1+cell": {
     "cellMetadata": {},
     "inputWidgets": {},
     "nuid": "abba2482-9dd8-4351-a8a3-05dd277c7954",
     "showTitle": false,
     "tableResultSettingsMap": {},
     "title": ""
    }
   },
   "source": [
    "### ---------Step 2---------\n",
    "Break down the 1st layer using one of the 5 core structures to be MECE\n",
    "\n",
    "**Example:**\n",
    "![](./images/W2/Step2.png)"
   ]
  },
  {
   "cell_type": "markdown",
   "metadata": {
    "application/vnd.databricks.v1+cell": {
     "cellMetadata": {},
     "inputWidgets": {},
     "nuid": "4970d2e2-9972-40be-8da3-753cc95d4208",
     "showTitle": false,
     "tableResultSettingsMap": {},
     "title": ""
    }
   },
   "source": [
    "#### Best practice\n",
    "Normally we would go with\n",
    "1. **Algebraic** (if the problem **_can be quantified_** otherwise, ignore) --> easier to understand with maths\n",
    "2. **Segmentation** --> understand which segment has more impact\n",
    "3. **Process** --> then we go deeper to develop/improve\n",
    "4. **Conceptual (optional)** --> for long-term solution\n",
    "5. **Opposite words (optional)** --> review to see if there is any risk and finalize the plan"
   ]
  },
  {
   "cell_type": "markdown",
   "metadata": {
    "application/vnd.databricks.v1+cell": {
     "cellMetadata": {},
     "inputWidgets": {},
     "nuid": "fc19e990-421e-453c-aede-b20a3a601285",
     "showTitle": false,
     "tableResultSettingsMap": {},
     "title": ""
    }
   },
   "source": [
    "### ---------Step 3---------\n",
    "Create a 2nd layer (and further) by breaking down each bucket into another \"mini MECE structure\" from the 5 core structures to be MECE\n",
    "\n",
    "![](./images/W2/Step3.png)"
   ]
  }
 ],
 "metadata": {
  "application/vnd.databricks.v1+notebook": {
   "dashboards": [],
   "environmentMetadata": {
    "base_environment": "",
    "client": "1"
   },
   "language": "python",
   "notebookMetadata": {
    "pythonIndentUnit": 4
   },
   "notebookName": "W2&3 - Analytical Thinking",
   "widgets": {}
  },
  "language_info": {
   "name": "python"
  }
 },
 "nbformat": 4,
 "nbformat_minor": 0
}

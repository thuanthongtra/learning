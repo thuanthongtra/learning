{
 "cells": [
  {
   "cell_type": "markdown",
   "metadata": {
    "application/vnd.databricks.v1+cell": {
     "cellMetadata": {},
     "inputWidgets": {},
     "nuid": "07805d60-231c-4e47-8a33-463194242e1f",
     "showTitle": false,
     "title": ""
    }
   },
   "source": [
    "# BI Overview\n",
    "\n",
    "![](./images/W2/BI_Overview.png)"
   ]
  },
  {
   "cell_type": "markdown",
   "metadata": {
    "application/vnd.databricks.v1+cell": {
     "cellMetadata": {},
     "inputWidgets": {},
     "nuid": "96f7a7fe-4cc9-4f4b-b49f-7d531bb37b0e",
     "showTitle": false,
     "title": ""
    }
   },
   "source": [
    "## 3 Level of Analytical Thinking\n",
    "\n",
    "![](./images/W2/Analytical_Thinking.png)"
   ]
  },
  {
   "cell_type": "markdown",
   "metadata": {
    "application/vnd.databricks.v1+cell": {
     "cellMetadata": {},
     "inputWidgets": {},
     "nuid": "7e5e6bc6-59a6-4a7b-a51c-b034b66c5531",
     "showTitle": false,
     "title": ""
    }
   },
   "source": [
    "## 1 Way of Thinking\n",
    "- Same direction\n",
    "- No duplication\n",
    "\n",
    "![](./images/W2/Problem_Solving.png)"
   ]
  },
  {
   "cell_type": "markdown",
   "metadata": {
    "application/vnd.databricks.v1+cell": {
     "cellMetadata": {},
     "inputWidgets": {},
     "nuid": "44d74605-e2d6-4ea8-877d-6d8e5f62e6ec",
     "showTitle": false,
     "title": ""
    }
   },
   "source": [
    "## From Data to Story Process\n",
    "\n",
    "![](./images/W2/Data_To_Story_Process.png)\n",
    "- **Context/Big Picture:** understand the:\n",
    "  - Current situations\n",
    "  - Questions that we are going to answer\n",
    "  - Do we have neccessary data?"
   ]
  },
  {
   "cell_type": "markdown",
   "metadata": {
    "application/vnd.databricks.v1+cell": {
     "cellMetadata": {},
     "inputWidgets": {},
     "nuid": "4e03a171-f15c-4437-a12c-e071e09d64ce",
     "showTitle": false,
     "title": ""
    }
   },
   "source": [
    "# Data Analytics Problem Solving"
   ]
  },
  {
   "cell_type": "markdown",
   "metadata": {
    "application/vnd.databricks.v1+cell": {
     "cellMetadata": {},
     "inputWidgets": {},
     "nuid": "bc7cd6fb-c4f8-424f-86dd-69323259a38e",
     "showTitle": false,
     "title": ""
    }
   },
   "source": [
    "## Understanding the Context\n",
    "**Frameworks for converting business problem into data problem**\n",
    "![](./images/W2/Convert_Bus_To_Data.png)\n",
    "\n",
    "**Example:**\n",
    "![](./images/W2/Convert_Bus_To_Data_Example.png)\n",
    "- What --> **revenue**\n",
    "- How much to increase --> **x%**\n",
    "- When --> next **y months**\n",
    "- Who --> focus on **existing customers** who would make **cross-sell**"
   ]
  },
  {
   "cell_type": "markdown",
   "metadata": {
    "application/vnd.databricks.v1+cell": {
     "cellMetadata": {},
     "inputWidgets": {},
     "nuid": "16a15375-195f-4dc5-918e-c0537d6e49ec",
     "showTitle": false,
     "title": ""
    }
   },
   "source": [
    "## Part 1: Logic Tree Fundamentals"
   ]
  },
  {
   "cell_type": "markdown",
   "metadata": {
    "application/vnd.databricks.v1+cell": {
     "cellMetadata": {},
     "inputWidgets": {},
     "nuid": "15d767ea-4c27-474e-8008-67dcacbafcba",
     "showTitle": false,
     "title": ""
    }
   },
   "source": [
    "### Overview\n",
    "**Logic tree:** is the most fundamental tool to structure and solve problem in a systematic way\n",
    "\n",
    "![](./images/W2/Logic_Tree_Overview.png)"
   ]
  },
  {
   "cell_type": "markdown",
   "metadata": {
    "application/vnd.databricks.v1+cell": {
     "cellMetadata": {},
     "inputWidgets": {},
     "nuid": "aeb837d5-cf4c-4200-9320-6e4d18c80dbb",
     "showTitle": false,
     "title": ""
    }
   },
   "source": [
    "### 4 Things\n",
    "1. They are a **map** of the problem\n",
    "    - Add structures (forced constraints) --> freely to tackle each part without worrying missing something\n",
    "    - Team brainstorming = different lenses and cleaving frames\n",
    "    ![](./images/W2/Map.png)\n",
    "\n",
    "2. Issue Trees are tool for **dividing and conquering**\n",
    "    - List possibilities, variables with **_Issue Tree_**, otherwise:\n",
    "      - Incomplete list of possible hypotheses\n",
    "      - HUGE list with hundreds or thousands of hypotheses\n",
    "\n",
    "3. Issue Trees are excellent for **prioritization**\n",
    "    - **Result:** building short/mid/long term solutions\n",
    "    ![](./images/W2/Prioritization.png)  \n",
    "\n",
    "4. You can have **problem trees** and **solution trees**"
   ]
  },
  {
   "cell_type": "markdown",
   "metadata": {
    "application/vnd.databricks.v1+cell": {
     "cellMetadata": {},
     "inputWidgets": {},
     "nuid": "b2769d40-1b94-4004-8a99-1624117d5d63",
     "showTitle": false,
     "title": ""
    }
   },
   "source": [
    "**Example 4 things:** looking for reason why employees left the company\n",
    "- **1 & 2:** build the map and divide based on Demography, Working Times, Salaries, etc.\n",
    "  ![](./images/W2/4Things_Example_1.png)\n",
    "\n",
    "- **3:** get prioritized influences --> **focus on Age **\n",
    "  ![](./images/W2/4Things_Example_2.png)\n",
    "\n",
    "- **4:** have 2 types of trees\n",
    "  ![](./images/W2/Solution_Logic.png)  "
   ]
  },
  {
   "cell_type": "markdown",
   "metadata": {
    "application/vnd.databricks.v1+cell": {
     "cellMetadata": {},
     "inputWidgets": {},
     "nuid": "578d3291-7e32-4cb6-8fe5-f854e19132b4",
     "showTitle": false,
     "title": ""
    }
   },
   "source": [
    "## Part 2: Techniques to Build Logic Trees"
   ]
  },
  {
   "cell_type": "markdown",
   "metadata": {
    "application/vnd.databricks.v1+cell": {
     "cellMetadata": {},
     "inputWidgets": {},
     "nuid": "ad63d5db-c790-431a-8fc8-9aded1ac8422",
     "showTitle": false,
     "title": ""
    }
   },
   "source": [
    "### Step by step\n",
    "**MECE = mutually exclusive, collective exhautive**\n",
    "- In Logic Tree, MECE = no overlapping branches + no missing branches\n",
    "\n",
    "There are 6 steps to practice bulding issue trees\n",
    "![](./images/W2/6Steps_Issue_Trees.png)"
   ]
  },
  {
   "cell_type": "markdown",
   "metadata": {
    "application/vnd.databricks.v1+cell": {
     "cellMetadata": {},
     "inputWidgets": {},
     "nuid": "48affd89-93b5-4cb8-af14-27fab32d08d3",
     "showTitle": false,
     "title": ""
    }
   },
   "source": [
    "### 5 Cores Structures\n",
    "\n",
    "![](./images/W2/5Cores_Strutures_Overview.png)"
   ]
  },
  {
   "cell_type": "markdown",
   "metadata": {
    "application/vnd.databricks.v1+cell": {
     "cellMetadata": {},
     "inputWidgets": {},
     "nuid": "3b07a15d-2bd8-4501-82b0-8d2a287c8696",
     "showTitle": false,
     "title": ""
    }
   },
   "source": [
    "#### (1) Algebraic Structures"
   ]
  },
  {
   "cell_type": "markdown",
   "metadata": {
    "application/vnd.databricks.v1+cell": {
     "cellMetadata": {},
     "inputWidgets": {},
     "nuid": "0da93c05-0fa0-437f-9c93-44336b2415d0",
     "showTitle": false,
     "title": ""
    }
   },
   "source": [
    "#### (2) Process Structures"
   ]
  },
  {
   "cell_type": "markdown",
   "metadata": {
    "application/vnd.databricks.v1+cell": {
     "cellMetadata": {},
     "inputWidgets": {},
     "nuid": "8773d32e-937e-42d8-a399-cd954cc04682",
     "showTitle": false,
     "title": ""
    }
   },
   "source": [
    "#### (3) Conceptual Frameworks"
   ]
  },
  {
   "cell_type": "markdown",
   "metadata": {
    "application/vnd.databricks.v1+cell": {
     "cellMetadata": {},
     "inputWidgets": {},
     "nuid": "5433d715-d115-4a4a-9dca-e70cd5c22ed0",
     "showTitle": false,
     "title": ""
    }
   },
   "source": [
    "#### (4) Segmentations"
   ]
  },
  {
   "cell_type": "markdown",
   "metadata": {
    "application/vnd.databricks.v1+cell": {
     "cellMetadata": {},
     "inputWidgets": {},
     "nuid": "c8266a54-99d8-40fd-82d8-419b4d086df5",
     "showTitle": false,
     "title": ""
    }
   },
   "source": [
    "#### (5) Opposite Words"
   ]
  },
  {
   "cell_type": "markdown",
   "metadata": {
    "application/vnd.databricks.v1+cell": {
     "cellMetadata": {},
     "inputWidgets": {},
     "nuid": "abba2482-9dd8-4351-a8a3-05dd277c7954",
     "showTitle": false,
     "title": ""
    }
   },
   "source": [
    "### Combine Structures"
   ]
  }
 ],
 "metadata": {
  "application/vnd.databricks.v1+notebook": {
   "dashboards": [],
   "environmentMetadata": {
    "base_environment": "",
    "client": "1"
   },
   "language": "python",
   "notebookMetadata": {
    "pythonIndentUnit": 4
   },
   "notebookName": "W2.2 - Analytical Thinking",
   "widgets": {}
  }
 },
 "nbformat": 4,
 "nbformat_minor": 0
}

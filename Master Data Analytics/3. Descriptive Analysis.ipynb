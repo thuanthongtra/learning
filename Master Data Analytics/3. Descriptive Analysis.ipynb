{
 "cells": [
  {
   "cell_type": "markdown",
   "metadata": {
    "application/vnd.databricks.v1+cell": {
     "cellMetadata": {},
     "inputWidgets": {},
     "nuid": "4dcae490-c546-48b8-9184-8ef846c2e970",
     "showTitle": false,
     "tableResultSettingsMap": {},
     "title": ""
    }
   },
   "source": [
    "# Overview\n",
    "\n",
    "![](./images/3/Descriptive_Overview.png)"
   ]
  },
  {
   "cell_type": "markdown",
   "metadata": {
    "application/vnd.databricks.v1+cell": {
     "cellMetadata": {},
     "inputWidgets": {},
     "nuid": "9d345f50-05e8-4bf6-9f16-dfe495af9cd9",
     "showTitle": false,
     "tableResultSettingsMap": {},
     "title": ""
    }
   },
   "source": [
    "We need to understand:\n",
    "1. **Granularity** of table\n",
    "2. Variables\n",
    "    - **Category**\n",
    "    - **Numeric**\n",
    "    - We can distinguish those 2 by: Category variables will not be aggregate (sum) to analyze, e.g. Year, Date because no meaning"
   ]
  },
  {
   "cell_type": "markdown",
   "metadata": {
    "application/vnd.databricks.v1+cell": {
     "cellMetadata": {},
     "inputWidgets": {},
     "nuid": "5384eec5-5a0d-4d7b-bf46-75958cf18de7",
     "showTitle": false,
     "tableResultSettingsMap": {},
     "title": ""
    }
   },
   "source": [
    "# Categorical Variables"
   ]
  },
  {
   "cell_type": "markdown",
   "metadata": {
    "application/vnd.databricks.v1+cell": {
     "cellMetadata": {},
     "inputWidgets": {},
     "nuid": "6f1aa938-7012-49fa-a3fd-7dd48d56c5f8",
     "showTitle": false,
     "tableResultSettingsMap": {},
     "title": ""
    }
   },
   "source": [
    "## Calculation\n",
    "We can only calculate:\n",
    "- Count\n",
    "- %GT Count: percent of grant total"
   ]
  },
  {
   "cell_type": "markdown",
   "metadata": {
    "application/vnd.databricks.v1+cell": {
     "cellMetadata": {},
     "inputWidgets": {},
     "nuid": "e84b6b67-b726-4a30-b151-657ba114d996",
     "showTitle": false,
     "tableResultSettingsMap": {},
     "title": ""
    }
   },
   "source": [
    "## Displaying\n",
    "We can apply Calculation for **_Static Analysis_** and **_Change Over Time Analysis_**\n",
    "\n",
    "![](./images/3/Categorical_Variables_Supermarket.png)"
   ]
  },
  {
   "cell_type": "markdown",
   "metadata": {
    "application/vnd.databricks.v1+cell": {
     "cellMetadata": {},
     "inputWidgets": {},
     "nuid": "f0657ea5-3f62-40a0-86b8-c7fb6823ef9e",
     "showTitle": false,
     "tableResultSettingsMap": {},
     "title": ""
    }
   },
   "source": [
    "### 1. Static Analysis\n",
    "1. **Frequency Table**\n",
    "    - Count\n",
    "    - %GT Count\n",
    "\n",
    "    ![](./images/3/Product_Family_Frequency_Table.png)\n",
    "\n",
    "2. **Bar & Pie Charts**\n",
    "    - Count --> Bar chart\n",
    "    - %GT Count --> Pie chart\n",
    "\n",
    "    ![](./images/3/Product_Family_BarChart_PieChart.png)\n",
    "\n",
    "3. **Pareto Chart:** 80-20\n",
    "\n",
    "    ![](./images/3/Product_Family_ParetoChart.png)\n",
    "    - For **_Food_** and **_Non-Consumable_**, they occupy 91% of transactions\n"
   ]
  },
  {
   "cell_type": "markdown",
   "metadata": {
    "application/vnd.databricks.v1+cell": {
     "cellMetadata": {},
     "inputWidgets": {},
     "nuid": "6d58c375-0432-4929-9c0b-f371927b542f",
     "showTitle": false,
     "tableResultSettingsMap": {},
     "title": ""
    }
   },
   "source": [
    "### 2. Change Over Time Analysis\n",
    "For each chart of **_Static Analysis_**, add time line to see how the effect changes\n",
    "![](./images/3/Change_Over_Time_Analysis.png)\n",
    "- **_Food_** started to grow stronger and became dominant from **_2016_**\n",
    " - In **_2014_**, they are similar\n",
    " - Food started to grow in **_2015_**"
   ]
  },
  {
   "cell_type": "markdown",
   "metadata": {
    "application/vnd.databricks.v1+cell": {
     "cellMetadata": {},
     "inputWidgets": {},
     "nuid": "eba3b2ad-deb9-4998-aa90-fd21ee0e948f",
     "showTitle": false,
     "tableResultSettingsMap": {},
     "title": ""
    }
   },
   "source": [
    "# Numerical Variables"
   ]
  },
  {
   "cell_type": "markdown",
   "metadata": {
    "application/vnd.databricks.v1+cell": {
     "cellMetadata": {},
     "inputWidgets": {},
     "nuid": "00293bce-b77f-4993-a1d2-7abf9303679a",
     "showTitle": false,
     "tableResultSettingsMap": {},
     "title": ""
    }
   },
   "source": [
    "## Calcualtion\n",
    "There are 3 categorise of Descriptive Statistics for **_Numeriacal Variables_**:\n",
    "1. Measure of **central tendency/averages**\n",
    "    - Some **_central aspect_** of data\n",
    "2. Measure of **dispersion/spreading data**\n",
    "    - How **_spread-out_** or **_dispersed_** the data is\n",
    "3. Measure of **shape**\n",
    "    - Data can be plotted into **_histogram_** to have general idea of its **_shape, or distribution_**"
   ]
  },
  {
   "cell_type": "markdown",
   "metadata": {
    "application/vnd.databricks.v1+cell": {
     "cellMetadata": {},
     "inputWidgets": {},
     "nuid": "1921f795-5aa9-4b26-8fd1-dd189f3eba39",
     "showTitle": false,
     "tableResultSettingsMap": {},
     "title": ""
    }
   },
   "source": [
    "### 1. Central Tendency\n",
    "\n",
    "![](./images/3/Mean_Median_Mode_Example.png)"
   ]
  },
  {
   "cell_type": "markdown",
   "metadata": {
    "application/vnd.databricks.v1+cell": {
     "cellMetadata": {},
     "inputWidgets": {},
     "nuid": "f8d9e2eb-c3b8-4a5b-96bf-ada767ca1df2",
     "showTitle": false,
     "tableResultSettingsMap": {},
     "title": ""
    }
   },
   "source": [
    "### 2. Dispersion"
   ]
  },
  {
   "cell_type": "markdown",
   "metadata": {
    "application/vnd.databricks.v1+cell": {
     "cellMetadata": {},
     "inputWidgets": {},
     "nuid": "ab21a714-252a-491e-bff6-2793009f2e74",
     "showTitle": false,
     "tableResultSettingsMap": {},
     "title": ""
    }
   },
   "source": [
    "#### Range"
   ]
  },
  {
   "cell_type": "markdown",
   "metadata": {
    "application/vnd.databricks.v1+cell": {
     "cellMetadata": {},
     "inputWidgets": {},
     "nuid": "0dbd7cc2-3b1d-4fe2-a231-ad9bd617c0e7",
     "showTitle": false,
     "tableResultSettingsMap": {},
     "title": ""
    }
   },
   "source": [
    "##### Bell Shape\n",
    "\n",
    "**Example:**\n",
    "\n",
    "![](./images/3/Dispersion_Salary_Example.png)\n",
    "- In 2000, there was most of people get **_$52/h_** and salary range is **_$35-$70/h_**\n",
    "- In 2015, there was still most of people get **_$52/h_** and the range became wider **_$16-$88/h_**\n",
    "  - People worked longer with the company get promoted & increased salary\n",
    "  - The company became well-organized in job positions and salary levels. Hence, there could be adjustments in salary to match with jobs"
   ]
  },
  {
   "cell_type": "markdown",
   "metadata": {
    "application/vnd.databricks.v1+cell": {
     "cellMetadata": {},
     "inputWidgets": {},
     "nuid": "f998d8a5-5cd0-4f6c-8813-dfe9621c96d7",
     "showTitle": false,
     "tableResultSettingsMap": {},
     "title": ""
    }
   },
   "source": [
    "##### Box Plot\n",
    "It shows in more details of how distributed the data is.\n",
    "\n",
    "![](./images/3/Box_Plot.png)"
   ]
  },
  {
   "cell_type": "markdown",
   "metadata": {
    "application/vnd.databricks.v1+cell": {
     "cellMetadata": {},
     "inputWidgets": {},
     "nuid": "9da259e0-3ead-4c1e-9e57-a1f6ff0e50c1",
     "showTitle": false,
     "tableResultSettingsMap": {},
     "title": ""
    }
   },
   "source": [
    "#### Variance (phuong sai)\n",
    "- Variance represents how much variability there is in the data points\n",
    "  - It has squared units, which makes difficault to interpret\n",
    "\n",
    "![](./images/3/Variance.png)\n",
    "\n",
    "**Example:**\n",
    "\n",
    "![](./images/3/Variance_Example.png)"
   ]
  },
  {
   "cell_type": "markdown",
   "metadata": {
    "application/vnd.databricks.v1+cell": {
     "cellMetadata": {},
     "inputWidgets": {},
     "nuid": "1095ae34-68cb-48ff-86ca-929b022aa0fa",
     "showTitle": false,
     "tableResultSettingsMap": {},
     "title": ""
    }
   },
   "source": [
    "#### Standard Deviation (SD) (do lech chuan)\n",
    "- Same as **_Variance_**, it represents how much variability there is in the data points\n",
    "- SD has unit of original data, which make it preferred over **_Variance_**\n",
    "\n",
    "![](./images/3/SD.png)\n",
    "\n",
    "**Example:**\n",
    "\n",
    "![](./images/3/SD_Example.png)\n",
    "\n",
    "- The **_higher_** SD is, the **_more dispered_** the data is"
   ]
  },
  {
   "cell_type": "markdown",
   "metadata": {
    "application/vnd.databricks.v1+cell": {
     "cellMetadata": {},
     "inputWidgets": {},
     "nuid": "1b169f1b-f0ec-413b-ba01-f1ce1122d0e2",
     "showTitle": false,
     "tableResultSettingsMap": {},
     "title": ""
    }
   },
   "source": [
    "**Note:**\n",
    "- For **_Population_** we divide by **_N_**\n",
    "- For **_Sample_**, we divide by **_N-1_**"
   ]
  },
  {
   "cell_type": "markdown",
   "metadata": {
    "application/vnd.databricks.v1+cell": {
     "cellMetadata": {},
     "inputWidgets": {},
     "nuid": "0d5995b2-09da-41a7-b26d-54095e370303",
     "showTitle": false,
     "tableResultSettingsMap": {},
     "title": ""
    }
   },
   "source": [
    "#### Coefficient of Variation (CV) (he so bien thien)\n",
    "- The Coefficient of Variation is a measure of relative variability.\n",
    "  - It is the ratio of SD to the mean\n",
    "  - For example: the expression \"The SD is 15% of the mean\" is a CV\n",
    "\n",
    "![](./images/3/Coefficient_of_Variation.png)\n",
    "\n",
    "**Example:**\n",
    "\n",
    "![](./images/3/Coefficient_of_Variation_Example.png)\n",
    "- Both company A and B have the same SD = 12 --> cannot decide which company has more vary data\n",
    "- CV helps to have the same % comparasion, we can conclude company A's data is more vary than comapny B's"
   ]
  },
  {
   "cell_type": "markdown",
   "metadata": {
    "application/vnd.databricks.v1+cell": {
     "cellMetadata": {},
     "inputWidgets": {},
     "nuid": "c96f828c-6111-4eca-aeff-c856eaa2a84d",
     "showTitle": false,
     "tableResultSettingsMap": {},
     "title": ""
    }
   },
   "source": [
    "#### Rule of Thumb\n",
    "Based on assumption that data is **_bell shaped_**, from the mean\n",
    "- approximately **_68%_** of the data lie within **_1 SD_**\n",
    "- approximately **_95%_** of the data lie within **_2 SD_**\n",
    "\n",
    "![](./images/3/Rule_of_Thumb.png)"
   ]
  },
  {
   "cell_type": "markdown",
   "metadata": {
    "application/vnd.databricks.v1+cell": {
     "cellMetadata": {},
     "inputWidgets": {},
     "nuid": "9750cc2f-1a00-4a13-a368-1b6a0ad7b6d9",
     "showTitle": false,
     "tableResultSettingsMap": {},
     "title": ""
    }
   },
   "source": [
    "#### Chebyshev's Theorem\n",
    "Chebyshev's Theorem says that at least **_75%_** of all value are within **_+/- 2 SD_** from the mean **_regardless the shape_** of distribution\n"
   ]
  },
  {
   "cell_type": "markdown",
   "metadata": {
    "application/vnd.databricks.v1+cell": {
     "cellMetadata": {},
     "inputWidgets": {},
     "nuid": "50d9caab-9c6c-4cac-b2d1-d75c8c7d16ad",
     "showTitle": false,
     "tableResultSettingsMap": {},
     "title": ""
    }
   },
   "source": [
    "### 3. Shape\n",
    "- The shape help identifying which descriptive is more appropriate to use in a given situation\n",
    "  - If the data is **_symmetrical_**, then we use **_mean_** or **_median_** because they are almost equal\n",
    "  - If the data is **_skewed_**, then we use **_median_**\n",
    "- 2 common statistics to measure the shape of data:\n",
    "  - Skewness\n",
    "  - Kurtosis"
   ]
  },
  {
   "cell_type": "markdown",
   "metadata": {
    "application/vnd.databricks.v1+cell": {
     "cellMetadata": {},
     "inputWidgets": {},
     "nuid": "bb9dfa98-87fb-4fa3-a767-0eef13944d63",
     "showTitle": false,
     "tableResultSettingsMap": {},
     "title": ""
    }
   },
   "source": [
    "#### Skewness\n",
    "The rules of thumb seems to be: skewness is \n",
    "- Between **_-0.5 and 0.5_**, the data is **_fairly symmetrical_**\n",
    "- Between **_-1 and -0.5_**, the data is **_negatively skewed_**\n",
    "- Between **_0.5 and 1_**, the data is **positively skewed**\n",
    "- Less than **_-1_** or greater than **_1_**, the data is **_higly skewed_**\n",
    "\n",
    "![](./images/3/Skewness.png)"
   ]
  },
  {
   "cell_type": "markdown",
   "metadata": {
    "application/vnd.databricks.v1+cell": {
     "cellMetadata": {},
     "inputWidgets": {},
     "nuid": "5dfba6ed-ce96-4b92-906f-bf95538edee5",
     "showTitle": false,
     "tableResultSettingsMap": {},
     "title": ""
    }
   },
   "source": [
    "#### Kurtosis\n",
    "- **Normal:** Kurtosis =3\n",
    "- **Loptokurtic:** Kurtosis >3 (Too Peak)\n",
    "- **Platykurtic:** Kurtosis <3 (Too Flat)\n",
    "- Bigger Kurtosis means % value around the middle is bigger than normal case\n",
    "- Example: 68% Orders Value around 3-5 milVND for Normal Distribution, but for Leptokurtic it go up to 95%\n",
    "\n",
    "![](./images/3/Kurtosis.png)"
   ]
  },
  {
   "cell_type": "markdown",
   "metadata": {
    "application/vnd.databricks.v1+cell": {
     "cellMetadata": {},
     "inputWidgets": {},
     "nuid": "3d69d292-c7b5-463c-b89f-c299954dead1",
     "showTitle": false,
     "tableResultSettingsMap": {},
     "title": ""
    }
   },
   "source": [
    "## Displaying\n",
    "We can apply Calculation for **_Static Analysis_** and **_Change Over Time Analysis_**\n",
    "\n",
    "![](./images/3/Numerical_Variables_Supermarket.png)"
   ]
  },
  {
   "cell_type": "markdown",
   "metadata": {
    "application/vnd.databricks.v1+cell": {
     "cellMetadata": {},
     "inputWidgets": {},
     "nuid": "740dbd89-8973-42a7-86ea-4675d50d38d8",
     "showTitle": false,
     "tableResultSettingsMap": {},
     "title": ""
    }
   },
   "source": [
    "### 1. Static Analysis\n",
    "\n",
    "1. **Multi-row Card**\n",
    "    - Shows summary of statistic\n",
    "\n",
    "    ![](./images/3/Num_Static_Multirow_Card.png)\n",
    "\n",
    "2. **Histogram**\n",
    "    - Shows how values are distributed\n",
    "\n",
    "    ![](./images/3/Num_Static_Histogram.png)\n",
    "\n",
    "3. **Box Plot and Violin**\n",
    "    - Shows other views of how values are distributed with extra info like Q1, Q2, Q3, Interquatile, Outliers\n",
    "\n",
    "    ![](./images/3/Num_Static_BoxPlot_Violin.png)"
   ]
  },
  {
   "cell_type": "markdown",
   "metadata": {
    "application/vnd.databricks.v1+cell": {
     "cellMetadata": {},
     "inputWidgets": {},
     "nuid": "8ab085a9-ca8d-47aa-a32f-93dc91725f29",
     "showTitle": false,
     "tableResultSettingsMap": {},
     "title": ""
    }
   },
   "source": [
    "### 2. Change Over Time Analysis\n",
    "For each chart of **_Static Analysis_**, add time line to see how the effect changes\n",
    "![](./images/3/Numeric_Change_Over_Time_Analysis.png)\n",
    "\n",
    "We also need to analyze in **_Time series charts for patterns_**:\n",
    "  - Date hierarchy\n",
    "  - MoM, YoY, YTD, etc."
   ]
  },
  {
   "cell_type": "markdown",
   "metadata": {
    "application/vnd.databricks.v1+cell": {
     "cellMetadata": {},
     "inputWidgets": {},
     "nuid": "3947c1ff-863d-4dc6-9fb4-aa969b238d7e",
     "showTitle": false,
     "tableResultSettingsMap": {},
     "title": ""
    }
   },
   "source": [
    "Sometimes, the charts might reach limited points (30,000) then we also need to **_change detail level_** of original data:\n",
    "- Distribution by Transaction\n",
    "- Distribution by Date\n",
    "- Distribution by ID/Key/Name"
   ]
  },
  {
   "cell_type": "markdown",
   "metadata": {
    "application/vnd.databricks.v1+cell": {
     "cellMetadata": {},
     "inputWidgets": {},
     "nuid": "9e43195f-1e97-4822-a32e-26ca08f809f7",
     "showTitle": false,
     "tableResultSettingsMap": {},
     "title": ""
    }
   },
   "source": [
    "# Avoid Misrepresenting Data"
   ]
  },
  {
   "cell_type": "markdown",
   "metadata": {
    "application/vnd.databricks.v1+cell": {
     "cellMetadata": {},
     "inputWidgets": {},
     "nuid": "437aacb2-0bc2-463b-903b-7218ee22589b",
     "showTitle": false,
     "tableResultSettingsMap": {},
     "title": ""
    }
   },
   "source": [
    "## Selection Bias\n",
    "- **Selection Bias:** is when the group of chosen to be analyzed is not representative of the population you are trying to draw conclusion about\n",
    "- 2 types:\n",
    "  - Convenience\n",
    "  - Self Selection"
   ]
  },
  {
   "cell_type": "markdown",
   "metadata": {
    "application/vnd.databricks.v1+cell": {
     "cellMetadata": {},
     "inputWidgets": {},
     "nuid": "368d5d65-3e80-451e-9574-53c4d310d491",
     "showTitle": false,
     "tableResultSettingsMap": {},
     "title": ""
    }
   },
   "source": [
    "### 1. Convenience\n",
    "- You choose a group of people to analyze in a way that is **_not representative of the population_** because they **_were convenient_** to measure\n",
    "- Example: You ask 3 of your friends if your new feature is valuable. While easy to as them, are they actually representative of your customer base?\n",
    "- **Solution:** **_randomizing_** your sample\n",
    "\n",
    "![](./images/3/Selection_Bias_Convenience.png)"
   ]
  },
  {
   "cell_type": "markdown",
   "metadata": {
    "application/vnd.databricks.v1+cell": {
     "cellMetadata": {},
     "inputWidgets": {},
     "nuid": "39fad804-d945-42e6-88b2-bed9b30339e5",
     "showTitle": false,
     "tableResultSettingsMap": {},
     "title": ""
    }
   },
   "source": [
    "### 2. Self-Selection\n",
    "- The group of people who opt in to be analyzed have **_charateristics that are not representative_** of the whole population\n",
    "- Common Bias Self-Selectors:\n",
    "  - Very negative/positive people\n",
    "  - Early adopters\n",
    "  - Power users\n",
    "- Example: You send out a survery to get satisfaction of customers. While this seems like it would provide for good feedback, you are likely to get responses from people who are very opinionated, very angry or people who are truing to waste time at work\n",
    "- **Solution:** having **_qualifying questions_**\n",
    "\n",
    "![](./images/3/Selection_Bias_Self_Selection.png)"
   ]
  },
  {
   "cell_type": "markdown",
   "metadata": {
    "application/vnd.databricks.v1+cell": {
     "cellMetadata": {},
     "inputWidgets": {},
     "nuid": "17039087-34d8-47db-b251-0eeea19dbc25",
     "showTitle": false,
     "tableResultSettingsMap": {},
     "title": ""
    }
   },
   "source": [
    "## Supervivorship Bias\n",
    "- Survivorship bias is the tendency to draw conclusions based on things that have **_survived_** some selection process and **_to ignore things that did not survive_**. It is a **_cognitive bias_** and is a form of selection bias.\n",
    "- 2 ways:\n",
    "  - Inferring a norm\n",
    "  - Inferring causality"
   ]
  },
  {
   "cell_type": "markdown",
   "metadata": {
    "application/vnd.databricks.v1+cell": {
     "cellMetadata": {},
     "inputWidgets": {},
     "nuid": "df04d8fc-1338-488b-ba46-893fab1f3229",
     "showTitle": false,
     "tableResultSettingsMap": {},
     "title": ""
    }
   },
   "source": [
    "### 1. Inferring a Norm\n",
    "- The things that survived a process are the **_only things_** that ever existed\n",
    "- Example: \"Most castles were made of stone\" vs \"most castles were made of wood but were destroyed by fire or withered away over time\". But in reality:\n",
    "  - Present: All we see is the surviving **_stone_** castle\n",
    "  - Past: In the past we see the same **_stone_** castle but also the more numerous **_wooden_** castles. The wood castles did not survive to the present.\n",
    "\n",
    "![](./images/3/Inferring_Norm_Example.png)"
   ]
  },
  {
   "cell_type": "markdown",
   "metadata": {
    "application/vnd.databricks.v1+cell": {
     "cellMetadata": {},
     "inputWidgets": {},
     "nuid": "9573fc67-291a-454b-aa49-10a16054a04e",
     "showTitle": false,
     "tableResultSettingsMap": {},
     "title": ""
    }
   },
   "source": [
    "### 2. Inferring Causality (nhan qua)\n",
    "- Anything that survived a process **_was impacted_** by that process\n",
    "- Example 1: \"Men get tough fighting in the coliseum\" vs \"only tough men survive the coliseum\"\n",
    "- Example 2:\n",
    "  - During World War II, the Allies mapped bullet holes in planes that were hit by Nazi fire.They sought to strengthen the planes by **_reinforcing the areas that received more bullets_** (shown as red dots on the picture). Theoretically, it was a logical deduction. After all, these were the most affected areas.\n",
    "  - But Abraham Wald, a mathematician, came to a different conclusion: the red dots represented only the damage to the planes that were **_able to come back home_**. According to him, we should **_reinforce the areas where there were no points_**, because these are the places where the plane would not survive being hit\n",
    "\n",
    "![](./images/3/Inferring_Causality_Example_2.png)"
   ]
  },
  {
   "cell_type": "markdown",
   "metadata": {
    "application/vnd.databricks.v1+cell": {
     "cellMetadata": {},
     "inputWidgets": {},
     "nuid": "0095b123-6aa3-4ede-bc63-84b00fe5e5ac",
     "showTitle": false,
     "tableResultSettingsMap": {},
     "title": ""
    }
   },
   "source": [
    "## Overall vs. Groups - Simpson's Paradox\n",
    "**Example 1:**\n",
    "\n",
    "![](./images/3/Overall_Groups_Example_1.png)\n",
    "- **False information:** **_Overall_** Female spend more time than Male\n",
    "- **True information:** divided in **_Groups_**, Male spend more time than Female -> focus on Male cuastomer\n",
    "- **Reason:** huge number Female using mobile shifts the AVG in **_Overall_** calculation\n",
    "\n",
    "![](./images/3/Overall_Groups_Example_1_Explained.png)"
   ]
  },
  {
   "cell_type": "markdown",
   "metadata": {
    "application/vnd.databricks.v1+cell": {
     "cellMetadata": {},
     "inputWidgets": {},
     "nuid": "ed16dbec-b12d-4e1a-a326-fdd7fae3b04f",
     "showTitle": false,
     "tableResultSettingsMap": {},
     "title": ""
    }
   },
   "source": [
    "**Example 2:**\n",
    "\n",
    "![](./images/3/Overall_Groups_Example_2.png)"
   ]
  },
  {
   "cell_type": "markdown",
   "metadata": {
    "application/vnd.databricks.v1+cell": {
     "cellMetadata": {},
     "inputWidgets": {},
     "nuid": "bd94d36f-65bc-413c-a72c-693704f1b274",
     "showTitle": false,
     "tableResultSettingsMap": {},
     "title": ""
    }
   },
   "source": [
    "## Statistics vs. Distribution\n",
    "- Summary statistics can **_hide important and interesting things_**\n",
    "- **_Different data_** can still have the **_same summary statistics_**\n",
    "- --> It is important not to solely rely on summary statistics, but take a deeper look\n",
    "\n",
    "**Example:**\n",
    "\n",
    "![](./images/3/Statistics_Distribution_Example.png)"
   ]
  },
  {
   "cell_type": "markdown",
   "metadata": {
    "application/vnd.databricks.v1+cell": {
     "cellMetadata": {},
     "inputWidgets": {},
     "nuid": "32c9e1f5-204d-49ac-80c5-3d43e90a8161",
     "showTitle": false,
     "tableResultSettingsMap": {},
     "title": ""
    }
   },
   "source": [
    "## Relative vs. Absolute Change\n",
    "- Relative changes on **_small_** numbers often look **_big_**.\n",
    "- Relative changes on **_big_** numbers often look **_small_**.\n",
    "- Absolute changes on **_small_** numbers often look **_small_**.\n",
    "- Absolute changes on **_big_** numbers often look **_big_**.\n",
    "- --> Explore both types of changes when looking at data.\n",
    "\n",
    "![](./images/3/Relative_Absolute_Change_Example.png)"
   ]
  }
 ],
 "metadata": {
  "application/vnd.databricks.v1+notebook": {
   "dashboards": [],
   "environmentMetadata": {
    "base_environment": "",
    "client": "1"
   },
   "language": "python",
   "notebookMetadata": {
    "pythonIndentUnit": 4
   },
   "notebookName": "3. Descriptive Analysis",
   "widgets": {}
  },
  "language_info": {
   "name": "python"
  }
 },
 "nbformat": 4,
 "nbformat_minor": 0
}

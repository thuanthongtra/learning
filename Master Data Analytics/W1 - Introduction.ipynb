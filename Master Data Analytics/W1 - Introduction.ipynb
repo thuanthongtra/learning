{
 "cells": [
  {
   "cell_type": "markdown",
   "metadata": {
    "application/vnd.databricks.v1+cell": {
     "cellMetadata": {},
     "inputWidgets": {},
     "nuid": "13c39841-06fa-421c-b945-d5f259979d75",
     "showTitle": false,
     "title": ""
    }
   },
   "source": [
    "[1.1. MDA_INTRODUCTION_BI PROGRAM_Update 16.4.pdf](./slides/1.1. MDA_INTRODUCTION_BI PROGRAM_Update 16.4.pdf)"
   ]
  },
  {
   "cell_type": "markdown",
   "metadata": {
    "application/vnd.databricks.v1+cell": {
     "cellMetadata": {},
     "inputWidgets": {},
     "nuid": "8fca3c80-4156-48f3-a90b-63bbae566c56",
     "showTitle": false,
     "title": ""
    }
   },
   "source": [
    "# Data Analytics Maturity"
   ]
  },
  {
   "cell_type": "markdown",
   "metadata": {
    "application/vnd.databricks.v1+cell": {
     "cellMetadata": {},
     "inputWidgets": {},
     "nuid": "7c8ba44d-2c03-4c00-b7c4-747337c15cc5",
     "showTitle": false,
     "title": ""
    }
   },
   "source": [
    "![](./images/W1/Data_Analytics_Maturity.png)"
   ]
  },
  {
   "cell_type": "markdown",
   "metadata": {
    "application/vnd.databricks.v1+cell": {
     "cellMetadata": {},
     "inputWidgets": {},
     "nuid": "64f5ffcb-eab8-4362-ae36-33e83cbe4fe0",
     "showTitle": false,
     "title": ""
    }
   },
   "source": [
    "# Analytics Techniques"
   ]
  },
  {
   "cell_type": "markdown",
   "metadata": {
    "application/vnd.databricks.v1+cell": {
     "cellMetadata": {},
     "inputWidgets": {},
     "nuid": "9c507662-d0e5-40f4-be85-aece8a81e502",
     "showTitle": false,
     "title": ""
    }
   },
   "source": [
    "## 2-step Process For Developing Data Story\n",
    "\n",
    "![](./images/W1/2-Step_Data_Story_Developing.png)\n",
    "\n",
    "**Should not:**\n",
    "- Directly/randomly read + draw data --> present to audience\n",
    "\n",
    "\n",
    "**Should:**\n",
    "- Step 1 - **Exploratory Data Analysis (EDA)**: Deep dive into the data to derive **insights**.\n",
    "  - Result: could have **_30-40 pages_** of details of data and how data related to each other\n",
    "  - Those details would not be presented to audience\n",
    "- Step 2: Emphasize what should be presented to build a story."
   ]
  },
  {
   "cell_type": "markdown",
   "metadata": {
    "application/vnd.databricks.v1+cell": {
     "cellMetadata": {},
     "inputWidgets": {},
     "nuid": "ca8b77b4-4e17-4d7a-919f-b965f42d4bd4",
     "showTitle": false,
     "title": ""
    }
   },
   "source": [
    "**Example:**\n",
    "![](./images/W1/Before_After_Step2.png)\n",
    "- Before: It was hard to see data, too much lables, too many columns\n",
    "- After:\n",
    "  - 1/ **Color** of Processed is more emphasized than Received\n",
    "  - 2/ **Veritcal line** in May to illustrate that the number of tickets from Jan to May are the same for Received and Processed\n",
    "  - 3/ **Text** explains the reasons"
   ]
  },
  {
   "cell_type": "markdown",
   "metadata": {
    "application/vnd.databricks.v1+cell": {
     "cellMetadata": {},
     "inputWidgets": {},
     "nuid": "d06ded9d-2d3a-44ca-8955-e4a5f0a4fd4e",
     "showTitle": false,
     "title": ""
    }
   },
   "source": [
    "## Taxonomy\n",
    "In data mining we will apply **Taxonomy** (which includes analyzing techniques) to ensure all types of data will be analyzed. \n",
    "\n",
    "**For example:** Categorical vs. Numerical variables\n",
    "\n",
    "![](./images/W1/Descriptive_Taxonomy.png)\n"
   ]
  },
  {
   "cell_type": "markdown",
   "metadata": {
    "application/vnd.databricks.v1+cell": {
     "cellMetadata": {},
     "inputWidgets": {},
     "nuid": "fa650f3d-f465-4e12-be19-62c9f6c7576e",
     "showTitle": false,
     "title": ""
    }
   },
   "source": [
    "# Dashboard, Insight, Storytelling"
   ]
  },
  {
   "cell_type": "markdown",
   "metadata": {
    "application/vnd.databricks.v1+cell": {
     "cellMetadata": {},
     "inputWidgets": {},
     "nuid": "6b5b323c-b44b-4eae-a422-a10226e26980",
     "showTitle": false,
     "title": ""
    }
   },
   "source": [
    "## Types of Analytical Application"
   ]
  },
  {
   "cell_type": "markdown",
   "metadata": {
    "application/vnd.databricks.v1+cell": {
     "cellMetadata": {},
     "inputWidgets": {},
     "nuid": "2a617bfe-40a4-4880-a713-0d8bbf45e4c7",
     "showTitle": false,
     "title": ""
    }
   },
   "source": [
    "### 1/ Operational Dashboard\n",
    "- Target users: **Operational workers**\n",
    "- Analysis type:\n",
    "  - Monitoring **activities** that are constantly changing\n",
    "  - **Real-time** or **near real-time** data"
   ]
  },
  {
   "cell_type": "markdown",
   "metadata": {
    "application/vnd.databricks.v1+cell": {
     "cellMetadata": {},
     "inputWidgets": {},
     "nuid": "569af478-1358-48c4-a1b9-f752f7f3aca2",
     "showTitle": false,
     "title": ""
    }
   },
   "source": [
    "**Tip 1: List metrics**\n",
    "- Have list of metrics for each department to analyze\n",
    "  - Ensure data team & business users to have **1 agreement** on what to show on report\n",
    "  - Understand limitations:\n",
    "    - **missing data** of current system, e.g. some data cannot be acquired due to systems limiations\n",
    "    - **missing aspects** that the company does not currently applying\n",
    "\n",
    "![](./images/W1/List_Metrics.png)"
   ]
  },
  {
   "cell_type": "markdown",
   "metadata": {
    "application/vnd.databricks.v1+cell": {
     "cellMetadata": {},
     "inputWidgets": {},
     "nuid": "59115384-a2e2-4ca9-a72f-460591e93bee",
     "showTitle": false,
     "title": ""
    }
   },
   "source": [
    "**Tip 2: Understand business domain**\n",
    "- Learn from business users who have **strong domain knowledge**\n",
    "  - Understand: process, steps, what to focus\n",
    "\n",
    "![](./images/W1/Understand_Business_Domain.png)"
   ]
  },
  {
   "cell_type": "markdown",
   "metadata": {
    "application/vnd.databricks.v1+cell": {
     "cellMetadata": {},
     "inputWidgets": {},
     "nuid": "ef7bc94e-1a91-4743-8958-458e920b9724",
     "showTitle": false,
     "title": ""
    }
   },
   "source": [
    "**Tip 3: Interview User & Mockup**\n",
    "- Finalize requirement & design\n",
    "  - To get 1st build (could cover 80-90%), then there will be adjustments\n",
    "\n",
    "![](./images/W1/Interview_Mockup.png)"
   ]
  },
  {
   "cell_type": "markdown",
   "metadata": {
    "application/vnd.databricks.v1+cell": {
     "cellMetadata": {},
     "inputWidgets": {},
     "nuid": "11de937a-c92a-4fb5-9f75-b2fb87c3c4ad",
     "showTitle": false,
     "title": ""
    }
   },
   "source": [
    "### 2/ Analytical\n",
    "- Target users: **Mid-mgmt & Planning team**\n",
    "- Analysis type:\n",
    "  - **Complex data** with **rich comparison**\n",
    "  - Interactive display and **historical** data"
   ]
  },
  {
   "cell_type": "markdown",
   "metadata": {
    "application/vnd.databricks.v1+cell": {
     "cellMetadata": {},
     "inputWidgets": {},
     "nuid": "195b9074-d1ad-4df0-ab17-2a648e114697",
     "showTitle": false,
     "title": ""
    }
   },
   "source": [
    "### 3/ Strategic\n",
    "- Target users: **Decision makers & Senior Mgmt**\n",
    "- Analysis type:\n",
    "  - **High level** measure of performance\n",
    "  - Snapshots of daily, weekly & monthly data"
   ]
  },
  {
   "cell_type": "markdown",
   "metadata": {
    "application/vnd.databricks.v1+cell": {
     "cellMetadata": {},
     "inputWidgets": {},
     "nuid": "22ad8d1c-c398-4c02-bd46-30e91bcb3334",
     "showTitle": false,
     "title": ""
    }
   },
   "source": [
    "It is supposed to collect data from multiple departments to generate company report\n",
    "\n",
    "![](./images/W1/Strategic_Dashboard.png)"
   ]
  },
  {
   "cell_type": "markdown",
   "metadata": {
    "application/vnd.databricks.v1+cell": {
     "cellMetadata": {},
     "inputWidgets": {},
     "nuid": "20d7cd3b-b748-45f4-a680-de1fc14dbdeb",
     "showTitle": false,
     "title": ""
    }
   },
   "source": [
    "## Fact, Hypothesis, Observation, Insight\n",
    "- **Fact:** what already happened, e.g. Number of Sales, Revenue\n",
    "- **Hypothesis:** assumption why data behaved like this, e.g. Decrease in Sales caused by Sales team?\n",
    "- **Observation:** what we notice in the progress of data mining\n",
    "- **Insight:** what we can understand more about data and turn into action"
   ]
  },
  {
   "cell_type": "markdown",
   "metadata": {
    "application/vnd.databricks.v1+cell": {
     "cellMetadata": {},
     "inputWidgets": {},
     "nuid": "0a4f47b1-be51-4ce2-b504-feddd61d80d2",
     "showTitle": false,
     "title": ""
    }
   },
   "source": [
    "**How to get insight:**\n",
    "\n",
    "![](./images/W1/Actionable_Insight.png)"
   ]
  }
 ],
 "metadata": {
  "application/vnd.databricks.v1+notebook": {
   "dashboards": [],
   "environmentMetadata": {
    "base_environment": "",
    "client": "1"
   },
   "language": "python",
   "notebookMetadata": {
    "pythonIndentUnit": 4
   },
   "notebookName": "W1 - Introduction",
   "widgets": {}
  },
  "language_info": {
   "name": "python"
  }
 },
 "nbformat": 4,
 "nbformat_minor": 0
}

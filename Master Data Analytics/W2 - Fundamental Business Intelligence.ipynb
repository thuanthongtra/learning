{
 "cells": [
  {
   "cell_type": "markdown",
   "metadata": {
    "application/vnd.databricks.v1+cell": {
     "cellMetadata": {},
     "inputWidgets": {},
     "nuid": "886eea6b-a341-457c-9a36-82fdc8dfeabd",
     "showTitle": false,
     "tableResultSettingsMap": {},
     "title": ""
    }
   },
   "source": [
    "[2. MDA_Fundamental BI & Analytical Thinking.pdf](./slides/2. MDA_Fundamental BI & Analytical Thinking.pdf)"
   ]
  },
  {
   "cell_type": "markdown",
   "metadata": {
    "application/vnd.databricks.v1+cell": {
     "cellMetadata": {},
     "inputWidgets": {},
     "nuid": "fe6dea03-1242-435f-b26e-a4ed2de93225",
     "showTitle": false,
     "tableResultSettingsMap": {},
     "title": ""
    }
   },
   "source": [
    "# 1/ Business Intelligence Terminology"
   ]
  },
  {
   "cell_type": "markdown",
   "metadata": {
    "application/vnd.databricks.v1+cell": {
     "cellMetadata": {},
     "inputWidgets": {},
     "nuid": "2aeeda43-6cfb-4e03-889b-34d2de1f2067",
     "showTitle": false,
     "tableResultSettingsMap": {},
     "title": ""
    }
   },
   "source": [
    "## Business Intelligence vs. Business Analytics\n",
    "- **Business Intelligence** is more covering on **(1) Descriptive Analysis** and **(2) Diagnostic Analysis** because it uses historical data\n",
    "- **Business Analytics** is more covering on **(3) Predictive Analysis** and **(4) Prescriptive Analysis** (future analysis ) but will be based on **_Business Intelligence_**\n",
    "![](./images/W2/BI_BA.png)"
   ]
  },
  {
   "cell_type": "markdown",
   "metadata": {
    "application/vnd.databricks.v1+cell": {
     "cellMetadata": {},
     "inputWidgets": {},
     "nuid": "539ad4ef-6c60-4481-af18-d2f8f9ea84b1",
     "showTitle": false,
     "tableResultSettingsMap": {},
     "title": ""
    }
   },
   "source": [
    "## Understanding Data"
   ]
  },
  {
   "cell_type": "markdown",
   "metadata": {
    "application/vnd.databricks.v1+cell": {
     "cellMetadata": {},
     "inputWidgets": {},
     "nuid": "19eb6126-e694-42bb-a6b7-53c46b8bdafd",
     "showTitle": false,
     "tableResultSettingsMap": {},
     "title": ""
    }
   },
   "source": [
    "### Categories of Data"
   ]
  },
  {
   "cell_type": "markdown",
   "metadata": {
    "application/vnd.databricks.v1+cell": {
     "cellMetadata": {},
     "inputWidgets": {},
     "nuid": "d9f3f10f-fb12-40f1-9a3a-42eb686e15cf",
     "showTitle": false,
     "tableResultSettingsMap": {},
     "title": ""
    }
   },
   "source": [
    "#### Structured, Unstructured and Semi-Structured\n",
    "\n",
    "![](./images/W2/Structured_Unstructured_SemiStructured.png)"
   ]
  },
  {
   "cell_type": "markdown",
   "metadata": {
    "application/vnd.databricks.v1+cell": {
     "cellMetadata": {},
     "inputWidgets": {},
     "nuid": "e828e769-2526-40b1-8369-7df664941507",
     "showTitle": false,
     "tableResultSettingsMap": {},
     "title": ""
    }
   },
   "source": [
    "#### Data Warehouse, Data Lake, Data Lakehouse and Data Fabric\n",
    "- **Data Warehouse:** collect data from multiple sources and organize data to store structured data in 1 central data store with optimized performance, data exploration\n",
    "- **Data Lake:** store multiple types of data\n",
    "- **Data Lakehouse:** combine **_Data Warehouse_** and **_Data Lake_**\n",
    "- **Data Fabric:** unified framework to manage, integrate and access data across diverse environments. **_Data Warehouse_** and **_Data Lake_** more focuses on **_storing_** while **_Data Fabric_** focuses on **_connecting_** and **_integrating_**. It provides:\n",
    "  - Unified Data Access\n",
    "  - Facilitating data integration, without needing to move/copy data\n",
    "  - Ensuring Data Governance and Security\n",
    "  - Realtime Data and Self-service Access\n",
    "  - Automation\n",
    "\n",
    "[Database, Data Warehouse, Data Mart, Data Lake, Data Lakehouse, Data Fabric, Data Mesh](https://www.linkedin.com/pulse/11-ph%25C3%25A2n-bi%25E1%25BB%2587t-data-mesh-vs-lake-warehouse-mart-phuong-thao-analytics/?trackingId=n7w66%2BtdRmGjwaaOkdQafg%3D%3D)\n",
    "\n",
    "![](./images/W2/DW_DL_DF.png)"
   ]
  },
  {
   "cell_type": "markdown",
   "metadata": {
    "application/vnd.databricks.v1+cell": {
     "cellMetadata": {},
     "inputWidgets": {},
     "nuid": "2a480093-2123-41fe-a5e1-f32dcea7ae22",
     "showTitle": false,
     "tableResultSettingsMap": {},
     "title": ""
    }
   },
   "source": [
    "### Structures of Data"
   ]
  },
  {
   "cell_type": "markdown",
   "metadata": {
    "application/vnd.databricks.v1+cell": {
     "cellMetadata": {},
     "inputWidgets": {},
     "nuid": "b8d27e05-809c-41b5-a409-2530aba6a42c",
     "showTitle": false,
     "tableResultSettingsMap": {},
     "title": ""
    }
   },
   "source": [
    "#### Cross-sectional, Time Series, Panel Data"
   ]
  },
  {
   "cell_type": "markdown",
   "metadata": {
    "application/vnd.databricks.v1+cell": {
     "cellMetadata": {},
     "inputWidgets": {},
     "nuid": "32c0a554-2939-4fee-a2a9-a7c668aa6916",
     "showTitle": false,
     "tableResultSettingsMap": {},
     "title": ""
    }
   },
   "source": [
    "- **Cross-sectional Data:** data collected several elements/entities at **the same (or approxiamtely same) time**\n",
    "\n",
    "![](./images/W2/Cross_Sectional_Data.png)\n",
    "\n",
    "- **Time Series Data:** data collected over **several time periods** (Year, Month, Day, Hour...). It helps to:\n",
    "  - Understand what happened in the past\n",
    "  - Identify trends over time\n",
    "  - Project future levels\n",
    "\n",
    "![](./images/W2/Time_Series_Data.png)\n",
    "\n",
    "**Question:** how to determine which data should be collect and report in hourly, daily, monthly?\n",
    "- Based on the need, e.g. promotion campaign within a day should run data in real-time, near-realtime data, in order to understand which time has high traffic\n",
    "- Based on season, e.g which month tourists come the most?"
   ]
  },
  {
   "cell_type": "markdown",
   "metadata": {
    "application/vnd.databricks.v1+cell": {
     "cellMetadata": {},
     "inputWidgets": {},
     "nuid": "cd4983e3-e941-4054-861c-bb699181e2b0",
     "showTitle": false,
     "tableResultSettingsMap": {},
     "title": ""
    }
   },
   "source": [
    "- **Panel Data:** Combination of **_Cross-secional Data_** + **_Time Series_**\n",
    "\n",
    "![](./images/W2/Panel_Data.png)"
   ]
  },
  {
   "cell_type": "markdown",
   "metadata": {
    "application/vnd.databricks.v1+cell": {
     "cellMetadata": {},
     "inputWidgets": {},
     "nuid": "8ec15407-68fa-43c4-b4f7-bc358dc36bbc",
     "showTitle": false,
     "tableResultSettingsMap": {},
     "title": ""
    }
   },
   "source": [
    "#### Cross/Contingency/Pivot Table\n",
    "\n",
    "![](./images/W2/Pivot_Table.png)"
   ]
  },
  {
   "cell_type": "markdown",
   "metadata": {
    "application/vnd.databricks.v1+cell": {
     "cellMetadata": {},
     "inputWidgets": {},
     "nuid": "d71a9ef8-a15c-4f9a-b26e-d2b84f4c7a33",
     "showTitle": false,
     "tableResultSettingsMap": {},
     "title": ""
    }
   },
   "source": [
    "#### Stacked & Unstacked Data\n",
    "\n",
    "![](./images/W2/Stacked_Unstacked_Data.png)"
   ]
  },
  {
   "cell_type": "markdown",
   "metadata": {
    "application/vnd.databricks.v1+cell": {
     "cellMetadata": {},
     "inputWidgets": {},
     "nuid": "39d0b815-4e4f-4dab-9826-856d43892094",
     "showTitle": false,
     "tableResultSettingsMap": {},
     "title": ""
    }
   },
   "source": [
    "#### Wide & Narrow Format\n",
    "\n",
    "![](./images/W2/Wide_Narrow_Format.png)"
   ]
  },
  {
   "cell_type": "markdown",
   "metadata": {
    "application/vnd.databricks.v1+cell": {
     "cellMetadata": {},
     "inputWidgets": {},
     "nuid": "75bcf3eb-7138-411f-9384-6f252967a6cb",
     "showTitle": false,
     "tableResultSettingsMap": {},
     "title": ""
    }
   },
   "source": [
    "### Data Face\n",
    "\n",
    "![](./images/W2/Data_Face.png)"
   ]
  },
  {
   "cell_type": "markdown",
   "metadata": {
    "application/vnd.databricks.v1+cell": {
     "cellMetadata": {},
     "inputWidgets": {},
     "nuid": "f53a661a-f888-4bae-b26c-2c54754b2335",
     "showTitle": false,
     "tableResultSettingsMap": {},
     "title": ""
    }
   },
   "source": [
    "# 2/ Business Intelligence in Corporates"
   ]
  },
  {
   "cell_type": "markdown",
   "metadata": {
    "application/vnd.databricks.v1+cell": {
     "cellMetadata": {},
     "inputWidgets": {},
     "nuid": "0ef10cb2-e6c4-4fe2-b2cf-229af793b4ee",
     "showTitle": false,
     "tableResultSettingsMap": {},
     "title": ""
    }
   },
   "source": [
    "## Self-service BI & Analytics"
   ]
  },
  {
   "cell_type": "markdown",
   "metadata": {
    "application/vnd.databricks.v1+cell": {
     "cellMetadata": {},
     "inputWidgets": {},
     "nuid": "2aefad8f-1055-44c8-880b-ed881cb60486",
     "showTitle": false,
     "tableResultSettingsMap": {},
     "title": ""
    }
   },
   "source": [
    "\n",
    "![](./images/W2/BI_In_Corporates.png)"
   ]
  },
  {
   "cell_type": "markdown",
   "metadata": {
    "application/vnd.databricks.v1+cell": {
     "cellMetadata": {},
     "inputWidgets": {},
     "nuid": "3cac1c2d-0730-4de9-bd0a-6c178a46bd70",
     "showTitle": false,
     "tableResultSettingsMap": {},
     "title": ""
    }
   },
   "source": [
    "## Analytics structure and Coordination Model"
   ]
  },
  {
   "cell_type": "markdown",
   "metadata": {
    "application/vnd.databricks.v1+cell": {
     "cellMetadata": {},
     "inputWidgets": {},
     "nuid": "9a2c540f-ffa3-4bbd-af8a-47ab85d3e005",
     "showTitle": false,
     "tableResultSettingsMap": {},
     "title": ""
    }
   },
   "source": [
    "### BI Discovery\n",
    "\n",
    "![](./images/W2/BI_Discovery.png)"
   ]
  },
  {
   "cell_type": "markdown",
   "metadata": {
    "application/vnd.databricks.v1+cell": {
     "cellMetadata": {},
     "inputWidgets": {},
     "nuid": "26ba0178-2e95-400a-ae0d-5e7728b405f5",
     "showTitle": false,
     "tableResultSettingsMap": {},
     "title": ""
    }
   },
   "source": [
    "### Team Model\n",
    "- **Centralized:** all members of data team will stay in **1 team**. Each request of user from other departments will be queued and resolved in sequence\n",
    "- **Allocated:** members of data team will be **assigned to other deparments** to collect/report data to a designated department. However, those members is in data team\n",
    "- **Coordinated**: each department has **its own data memebers** to collect/report data. There will be a centralized team who will collect data from all department and generate reports for **_Strategic Analytic_** (for managers, senior managers)\n",
    "- **Distributed:** each department has **its own data memebers** to collect/report data, **no connection**\n",
    "\n",
    "![](./images/W2/Team_Model.png)"
   ]
  },
  {
   "cell_type": "markdown",
   "metadata": {
    "application/vnd.databricks.v1+cell": {
     "cellMetadata": {},
     "inputWidgets": {},
     "nuid": "e4859985-b07c-484a-9201-98ef4aefbc90",
     "showTitle": false,
     "tableResultSettingsMap": {},
     "title": ""
    }
   },
   "source": [
    "Example of **_Coordinated_**:\n",
    "\n",
    "![](./images/W2/Coordinated.png)"
   ]
  },
  {
   "cell_type": "markdown",
   "metadata": {
    "application/vnd.databricks.v1+cell": {
     "cellMetadata": {},
     "inputWidgets": {},
     "nuid": "b9288428-02e9-457d-9f62-c997412d9f30",
     "showTitle": false,
     "tableResultSettingsMap": {},
     "title": ""
    }
   },
   "source": [
    "### BI Success (Individual)\n",
    "\n",
    "![](./images/W2/BI_Success_Individual.png)"
   ]
  },
  {
   "cell_type": "markdown",
   "metadata": {
    "application/vnd.databricks.v1+cell": {
     "cellMetadata": {},
     "inputWidgets": {},
     "nuid": "e929eb4d-7aa8-4e76-82f9-ed31af7b6247",
     "showTitle": false,
     "tableResultSettingsMap": {},
     "title": ""
    }
   },
   "source": [
    "### BI Success (Organization)\n",
    "In Organization perspective, we need connection of:\n",
    "1. **People Domain**: get alignment, support from teams\n",
    "2. **Process Domain:** build visions and apply processes\n",
    "3. **Technology Domain:** infrastructure to be ready\n",
    "4. **Data Domain:** data integration, data organization within the company and outside the company\n",
    "![](./images/W2/BI_Success_Organization.png)"
   ]
  },
  {
   "cell_type": "markdown",
   "metadata": {
    "application/vnd.databricks.v1+cell": {
     "cellMetadata": {},
     "inputWidgets": {},
     "nuid": "e51fe2ba-48a1-461d-9b93-b50df1e6b8c5",
     "showTitle": false,
     "tableResultSettingsMap": {},
     "title": ""
    }
   },
   "source": [
    "### Evolution of BI\n",
    "IT will have more role in the future to bring data to support users\n",
    "![](./images/W2/Evolution_BI.png)"
   ]
  },
  {
   "cell_type": "markdown",
   "metadata": {
    "application/vnd.databricks.v1+cell": {
     "cellMetadata": {},
     "inputWidgets": {},
     "nuid": "d8d5f6c0-3375-46fa-8845-9e31684a234c",
     "showTitle": false,
     "tableResultSettingsMap": {},
     "title": ""
    }
   },
   "source": [
    "### How BI Helps Organization?\n",
    "\n",
    "![](./images/W2/BI_Helps_Organization.png)"
   ]
  }
 ],
 "metadata": {
  "application/vnd.databricks.v1+notebook": {
   "dashboards": [],
   "environmentMetadata": {
    "base_environment": "",
    "client": "1"
   },
   "language": "python",
   "notebookMetadata": {
    "pythonIndentUnit": 4
   },
   "notebookName": "W2 - Fundamental Business Intelligence",
   "widgets": {}
  },
  "language_info": {
   "name": "python"
  }
 },
 "nbformat": 4,
 "nbformat_minor": 0
}

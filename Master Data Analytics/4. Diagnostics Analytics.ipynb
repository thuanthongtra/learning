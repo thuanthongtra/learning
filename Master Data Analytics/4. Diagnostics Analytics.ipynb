{
 "cells": [
  {
   "cell_type": "markdown",
   "metadata": {
    "application/vnd.databricks.v1+cell": {
     "cellMetadata": {},
     "inputWidgets": {},
     "nuid": "696d1aa0-76b7-4a05-97af-09178621dc57",
     "showTitle": false,
     "tableResultSettingsMap": {},
     "title": ""
    }
   },
   "source": [
    "# Overview\n",
    "![](./images/4/Overview.png)"
   ]
  },
  {
   "cell_type": "markdown",
   "metadata": {
    "application/vnd.databricks.v1+cell": {
     "cellMetadata": {},
     "inputWidgets": {},
     "nuid": "c4aee741-09e4-4356-825a-23276c9fa879",
     "showTitle": false,
     "tableResultSettingsMap": {},
     "title": ""
    }
   },
   "source": [
    "# Relationship\n",
    "\n",
    "![](./images/4/Overview_Relationship.png)"
   ]
  },
  {
   "cell_type": "markdown",
   "metadata": {
    "application/vnd.databricks.v1+cell": {
     "cellMetadata": {},
     "inputWidgets": {},
     "nuid": "06a2056d-6439-4fe8-8dda-13b32ce321b5",
     "showTitle": false,
     "tableResultSettingsMap": {},
     "title": ""
    }
   },
   "source": [
    "## Aggregation Analysis\n",
    "- Calculate a value across a group or dimension\n",
    "- Aggregation is often done in reporting to be able to \"slice and dice\" information to make decisions and view performance\n",
    "- For example, aggregate sales data\n",
    "  - for a salesperson by month\n",
    "  - by month per sales territory\n",
    "- **Applications:**\n",
    "  - In Dashboard Design: Data Exploration. For example, Channel vs. Region\n",
    "\n",
    "  ![](./images/4/Dashboard_Design.png)\n",
    "\n",
    "  - In ad-hoc Analytics: choose which category to focus\n",
    "  \n",
    "  ![](./images/4/Adhoc_Analytics.png)"
   ]
  },
  {
   "cell_type": "markdown",
   "metadata": {
    "application/vnd.databricks.v1+cell": {
     "cellMetadata": {},
     "inputWidgets": {},
     "nuid": "c08d5a27-67e5-4a0c-b157-f39f637f829b",
     "showTitle": false,
     "tableResultSettingsMap": {},
     "title": ""
    }
   },
   "source": [
    "## Categorical vs. Categorical\n",
    "\n",
    "![](./images/4/Cat_Cat_Overview.png)"
   ]
  },
  {
   "cell_type": "markdown",
   "metadata": {
    "application/vnd.databricks.v1+cell": {
     "cellMetadata": {},
     "inputWidgets": {},
     "nuid": "55a29234-f34c-421e-9270-ff87b8fbdc34",
     "showTitle": false,
     "tableResultSettingsMap": {},
     "title": ""
    }
   },
   "source": [
    "### Calculation\n",
    "We ussually use **_count_** and **_count%_** of **_keys_** of the most granular detailed data (or **_number of rows_** if there is no key)\n",
    "- Noted: don't put any measure for count/sum for Cat vs. Cat. For example, **_Channel_** vs. **_Georgraphy_**, don't put **_Sales Amount_**\n",
    "\n",
    "![](./images/4/Cat_Cat_Calculation_Incorrect_Example.png)"
   ]
  },
  {
   "cell_type": "markdown",
   "metadata": {
    "application/vnd.databricks.v1+cell": {
     "cellMetadata": {},
     "inputWidgets": {},
     "nuid": "5f559fb9-aa74-4b1c-bd94-9dddc7336ae6",
     "showTitle": false,
     "tableResultSettingsMap": {},
     "title": ""
    }
   },
   "source": [
    "### Displaying\n",
    "\n",
    "![](./images/4/Combined_Cat_Cat_Example.png)"
   ]
  },
  {
   "cell_type": "markdown",
   "metadata": {
    "application/vnd.databricks.v1+cell": {
     "cellMetadata": {},
     "inputWidgets": {},
     "nuid": "1d0e54cb-9f59-48c6-a245-b088b7150a49",
     "showTitle": false,
     "tableResultSettingsMap": {},
     "title": ""
    }
   },
   "source": [
    "#### Two-way Table and Stacked Column Chart\n",
    "We can use following methods:\n",
    "- **Two-way table:** of **_count_** and **_count%_**\n",
    "  - Rows: represent the category of 1 variable\n",
    "  - Columns: represent te categories of other variables\n",
    "- **Stacked Column Chart:** is a visual form of **_Two-way table_**\n",
    "\n",
    "**Example:**\n",
    "![](./images/4/Twoway_Table_Stacked_Column_Chart_Example.png)"
   ]
  },
  {
   "cell_type": "markdown",
   "metadata": {
    "application/vnd.databricks.v1+cell": {
     "cellMetadata": {},
     "inputWidgets": {},
     "nuid": "d50f9e63-db37-4687-92a6-989aa5340c44",
     "showTitle": false,
     "tableResultSettingsMap": {},
     "title": ""
    }
   },
   "source": [
    "##### Counts vs. Percentages\n",
    "There is no single correct way to display the data in crosstabs. Ultimately, the data is always counts, but they can be shown as:\n",
    "1. Raw Counts (Absolute)\n",
    "2. Percentage of **_Overall_** Totals\n",
    "3. Percentages of **_Column_** Totals\n",
    "4. Percentage of **_Row_** Totals\n",
    "\n",
    "![](./images/4/Count_Percentages_Exmaple.png)"
   ]
  },
  {
   "cell_type": "markdown",
   "metadata": {
    "application/vnd.databricks.v1+cell": {
     "cellMetadata": {},
     "inputWidgets": {},
     "nuid": "118555f8-007d-4298-ba1a-15dd702c744d",
     "showTitle": false,
     "tableResultSettingsMap": {},
     "title": ""
    }
   },
   "source": [
    "Nevertheless, showing the counts as percentages of **_row_** totals or percentages of **_column_** totals makes any relationships stand out **_more clearly_**.\n",
    "\n",
    "**Example:**\n",
    "\n",
    "![](./images/4/Combined_Cat_Cat_Example.png)"
   ]
  },
  {
   "cell_type": "markdown",
   "metadata": {
    "application/vnd.databricks.v1+cell": {
     "cellMetadata": {},
     "inputWidgets": {},
     "nuid": "37da2725-2076-4e19-bfcf-0129ef21e592",
     "showTitle": false,
     "tableResultSettingsMap": {},
     "title": ""
    }
   },
   "source": [
    "##### Example: why we need to have multiple views of count%\n",
    "**Question:** should we target **_single_** or **_married_** customers who are willing for **_home delivery_**?\n",
    "\n",
    "**Scenario 1:** Look at **_count_** and **_count% overal_**\n",
    "\n",
    "--> We might decide focus on **_single_** (because 15.9%) compared to **_married_** (12.7%), but it seems **_incorrect_**\n",
    "\n",
    "![](./images/4/Count_Count_Example_1.png)\n",
    "\n",
    "**Scenario 2:** Look at **_count%_** in **_row totals_** and **_column totals_**\n",
    "\n",
    "--> Clearer views of how martial status contribute. In this case we choose **_married_** (35%) instead of **_single_** (25%)\n",
    "\n",
    "![](./images/4/Count_Count_Example_2.png)"
   ]
  },
  {
   "cell_type": "markdown",
   "metadata": {
    "application/vnd.databricks.v1+cell": {
     "cellMetadata": {},
     "inputWidgets": {},
     "nuid": "a1d3b8b2-7645-4619-8cfe-28be251a15ab",
     "showTitle": false,
     "tableResultSettingsMap": {},
     "title": ""
    }
   },
   "source": [
    "#### Tornado Chart\n",
    "In case a Category has **_2 values_**, we can use **Tornado chart** to compare\n",
    "\n",
    "**Example:**\n",
    "\n",
    "![](./images/4/Tornado_Chart_Example.png)"
   ]
  },
  {
   "cell_type": "markdown",
   "metadata": {
    "application/vnd.databricks.v1+cell": {
     "cellMetadata": {},
     "inputWidgets": {},
     "nuid": "63bbc66c-88c6-4504-a5dc-095aa96dcdca",
     "showTitle": false,
     "tableResultSettingsMap": {},
     "title": ""
    }
   },
   "source": [
    "#### Mekko Chart\n",
    "In case we want to display both **_absolute_** and **_relative_** numbers, we can use **Mekko Chart**\n",
    "\n",
    "**Example:**\n",
    "\n",
    "![](./images/4/Mekko_Chart_Example.png)"
   ]
  },
  {
   "cell_type": "markdown",
   "metadata": {
    "application/vnd.databricks.v1+cell": {
     "cellMetadata": {},
     "inputWidgets": {},
     "nuid": "7cd3cb23-4ebd-48e4-9ea3-21eb80e4315e",
     "showTitle": false,
     "tableResultSettingsMap": {},
     "title": ""
    }
   },
   "source": [
    "### Too Many Cat-Cat Pairs in Data source\n",
    "When there are many combinations of categorical variables, we can apply:\n",
    "1. Main DIM category\n",
    "2. Using Hierarchy\n",
    "3. Using Business Domain knowledge to choose important variables\n",
    "4. Combine charts\n",
    "5. Reduce dimensional techniques\n",
    "\n",
    "![](./images/4/Too_Many_Cat_Cat_Variables_Example.png)"
   ]
  },
  {
   "cell_type": "markdown",
   "metadata": {
    "application/vnd.databricks.v1+cell": {
     "cellMetadata": {},
     "inputWidgets": {},
     "nuid": "a51863ba-457d-4a76-bf76-4bae3f9ddc90",
     "showTitle": false,
     "tableResultSettingsMap": {},
     "title": ""
    }
   },
   "source": [
    "### Chi-square test\n",
    "**Question:** can the **_relationship observed in the sample data_** be inferred to hold in the **_population_** represented by the data?\n",
    "\n",
    "**Chi-square test:** test association\n",
    "- H0: The 2 variables are not related in the population\n",
    "- H1: The 2 variables are related in the population\n",
    "\n",
    "![](./images/4/Chi_square_Test_Example.png)"
   ]
  },
  {
   "cell_type": "markdown",
   "metadata": {
    "application/vnd.databricks.v1+cell": {
     "cellMetadata": {},
     "inputWidgets": {},
     "nuid": "4d34cd3a-a054-459d-8c15-9b32afd8bf35",
     "showTitle": false,
     "tableResultSettingsMap": {},
     "title": ""
    }
   },
   "source": [
    "## Categorical vs. Numerical\n",
    "Categorical & Numerical: Compare the **numerical** variables across **_each of the levels_** of the **_categorical_** variable\n",
    "\n",
    "![](./images/4/Cat_Num_Overview.png)"
   ]
  },
  {
   "cell_type": "markdown",
   "metadata": {
    "application/vnd.databricks.v1+cell": {
     "cellMetadata": {},
     "inputWidgets": {},
     "nuid": "47794b4c-86de-47ab-b014-90a4a42777be",
     "showTitle": false,
     "tableResultSettingsMap": {},
     "title": ""
    }
   },
   "source": [
    "**Sample Data:**\n",
    "\n",
    "![](./images/4/Sample_Data.png)"
   ]
  },
  {
   "cell_type": "markdown",
   "metadata": {
    "application/vnd.databricks.v1+cell": {
     "cellMetadata": {},
     "inputWidgets": {},
     "nuid": "9e5af634-06af-4a6b-a204-abb377b01315",
     "showTitle": false,
     "tableResultSettingsMap": {},
     "title": ""
    }
   },
   "source": [
    "### Calculation\n",
    "With numerical variables we do the same 3 calculations (similar to Descriptive Analysis for numerical variable):\n",
    "1. Central Tendency\n",
    "2. Dispersion\n",
    "3. Shape"
   ]
  },
  {
   "cell_type": "markdown",
   "metadata": {
    "application/vnd.databricks.v1+cell": {
     "cellMetadata": {},
     "inputWidgets": {},
     "nuid": "29a3e650-0f0b-4503-b664-2a27aa937fc7",
     "showTitle": false,
     "tableResultSettingsMap": {},
     "title": ""
    }
   },
   "source": [
    "### Displaying\n",
    "\n",
    "![](./images/4/Cat_Num_Example.png)"
   ]
  },
  {
   "cell_type": "markdown",
   "metadata": {
    "application/vnd.databricks.v1+cell": {
     "cellMetadata": {},
     "inputWidgets": {},
     "nuid": "ea589a53-d844-4ad9-8c95-9a1336d98a7f",
     "showTitle": false,
     "tableResultSettingsMap": {},
     "title": ""
    }
   },
   "source": [
    "#### Metrics\n",
    "To show the **Summary Measure**\n",
    "\n",
    "![](./images/4/Cat_Num_Summary_Measure_Example.png)"
   ]
  },
  {
   "cell_type": "markdown",
   "metadata": {
    "application/vnd.databricks.v1+cell": {
     "cellMetadata": {},
     "inputWidgets": {},
     "nuid": "473e1e55-cf85-4433-96c0-606ca46decd8",
     "showTitle": false,
     "tableResultSettingsMap": {},
     "title": ""
    }
   },
   "source": [
    "#### Cluster Bar Chart\n",
    "To show Aggregation of measure in Static and Change Over Time\n",
    "\n",
    "![](./images/4/Cat_Num_Static_ChangeOverTime_Example.png)"
   ]
  },
  {
   "cell_type": "markdown",
   "metadata": {
    "application/vnd.databricks.v1+cell": {
     "cellMetadata": {},
     "inputWidgets": {},
     "nuid": "20144d8a-c398-49c2-85d0-322e617e191b",
     "showTitle": false,
     "tableResultSettingsMap": {},
     "title": ""
    }
   },
   "source": [
    "#### Pareto Chart\n",
    "To show 80/20\n",
    "\n",
    "![](./images/4/Cat_Num_Pareto_Example.png)"
   ]
  },
  {
   "cell_type": "markdown",
   "metadata": {
    "application/vnd.databricks.v1+cell": {
     "cellMetadata": {},
     "inputWidgets": {},
     "nuid": "d5486d99-763c-4007-89b6-1a31ef658c65",
     "showTitle": false,
     "tableResultSettingsMap": {},
     "title": ""
    }
   },
   "source": [
    "#### Magnitude Cuts (using Average)\n",
    "We apply **_Top filter_** to show Top/Bottom 5 or 10 categorical variables\n",
    "- Noted we use **AVERAGE** instead of SUM or COUNT\n",
    "\n",
    "![](./images/4/Cat_Num_Magnitude_Cuts_Example.png)"
   ]
  },
  {
   "cell_type": "markdown",
   "metadata": {
    "application/vnd.databricks.v1+cell": {
     "cellMetadata": {},
     "inputWidgets": {},
     "nuid": "fc5cb51e-ba62-46b4-9043-0ad24c7ebec6",
     "showTitle": false,
     "tableResultSettingsMap": {},
     "title": ""
    }
   },
   "source": [
    "#### Side-by-side Box Plots\n",
    "There are 2 visuals that can be used"
   ]
  },
  {
   "cell_type": "markdown",
   "metadata": {
    "application/vnd.databricks.v1+cell": {
     "cellMetadata": {},
     "inputWidgets": {},
     "nuid": "3f9e4869-4761-48f4-9610-0484b9c97ab5",
     "showTitle": false,
     "tableResultSettingsMap": {},
     "title": ""
    }
   },
   "source": [
    "##### Box and Whisker by MAQ Software\n",
    "**Step 1:** add data\n",
    "\n",
    "![](./images/4/Box_Whisker_MAQ_Software_Example_1.png)\n",
    "\n",
    "**Step 2:** add outliers limit by IQR\n",
    "\n",
    "![](./images/4/Box_Whisker_MAQ_Software_Example_2.png)"
   ]
  },
  {
   "cell_type": "markdown",
   "metadata": {
    "application/vnd.databricks.v1+cell": {
     "cellMetadata": {},
     "inputWidgets": {},
     "nuid": "1b9b53cf-2e95-4bce-b27f-18d27d57b345",
     "showTitle": false,
     "tableResultSettingsMap": {},
     "title": ""
    }
   },
   "source": [
    "##### Box and Whisker chart\n",
    "**Step 1:** add data\n",
    "\n",
    "![](./images/4/Box_Whisker_Chart_Example_1.png)\n",
    "\n",
    "**Step 2:** add outliers limit by IQR\n",
    "\n",
    "![](./images/4/Box_Whisker_Chart_Example_2.png)"
   ]
  },
  {
   "cell_type": "markdown",
   "metadata": {
    "application/vnd.databricks.v1+cell": {
     "cellMetadata": {},
     "inputWidgets": {},
     "nuid": "c18998e2-ae32-4d51-b170-4dfe0456ebc9",
     "showTitle": false,
     "tableResultSettingsMap": {},
     "title": ""
    }
   },
   "source": [
    "### T-Test\n",
    "..."
   ]
  },
  {
   "cell_type": "markdown",
   "metadata": {
    "application/vnd.databricks.v1+cell": {
     "cellMetadata": {},
     "inputWidgets": {},
     "nuid": "aabdfde3-6b00-4588-b6e9-63b1d8eba9e5",
     "showTitle": false,
     "tableResultSettingsMap": {},
     "title": ""
    }
   },
   "source": [
    "## Numerical vs. Numerical\n",
    "\n",
    "![](./images/4/Among_Numerical_Overview.png)"
   ]
  },
  {
   "cell_type": "markdown",
   "metadata": {
    "application/vnd.databricks.v1+cell": {
     "cellMetadata": {},
     "inputWidgets": {},
     "nuid": "a8be6bbe-3793-46d8-bcdf-b7608663814e",
     "showTitle": false,
     "tableResultSettingsMap": {},
     "title": ""
    }
   },
   "source": [
    "### Discrete and Continuous Variables\n",
    "If 1 numerical variable is **_discrete_** and the other is **_continuous_**, we can treat them as **Categorical vs. Numerical**\n",
    "  - If the discrete variable has **_too many distinct values_**, then we can choose:\n",
    "    - **_group_** them, e.g. age --> age group\n",
    "    - **_top/bottom_**, e.g. top 10, bottom 5\n",
    "\n",
    "![](./images/4/Discrete_Continuous_Example.png)"
   ]
  },
  {
   "cell_type": "markdown",
   "metadata": {
    "application/vnd.databricks.v1+cell": {
     "cellMetadata": {},
     "inputWidgets": {},
     "nuid": "a02c2930-4db7-4588-9e64-b2eba5db27cc",
     "showTitle": false,
     "tableResultSettingsMap": {},
     "title": ""
    }
   },
   "source": [
    "### Continuous vs. Continuous"
   ]
  },
  {
   "cell_type": "markdown",
   "metadata": {
    "application/vnd.databricks.v1+cell": {
     "cellMetadata": {},
     "inputWidgets": {},
     "nuid": "82639b6c-2623-4d85-9465-17bb70f6eec5",
     "showTitle": false,
     "tableResultSettingsMap": {},
     "title": ""
    }
   },
   "source": [
    "#### Calculation"
   ]
  },
  {
   "cell_type": "markdown",
   "metadata": {
    "application/vnd.databricks.v1+cell": {
     "cellMetadata": {},
     "inputWidgets": {},
     "nuid": "ccf487a7-deda-4a1a-8868-a2b53938e82a",
     "showTitle": false,
     "tableResultSettingsMap": {},
     "title": ""
    }
   },
   "source": [
    "##### Correlation (he so tuong quan)\n",
    "\n",
    "1. **_Positive_** Correlations\n",
    "\n",
    "2. **_Negative_** Correlations\n",
    "\n",
    "3. **_Other_** Correlations\n",
    "\n",
    "![](./images/4/Correlation_Score.png)\n"
   ]
  },
  {
   "cell_type": "markdown",
   "metadata": {
    "application/vnd.databricks.v1+cell": {
     "cellMetadata": {},
     "inputWidgets": {},
     "nuid": "c20e4432-cf4c-442a-9347-40d787205597",
     "showTitle": false,
     "tableResultSettingsMap": {},
     "title": ""
    }
   },
   "source": [
    "**Causation:** after we get correlation of 2 variables, we need to understand to business domain knowledge to clarify the causation and determine the actions to take\n",
    "\n",
    "![](./images/4/Act_With_Correlation.png)"
   ]
  },
  {
   "cell_type": "markdown",
   "metadata": {
    "application/vnd.databricks.v1+cell": {
     "cellMetadata": {},
     "inputWidgets": {},
     "nuid": "01937d48-65ed-4731-a105-e27382baf917",
     "showTitle": false,
     "tableResultSettingsMap": {},
     "title": ""
    }
   },
   "source": [
    "#### Displaying"
   ]
  },
  {
   "cell_type": "markdown",
   "metadata": {
    "application/vnd.databricks.v1+cell": {
     "cellMetadata": {},
     "inputWidgets": {},
     "nuid": "820cc6c0-4d62-49f0-9c38-a702b073b411",
     "showTitle": false,
     "tableResultSettingsMap": {},
     "title": ""
    }
   },
   "source": [
    "##### Correlation Plot\n",
    "\n",
    "\n",
    "Unfortunately, Microsoft has disabled this chart on App Source and it requires to install R. Hence, we need to do it in Python.\n",
    "\n",
    "**Step 1:** install Python\n",
    "\n",
    "**Step 2:** install libraries\n",
    "```\n",
    "pip install pandas\n",
    "pip install matplotlib\n",
    "pip install searborn\n",
    "```\n",
    "\n",
    "**Step 3:** use Python visual\n",
    "\n",
    "![](./images/4/Correlation_Plot_Example.png)\n",
    "\n",
    "**Script:**\n",
    "```\n",
    "import seaborn as sns\n",
    "import matplotlib.pyplot as plt\n",
    "\n",
    "dataset = pandas.get_dummies(dataset)\n",
    "correlation = dataset.corr()\n",
    "heatmap = sns.heatmap(correlation, annot=True, cmap ='BuPu')\n",
    "\n",
    "plt.show(heatmap)\n",
    "```\n",
    "\n",
    "**Note:** in Values, don't get aggregation --> choose **_Don't summarize_**. Otherwise, there will be 1 data point for each measure = nothing to show correlation\n",
    "\n",
    "![](./images/4/Dont_Summarize.png)"
   ]
  },
  {
   "cell_type": "markdown",
   "metadata": {
    "application/vnd.databricks.v1+cell": {
     "cellMetadata": {},
     "inputWidgets": {},
     "nuid": "00ba6a7f-7f4e-422e-b35d-8d6f3638e4d6",
     "showTitle": false,
     "tableResultSettingsMap": {},
     "title": ""
    }
   },
   "source": [
    "##### Scatter Plot\n",
    "We can either use:\n",
    "1. PowerBI Scatter Plot to display 1 numerical variable vs. 1 numerical variable\n",
    "![](./images/4/Scatter_Plot_Example_1.png)\n",
    "\n",
    "2. Python to display multiple numerical variables\n",
    "![](./images/4/Scatter_Plot_Example_2.png)\n",
    "\n",
    "**Script:**\n",
    "```\n",
    "import seaborn as sns\n",
    "import matplotlib.pyplot as plt\n",
    "\n",
    "scatter = sns.pairplot(data = dataset)\n",
    "\n",
    "plt.show(scatter)\n",
    "```"
   ]
  },
  {
   "cell_type": "markdown",
   "metadata": {
    "application/vnd.databricks.v1+cell": {
     "cellMetadata": {},
     "inputWidgets": {},
     "nuid": "1feefe01-fe26-4a2b-917d-5462585fd437",
     "showTitle": false,
     "tableResultSettingsMap": {},
     "title": ""
    }
   },
   "source": [
    "# Multi-Dimensional Visualization\n",
    "This part we use other visuals to show multivariate relationships\n",
    "  - **Noted:** **_Correlation Plot_** and **_Scatter Plot_** can also display multivariate relationships. They are shown in previous part."
   ]
  },
  {
   "cell_type": "markdown",
   "metadata": {
    "application/vnd.databricks.v1+cell": {
     "cellMetadata": {},
     "inputWidgets": {},
     "nuid": "3c8b7415-7bc2-4a92-8cfd-9749d7176bb9",
     "showTitle": false,
     "tableResultSettingsMap": {},
     "title": ""
    }
   },
   "source": [
    "## 1 Categorical vs. Multiple Numerical"
   ]
  },
  {
   "cell_type": "markdown",
   "metadata": {
    "application/vnd.databricks.v1+cell": {
     "cellMetadata": {},
     "inputWidgets": {},
     "nuid": "539817a2-29f4-4ac0-ae13-fde8c55fd3aa",
     "showTitle": false,
     "tableResultSettingsMap": {},
     "title": ""
    }
   },
   "source": [
    "### Bubble Chart = Advanced Scatter Plot\n",
    "- **Values:** a point is plotted for **_each value_** in this field. Other measure will be grouped by this field\n",
    "- **X Axis:** values to place on horizontal axis\n",
    "- **Y Axis:** values to place on vertical axis\n",
    "- **Legend:** the **_categorical_** field to show for color\n",
    "- **Size:** the measure for relative **_bubble sizing_**\n",
    "- **Play Axis:** normally put year/month to show progress\n",
    "\n",
    "![](./images/4/Bubble_Chart_Example.png)"
   ]
  },
  {
   "cell_type": "markdown",
   "metadata": {
    "application/vnd.databricks.v1+cell": {
     "cellMetadata": {},
     "inputWidgets": {},
     "nuid": "1b7c7b81-f111-4995-94f6-60dde7136dec",
     "showTitle": false,
     "tableResultSettingsMap": {},
     "title": ""
    }
   },
   "source": [
    "## Multiple Categorical vs. 1 Numerical"
   ]
  },
  {
   "cell_type": "markdown",
   "metadata": {
    "application/vnd.databricks.v1+cell": {
     "cellMetadata": {},
     "inputWidgets": {},
     "nuid": "7d42923d-d103-417f-bdb8-d7fce43e6a3e",
     "showTitle": false,
     "tableResultSettingsMap": {},
     "title": ""
    }
   },
   "source": [
    "### Tassels Chart\n",
    "\n",
    "**Noted:** we can de-select categories by clicking the categorical values to have more focused view (clearer)\n",
    "\n",
    "![](./images/4/Tassels_Example.png)"
   ]
  },
  {
   "cell_type": "markdown",
   "metadata": {
    "application/vnd.databricks.v1+cell": {
     "cellMetadata": {},
     "inputWidgets": {},
     "nuid": "5527e9da-e03c-4a65-a074-9673a48befb3",
     "showTitle": false,
     "tableResultSettingsMap": {},
     "title": ""
    }
   },
   "source": [
    "### Sankey Chart\n",
    "**Option 1:** use Sankey chart of App Source. **Noted:** we only have 1 layer\n",
    "\n",
    "![](./images/4/Sankey_Example_1.png)\n",
    "\n",
    "**Option 2:** Python. We can add multiple layers\n",
    "- Each layer has source, target and amount (aggregated). For example: \n",
    "  - (1) ChannelName + ContinentName\n",
    "  - (2) ContinentName + BrandName\n",
    "- Do the same for multiple layers\n",
    "\n",
    "![](./images/4/Sankey_Example_2.png)\n",
    "\n",
    "**Script:**\n",
    "```\n",
    "import pandas as pd\n",
    "from sankeyflow import Sankey\n",
    "import matplotlib.pyplot as plt\n",
    "import numpy as np\n",
    "\n",
    "# create list of flows\n",
    "flows = []\n",
    "for i in range(len(dataset)):\n",
    "    flows.append((dataset['ChannelName'][i], dataset['ContinentName'][i], dataset['SalesAmount'][i]))\n",
    "    flows.append((dataset['ContinentName'][i], dataset['BrandName'][i], dataset['SalesAmount'][i]))\n",
    "    \n",
    "# create Sankey chart\n",
    "plt.figure(figsize=(10, 5), dpi=144)\n",
    "s = Sankey(flows=flows)\n",
    "s.draw()\n",
    "plt.show()\n",
    "```"
   ]
  },
  {
   "cell_type": "markdown",
   "metadata": {
    "application/vnd.databricks.v1+cell": {
     "cellMetadata": {},
     "inputWidgets": {},
     "nuid": "2ea624b5-8686-4e8a-8268-815d1cd38a8f",
     "showTitle": false,
     "tableResultSettingsMap": {},
     "title": ""
    }
   },
   "source": [
    "### Decomposition Tree\n",
    "\n",
    "![](./images/4/Decomposition_Tree_Example.png)\n",
    "\n",
    "**Cons:**\n",
    "- It cannot show multiple values of 1 layer at a time.\n",
    "- It cannot show relationship between values in 1 layer to other layers\n",
    "\n",
    "**Suggestion:**\n",
    "- This chart should be used for percentage: Margin% increasing, YoY%, MoM%"
   ]
  },
  {
   "cell_type": "markdown",
   "metadata": {
    "application/vnd.databricks.v1+cell": {
     "cellMetadata": {},
     "inputWidgets": {},
     "nuid": "b118b8fd-3188-4bbd-8288-29d2c4688653",
     "showTitle": false,
     "tableResultSettingsMap": {},
     "title": ""
    }
   },
   "source": [
    "### -->Key Influencers Chart<--\n",
    "**Key Influencers Chart:** is used to **_quickly get_** which variables **mostly influence** the reasons, trends, etc. that we are analyzing"
   ]
  },
  {
   "cell_type": "markdown",
   "metadata": {
    "application/vnd.databricks.v1+cell": {
     "cellMetadata": {},
     "inputWidgets": {},
     "nuid": "6c0abbf9-6a94-490b-9c39-42d751b76f88",
     "showTitle": false,
     "tableResultSettingsMap": {},
     "title": ""
    }
   },
   "source": [
    "#### Example: Attrition"
   ]
  },
  {
   "cell_type": "markdown",
   "metadata": {
    "application/vnd.databricks.v1+cell": {
     "cellMetadata": {},
     "inputWidgets": {},
     "nuid": "ef3b2449-036c-4f4b-8656-79114c49d1dc",
     "showTitle": false,
     "tableResultSettingsMap": {},
     "title": ""
    }
   },
   "source": [
    "##### Step 1: Analyze Each Segment\n",
    "\n",
    "![](./images/4/Influence_Chart_Example_1.png)\n",
    "\n",
    "**Notes:**\n",
    "- (1) Add field we want to analyze for reasons, trends, etc.\n",
    "- (2) Add others fields we want to know how they influence the field in (1)\n",
    "- (3) Select a value of (1) that we want to analyze. Select **_Yes_** for example\n",
    "- (4) PBI runs ML algorithms which mostly influence (1). Select **_Age_** for example\n",
    "    ![](./images/4/Key_Influence_ML.png)\n",
    "\n",
    "- (5) The conclusion of PBI for **_age bins_**. Again, PBI uses ML\n",
    "- (6) \"Average (exluding selected): 15.05%\"\n",
    "    ![](./images/4/Influence_Chart_Explain_AVG.png)\n",
    "    - (1) In total, we have 16.12% of Yes for Attrition\n",
    "    - (3) In age bins, we have **_53.66%_** of Yes for \"Age is 21 or less\" --> more than half of attrition people are in this group\n",
    "    - (4) We exclude \"Age is 21 or less\" group\n",
    "    - (5) Then we get **_15.05%_**\n",
    "    - (2) Then we get the chart with **_53.66% / 15.05% = 3.57_**\n",
    "\n",
    "- (7) 53.66% of people in \"Age is 21 or less\" has **_3.57x time_** more than avarage of other group (exluding \"Age is 21 or less\" group)\n",
    "\n",
    "Sizing = Count\n",
    "Segment"
   ]
  },
  {
   "cell_type": "markdown",
   "metadata": {
    "application/vnd.databricks.v1+cell": {
     "cellMetadata": {},
     "inputWidgets": {},
     "nuid": "530019c3-01f4-4b19-a08a-524ed03465ba",
     "showTitle": false,
     "tableResultSettingsMap": {},
     "title": ""
    }
   },
   "source": [
    "##### Step 2: Take Closer Look at Sizing of Each Segment\n",
    "\n",
    "![](./images/4/Influence_Chart_Sizing.png)\n",
    "\n",
    "**Notes:**\n",
    "- (1) Enable **_Counts_** option in Analysis tab\n",
    "- (2) Then we will see:\n",
    "  - New Sort by: feature enables --> Select Count\n",
    "  - Each of the circle will have a portion highlighted in its border, indicating the size of data for each segment\n",
    "  - Noted that the \"Age is 21 or less\" segment is now the lowest impact"
   ]
  },
  {
   "cell_type": "markdown",
   "metadata": {
    "application/vnd.databricks.v1+cell": {
     "cellMetadata": {},
     "inputWidgets": {},
     "nuid": "26999e91-9585-460c-84ec-1589aff1f242",
     "showTitle": false,
     "tableResultSettingsMap": {},
     "title": ""
    }
   },
   "source": [
    "##### Step 3: Choose Segment\n",
    "We need to choose Segments which has:\n",
    "- High **_impact_** and \n",
    "- High **_sizing_** in the dataset\n",
    "\n",
    "For example,\n",
    "\n",
    "![](./images/4/Influence_Chart_Choose_Segment.png)"
   ]
  },
  {
   "cell_type": "markdown",
   "metadata": {
    "application/vnd.databricks.v1+cell": {
     "cellMetadata": {},
     "inputWidgets": {},
     "nuid": "98948b2d-036d-4bd6-a9bc-47507bff0ff6",
     "showTitle": false,
     "tableResultSettingsMap": {},
     "title": ""
    }
   },
   "source": [
    "##### Step 4: Group Segments in \"Top segments\"\n",
    "\n",
    "![](./images/4/Influence_Chart_Top_Segment.png)\n",
    "\n",
    "- (1) In Top segments we will see PBI group segments in top 5 groups and show the impact and sizing of each group\n",
    "  - Higher location = higher impact\n",
    "  - Bigger size = higher count (size)\n",
    "\n",
    "- (2) Select 1 segments, Segment 1 for example\n",
    "  - Segment 1 contains: \n",
    "    - JobLevel = 1\n",
    "    - OverTime = Yes\n",
    "    - StockOptionLevel <= 0\n",
    "  - Segment 1 has:\n",
    "    - Attrition = Yes: **_66.7%_**\n",
    "    - Population: **_75_**\n",
    "\n",
    "![](./images/4/Influence_Chart_Select_Segment.png)\n",
    "\n",
    "- (3) Click **_Learn more about this segment_**\n",
    "  - **Gray chart:** the current Attrition of No and Yes for Segment1\n",
    "  - **Blue chart:** the Attrition of No and Yes for other fields\n",
    "  - **Slicer:** for value or groups of values of fields\n",
    "  - This feature tells us whether other value of other fields have similar behaviour of Segment 1\n",
    "![](./images/4/Influence_Chart_Learn_More_Segment_1.png)\n",
    "\n",
    "  - **Example:** Department --> same behaviour No < Yes\n",
    "    ![](./images/4/Influence_Chart_Department.png)\n",
    "\n",
    "\n",
    "  - **Example:** Job Satisfaction --> different behaviour No ~= Yes\n",
    "    ![](./images/4/Influence_Chart_Job_Satisfaction.png)"
   ]
  },
  {
   "cell_type": "markdown",
   "metadata": {
    "application/vnd.databricks.v1+cell": {
     "cellMetadata": {},
     "inputWidgets": {},
     "nuid": "facde9ba-68df-40db-939e-852e8c93186a",
     "showTitle": false,
     "tableResultSettingsMap": {},
     "title": ""
    }
   },
   "source": [
    "**Notes:** there are several notes..."
   ]
  },
  {
   "cell_type": "markdown",
   "metadata": {
    "application/vnd.databricks.v1+cell": {
     "cellMetadata": {},
     "inputWidgets": {},
     "nuid": "931eebbc-d450-4190-8f44-820a94e079a9",
     "showTitle": false,
     "tableResultSettingsMap": {},
     "title": ""
    }
   },
   "source": [
    "# Other Methods"
   ]
  },
  {
   "cell_type": "markdown",
   "metadata": {
    "application/vnd.databricks.v1+cell": {
     "cellMetadata": {},
     "inputWidgets": {},
     "nuid": "40f8e95e-5cb0-425b-9ef9-b4633cb4731e",
     "showTitle": false,
     "tableResultSettingsMap": {},
     "title": ""
    }
   },
   "source": [
    "## Auto-Correlation\n",
    "**The autocorrelation function plot (correlogram):** show a series **_correlated with itself_**, like by x time units.\n",
    "- So if you take each of the correlation numbers we just calculated and plot them, you'd have the autocorrelation function plot or ACF plot.\n",
    "- It shows **_how correlated_** a time series is with its past values\n",
    "\n",
    "**Seasonality (pattern):** is a characteristic of a time series in which the data **_experiences regular_** and the **_predictable changes_** that recur every period of time.\n",
    "\n",
    "![](./images/4/Auto_Correlation_Example.png)\n",
    "\n",
    "**Notes:**\n",
    "- From (1) to (2): 1st cycle\n",
    "- From (2) to (3): 2nd cycle\n",
    "- **Lag:** how long the pattern occurs again"
   ]
  },
  {
   "cell_type": "markdown",
   "metadata": {
    "application/vnd.databricks.v1+cell": {
     "cellMetadata": {},
     "inputWidgets": {},
     "nuid": "eedb7a68-04a0-4026-8694-228a0a42e94f",
     "showTitle": false,
     "tableResultSettingsMap": {},
     "title": ""
    }
   },
   "source": [
    "## Segmentation vs. Clustering\n",
    "Both group data points which have **_similar attributes_**\n",
    "- **Segmentation:** data **_analysis_** technique for creating groups from a dataset\n",
    "- **Clustering:** data **_science_** technique for **_more advanced_** creation of groups\n",
    "\n",
    "**Example:**\n",
    "\n",
    "![](./images/4/Segmentation_Custering_Example.png)\n",
    "\n",
    "**Notes:**\n",
    "- Segmentation: income >= 65,000\n",
    "- Clustering: using K-mean"
   ]
  },
  {
   "cell_type": "markdown",
   "metadata": {
    "application/vnd.databricks.v1+cell": {
     "cellMetadata": {},
     "inputWidgets": {},
     "nuid": "2c7ddd4f-37a1-468a-9dcf-457d4c9ce2ce",
     "showTitle": false,
     "tableResultSettingsMap": {},
     "title": ""
    }
   },
   "source": [
    "### Segmentation\n",
    "Sometimes there are multiple very small segmentations, we can combine them into 1 big **_Others_** segment\n",
    "- We will focus on big segments first\n",
    "- Then, if needed (because small segments usually have small impact), we come back to analyze those small segments\n",
    "\n",
    "![](./images/4/Small_Segments_Others.png)"
   ]
  },
  {
   "cell_type": "markdown",
   "metadata": {
    "application/vnd.databricks.v1+cell": {
     "cellMetadata": {},
     "inputWidgets": {},
     "nuid": "f55d7b32-36f4-45fc-8bbe-e6b768191242",
     "showTitle": false,
     "tableResultSettingsMap": {},
     "title": ""
    }
   },
   "source": [
    "### Clustering\n",
    "In Power BI, we can use **_Scatter Plot_** and **_Table_** for **_Clustering_**\n",
    "\n",
    "**Example of Scatter Plot:**\n",
    "\n",
    "![](./images/4/Clustering_Scatter_Plot_1.png)\n",
    "- (1) Select **_Automatically find clusters_**\n",
    "\n",
    "![](./images/4/Clustering_Scatter_Plot_2.png)\n",
    "- (2) **Result:** new field will be generated and put in Legend\n",
    "\n",
    "![](./images/4/Clustering_Box_Plot.png)\n",
    "- (3) Then we can add the new field in Box Plot to see the distribution for further analysis"
   ]
  },
  {
   "cell_type": "markdown",
   "metadata": {
    "application/vnd.databricks.v1+cell": {
     "cellMetadata": {},
     "inputWidgets": {},
     "nuid": "27e50ba3-3806-4ed7-aae1-e179b69fba0a",
     "showTitle": false,
     "tableResultSettingsMap": {},
     "title": ""
    }
   },
   "source": [
    "## Sentiment Analysis\n",
    "\n",
    "![](./images/4/Sentiment_Analysis_Example_1.png)"
   ]
  },
  {
   "cell_type": "markdown",
   "metadata": {
    "application/vnd.databricks.v1+cell": {
     "cellMetadata": {},
     "inputWidgets": {},
     "nuid": "98bf0e4d-8efd-486f-b77e-e7aded48fa82",
     "showTitle": false,
     "tableResultSettingsMap": {},
     "title": ""
    }
   },
   "source": [
    "## Cohort Analysis\n",
    "**Cohort Analysis:** is a popular way for companies to gain a more in-depth insight into their **_customers' behavior_**. \n",
    "- It gives invaluable insight into customer behavior that we can leverage to set up successful growth strategies and improve the decision-making process.\n",
    "\n",
    "With Cohort Analysis, we can answer questions like:\n",
    "- Do customers acquired in **_one period_** behave differently than those in **_another period_**\n",
    "- Do customers who bought at **_promotions_** behave differently than those paying at **_full price_**?\n",
    "- Do **_large companies_** use our services longer than **_small companies_**?\n",
    "\n",
    "![](./images/4/Cohort_Analysis.png)"
   ]
  },
  {
   "cell_type": "markdown",
   "metadata": {
    "application/vnd.databricks.v1+cell": {
     "cellMetadata": {},
     "inputWidgets": {},
     "nuid": "21d7a0fb-8a3e-44c4-aee9-c846f49b6c9e",
     "showTitle": false,
     "tableResultSettingsMap": {},
     "title": ""
    }
   },
   "source": [
    "When we perform a Cohort Analysis, we **_don't look at individual users_** or the user base as a whole but instead **_split those into groups (cohorts)_**. \n",
    "- This is done based on **_similarity_** in properties.\n",
    "\n",
    "**Example:**\n",
    "\n",
    "![](./images/4/Cohort_Analysis_Example.png)\n",
    "\n",
    "**Notes:**\n",
    "- (1) Month name\n",
    "- (2) Amount of new customers that we acquired\n",
    "- (3) 1 -> 11: the duration from the first month to the 11th month that customers stay within our platform\n",
    "- We are selling milk powder. Every box will be consumed in **_4 months_**.\n",
    "  - We notice that for **_Jan_**, at the **_4th month_**, the % is **_ok with 5%_**\n",
    "  - However, for **_other months_**, the percentage are **_very low_** for the **_4th month_** --> investigate more"
   ]
  },
  {
   "cell_type": "markdown",
   "metadata": {
    "application/vnd.databricks.v1+cell": {
     "cellMetadata": {},
     "inputWidgets": {},
     "nuid": "d6a43b06-9529-4a2a-85be-150912a29431",
     "showTitle": false,
     "tableResultSettingsMap": {},
     "title": ""
    }
   },
   "source": [
    "## What-If Scenario\n",
    "We use it to **_simulate_** the result for each scenario. There are 4 main functions:\n",
    "\n",
    "Simulation:\n",
    "- (1) Data Table (1 Variable): 1 varible will change\n",
    "- (2) Data Table (2 Variables): 2 variables will change\n",
    "- (3) Scenario Manager: Many variables will change\n",
    "\n",
    "Optimization:\n",
    "- (4) Goal Seek: Inverse problem"
   ]
  },
  {
   "cell_type": "markdown",
   "metadata": {
    "application/vnd.databricks.v1+cell": {
     "cellMetadata": {},
     "inputWidgets": {},
     "nuid": "065b8dd8-fa7c-4379-967b-cb82ffe9423b",
     "showTitle": false,
     "tableResultSettingsMap": {},
     "title": ""
    }
   },
   "source": [
    "### Data Table (1 Variable)\n",
    "\n",
    "![](./images/4/Data_Table_1_Variable.png)\n",
    "\n",
    "**Notes:**\n",
    "- (1) Income increases, Spending stays the same --> Saving increases\n",
    "- (2) Income stays the same, Spending increase --> Saving decreases"
   ]
  },
  {
   "cell_type": "markdown",
   "metadata": {
    "application/vnd.databricks.v1+cell": {
     "cellMetadata": {},
     "inputWidgets": {},
     "nuid": "25eb1c9b-f21e-401b-b9fb-05e121623b49",
     "showTitle": false,
     "tableResultSettingsMap": {},
     "title": ""
    }
   },
   "source": [
    "### Data Table (2 Variables)\n",
    "\n",
    "![](./images/4/Data_Table_2_Variable.png)\n",
    "\n",
    "**Notes:**\n",
    "- Both Income and Spending vary"
   ]
  },
  {
   "cell_type": "markdown",
   "metadata": {
    "application/vnd.databricks.v1+cell": {
     "cellMetadata": {},
     "inputWidgets": {},
     "nuid": "2ac84165-8d1c-472b-a5e1-4cdaf3515a9c",
     "showTitle": false,
     "tableResultSettingsMap": {},
     "title": ""
    }
   },
   "source": [
    "### Scenario Manager\n",
    "\n",
    "![](./images/4/Scenario_manager.png)\n",
    "\n",
    "**Notes:**\n",
    "- For each **_Venue_** that we are going to hire, there are **_different prices_** of **_other elements_** which cause the **_differences in profit or loss**"
   ]
  },
  {
   "cell_type": "markdown",
   "metadata": {
    "application/vnd.databricks.v1+cell": {
     "cellMetadata": {},
     "inputWidgets": {},
     "nuid": "fd6e15dc-d504-4d5e-8cc4-4139a6563bb9",
     "showTitle": false,
     "tableResultSettingsMap": {},
     "title": ""
    }
   },
   "source": [
    "### Goal Seek\n",
    "\n",
    "![](./images/4/Goal_Seek.png)\n",
    "\n",
    "**Notes:**\n",
    "- We already have in hand all of variable and the results\n",
    "- We input new **(1)** **_quantity of product_** to seek for the **(2)** **_optimal revenue_**"
   ]
  }
 ],
 "metadata": {
  "application/vnd.databricks.v1+notebook": {
   "dashboards": [],
   "environmentMetadata": {
    "base_environment": "",
    "client": "1"
   },
   "language": "python",
   "notebookMetadata": {
    "pythonIndentUnit": 4
   },
   "notebookName": "4. Diagnostics Analytics",
   "widgets": {}
  },
  "language_info": {
   "name": "python"
  }
 },
 "nbformat": 4,
 "nbformat_minor": 0
}

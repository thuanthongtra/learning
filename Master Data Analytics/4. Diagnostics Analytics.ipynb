{
 "cells": [
  {
   "cell_type": "markdown",
   "metadata": {
    "application/vnd.databricks.v1+cell": {
     "cellMetadata": {},
     "inputWidgets": {},
     "nuid": "696d1aa0-76b7-4a05-97af-09178621dc57",
     "showTitle": false,
     "tableResultSettingsMap": {},
     "title": ""
    }
   },
   "source": [
    "# Overview\n",
    "![](./images/4/Overview.png)"
   ]
  },
  {
   "cell_type": "markdown",
   "metadata": {
    "application/vnd.databricks.v1+cell": {
     "cellMetadata": {},
     "inputWidgets": {},
     "nuid": "c4aee741-09e4-4356-825a-23276c9fa879",
     "showTitle": false,
     "tableResultSettingsMap": {},
     "title": ""
    }
   },
   "source": [
    "# Relationship\n",
    "\n",
    "![](./images/4/Overview_Relationship.png)"
   ]
  },
  {
   "cell_type": "markdown",
   "metadata": {
    "application/vnd.databricks.v1+cell": {
     "cellMetadata": {},
     "inputWidgets": {},
     "nuid": "06a2056d-6439-4fe8-8dda-13b32ce321b5",
     "showTitle": false,
     "tableResultSettingsMap": {},
     "title": ""
    }
   },
   "source": [
    "## Aggregation Analysis\n",
    "- Calculate a value across a group or dimension\n",
    "- Aggregation is often done in reporting to be able to \"slice and dice\" information to make decisions and view performance\n",
    "- For example, aggregate sales data\n",
    "  - for a salesperson by month\n",
    "  - by month per sales territory\n",
    "- **Applications:**\n",
    "  - In Dashboard Design: Data Exploration. For example, Channel vs. Region\n",
    "\n",
    "  ![](./images/4/Dashboard_Design.png)\n",
    "\n",
    "  - In ad-hoc Analytics: choose which category to focus\n",
    "  \n",
    "  ![](./images/4/Adhoc_Analytics.png)"
   ]
  },
  {
   "cell_type": "markdown",
   "metadata": {
    "application/vnd.databricks.v1+cell": {
     "cellMetadata": {},
     "inputWidgets": {},
     "nuid": "c08d5a27-67e5-4a0c-b157-f39f637f829b",
     "showTitle": false,
     "tableResultSettingsMap": {},
     "title": ""
    }
   },
   "source": [
    "## Categorical vs. Categorical\n",
    "\n",
    "![](./images/4/Cat_Cat_Overview.png)"
   ]
  },
  {
   "cell_type": "markdown",
   "metadata": {
    "application/vnd.databricks.v1+cell": {
     "cellMetadata": {},
     "inputWidgets": {},
     "nuid": "55a29234-f34c-421e-9270-ff87b8fbdc34",
     "showTitle": false,
     "tableResultSettingsMap": {},
     "title": ""
    }
   },
   "source": [
    "### Calculation\n",
    "We ussually use **_count_** and **_count%_** of **_keys_** of the most granular detailed data (or **_number of rows_** if there is no key)\n",
    "- Noted: don't put any measure for count/sum for Cat vs. Cat. For example, **_Channel_** vs. **_Georgraphy_**, don't put **_Sales Amount_**\n",
    "\n",
    "![](./images/4/Cat_Cat_Calculation_Incorrect_Example.png)"
   ]
  },
  {
   "cell_type": "markdown",
   "metadata": {
    "application/vnd.databricks.v1+cell": {
     "cellMetadata": {},
     "inputWidgets": {},
     "nuid": "5f559fb9-aa74-4b1c-bd94-9dddc7336ae6",
     "showTitle": false,
     "tableResultSettingsMap": {},
     "title": ""
    }
   },
   "source": [
    "### Displaying\n",
    "\n",
    "![](./images/4/Combined_Cat_Cat_Example.png)"
   ]
  },
  {
   "cell_type": "markdown",
   "metadata": {
    "application/vnd.databricks.v1+cell": {
     "cellMetadata": {},
     "inputWidgets": {},
     "nuid": "1d0e54cb-9f59-48c6-a245-b088b7150a49",
     "showTitle": false,
     "tableResultSettingsMap": {},
     "title": ""
    }
   },
   "source": [
    "#### Two-way Table and Stacked Column Chart\n",
    "We can use following methods:\n",
    "- **Two-way table:** of **_count_** and **_count%_**\n",
    "  - Rows: represent the category of 1 variable\n",
    "  - Columns: represent te categories of other variables\n",
    "- **Stacked Column Chart:** is a visual form of **_Two-way table_**\n",
    "\n",
    "**Example:**\n",
    "![](./images/4/Twoway_Table_Stacked_Column_Chart_Example.png)"
   ]
  },
  {
   "cell_type": "markdown",
   "metadata": {
    "application/vnd.databricks.v1+cell": {
     "cellMetadata": {},
     "inputWidgets": {},
     "nuid": "d50f9e63-db37-4687-92a6-989aa5340c44",
     "showTitle": false,
     "tableResultSettingsMap": {},
     "title": ""
    }
   },
   "source": [
    "##### Counts vs. Percentages\n",
    "There is no single correct way to display the data in crosstabs. Ultimately, the data is always counts, but they can be shown as:\n",
    "1. Raw Counts (Absolute)\n",
    "2. Percentage of **_Overall_** Totals\n",
    "3. Percentages of **_Column_** Totals\n",
    "4. Percentage of **_Row_** Totals\n",
    "\n",
    "![](./images/4/Count_Percentages_Exmaple.png)"
   ]
  },
  {
   "cell_type": "markdown",
   "metadata": {
    "application/vnd.databricks.v1+cell": {
     "cellMetadata": {},
     "inputWidgets": {},
     "nuid": "118555f8-007d-4298-ba1a-15dd702c744d",
     "showTitle": false,
     "tableResultSettingsMap": {},
     "title": ""
    }
   },
   "source": [
    "Nevertheless, showing the counts as percentages of **_row_** totals or percentages of **_column_** totals makes any relationships stand out **_more clearly_**.\n",
    "\n",
    "**Example:**\n",
    "\n",
    "![](./images/4/Combined_Cat_Cat_Example.png)"
   ]
  },
  {
   "cell_type": "markdown",
   "metadata": {
    "application/vnd.databricks.v1+cell": {
     "cellMetadata": {},
     "inputWidgets": {},
     "nuid": "37da2725-2076-4e19-bfcf-0129ef21e592",
     "showTitle": false,
     "tableResultSettingsMap": {},
     "title": ""
    }
   },
   "source": [
    "##### Example: why we need to have multiple views of count%\n",
    "**Question:** should we target **_single_** or **_married_** customers who are willing for **_home delivery_**?\n",
    "\n",
    "**Scenario 1:** Look at **_count_** and **_count% overal_**\n",
    "\n",
    "--> We might decide focus on **_single_** (because 15.9%) compared to **_married_** (12.7%), but it seems **_incorrect_**\n",
    "\n",
    "![](./images/4/Count_Count_Example_1.png)\n",
    "\n",
    "**Scenario 2:** Look at **_count%_** in **_row totals_** and **_column totals_**\n",
    "\n",
    "--> Clearer views of how martial status contribute. In this case we choose **_married_** (35%) instead of **_single_** (25%)\n",
    "\n",
    "![](./images/4/Count_Count_Example_2.png)"
   ]
  },
  {
   "cell_type": "markdown",
   "metadata": {
    "application/vnd.databricks.v1+cell": {
     "cellMetadata": {},
     "inputWidgets": {},
     "nuid": "a1d3b8b2-7645-4619-8cfe-28be251a15ab",
     "showTitle": false,
     "tableResultSettingsMap": {},
     "title": ""
    }
   },
   "source": [
    "#### Tornado Chart\n",
    "In case a Category has **_2 values_**, we can use **Tornado chart** to compare\n",
    "\n",
    "**Example:**\n",
    "\n",
    "![](./images/4/Tornado_Chart_Example.png)"
   ]
  },
  {
   "cell_type": "markdown",
   "metadata": {
    "application/vnd.databricks.v1+cell": {
     "cellMetadata": {},
     "inputWidgets": {},
     "nuid": "63bbc66c-88c6-4504-a5dc-095aa96dcdca",
     "showTitle": false,
     "tableResultSettingsMap": {},
     "title": ""
    }
   },
   "source": [
    "#### Mekko Chart\n",
    "In case we want to display both **_absolute_** and **_relative_** numbers, we can use **Mekko Chart**\n",
    "\n",
    "**Example:**\n",
    "\n",
    "![](./images/4/Mekko_Chart_Example.png)"
   ]
  },
  {
   "cell_type": "markdown",
   "metadata": {
    "application/vnd.databricks.v1+cell": {
     "cellMetadata": {},
     "inputWidgets": {},
     "nuid": "7cd3cb23-4ebd-48e4-9ea3-21eb80e4315e",
     "showTitle": false,
     "tableResultSettingsMap": {},
     "title": ""
    }
   },
   "source": [
    "### Too Many Cat-Cat Pairs in Data source\n",
    "When there are many combinations of categorical variables, we can apply:\n",
    "1. Main DIM category\n",
    "2. Using Hierarchy\n",
    "3. Using Business Domain knowledge to choose important variables\n",
    "4. Combine charts\n",
    "5. Reduce dimensional techniques\n",
    "\n",
    "![](./images/4/Too_Many_Cat_Cat_Variables_Example.png)"
   ]
  },
  {
   "cell_type": "markdown",
   "metadata": {
    "application/vnd.databricks.v1+cell": {
     "cellMetadata": {},
     "inputWidgets": {},
     "nuid": "a51863ba-457d-4a76-bf76-4bae3f9ddc90",
     "showTitle": false,
     "tableResultSettingsMap": {},
     "title": ""
    }
   },
   "source": [
    "### Chi-square test\n",
    "**Question:** can the **_relationship observed in the sample data_** be inferred to hold in the **_population_** represented by the data?\n",
    "\n",
    "**Chi-square test:** test association\n",
    "- H0: The 2 variables are not related in the population\n",
    "- H1: The 2 variables are related in the population\n",
    "\n",
    "![](./images/4/Chi_square_Test_Example.png)"
   ]
  },
  {
   "cell_type": "markdown",
   "metadata": {
    "application/vnd.databricks.v1+cell": {
     "cellMetadata": {},
     "inputWidgets": {},
     "nuid": "4d34cd3a-a054-459d-8c15-9b32afd8bf35",
     "showTitle": false,
     "tableResultSettingsMap": {},
     "title": ""
    }
   },
   "source": [
    "## Categorical vs. Numerical\n",
    "Categorical & Numerical: Compare the **numerical** variables across **_each of the levels_** of the **_categorical_** variable\n",
    "\n",
    "![](./images/4/Cat_Num_Overview.png)"
   ]
  },
  {
   "cell_type": "markdown",
   "metadata": {
    "application/vnd.databricks.v1+cell": {
     "cellMetadata": {},
     "inputWidgets": {},
     "nuid": "47794b4c-86de-47ab-b014-90a4a42777be",
     "showTitle": false,
     "tableResultSettingsMap": {},
     "title": ""
    }
   },
   "source": [
    "**Sample Data:**\n",
    "\n",
    "![](./images/4/Sample_Data.png)"
   ]
  },
  {
   "cell_type": "markdown",
   "metadata": {
    "application/vnd.databricks.v1+cell": {
     "cellMetadata": {},
     "inputWidgets": {},
     "nuid": "9e5af634-06af-4a6b-a204-abb377b01315",
     "showTitle": false,
     "tableResultSettingsMap": {},
     "title": ""
    }
   },
   "source": [
    "### Calculation\n",
    "With numerical variables we do the same 3 calculations (similar to Descriptive Analysis for numerical variable):\n",
    "1. Central Tendency\n",
    "2. Dispersion\n",
    "3. Shape"
   ]
  },
  {
   "cell_type": "markdown",
   "metadata": {
    "application/vnd.databricks.v1+cell": {
     "cellMetadata": {},
     "inputWidgets": {},
     "nuid": "29a3e650-0f0b-4503-b664-2a27aa937fc7",
     "showTitle": false,
     "tableResultSettingsMap": {},
     "title": ""
    }
   },
   "source": [
    "### Displaying\n",
    "\n",
    "![](./images/4/Cat_Num_Example.png)"
   ]
  },
  {
   "cell_type": "markdown",
   "metadata": {
    "application/vnd.databricks.v1+cell": {
     "cellMetadata": {},
     "inputWidgets": {},
     "nuid": "ea589a53-d844-4ad9-8c95-9a1336d98a7f",
     "showTitle": false,
     "tableResultSettingsMap": {},
     "title": ""
    }
   },
   "source": [
    "#### Metrics\n",
    "To show the **Summary Measure**\n",
    "\n",
    "![](./images/4/Cat_Num_Summary_Measure_Example.png)"
   ]
  },
  {
   "cell_type": "markdown",
   "metadata": {
    "application/vnd.databricks.v1+cell": {
     "cellMetadata": {},
     "inputWidgets": {},
     "nuid": "473e1e55-cf85-4433-96c0-606ca46decd8",
     "showTitle": false,
     "tableResultSettingsMap": {},
     "title": ""
    }
   },
   "source": [
    "#### Cluster Bar Chart\n",
    "To show Aggregation of measure in Static and Change Over Time\n",
    "\n",
    "![](./images/4/Cat_Num_Static_ChangeOverTime_Example.png)"
   ]
  },
  {
   "cell_type": "markdown",
   "metadata": {
    "application/vnd.databricks.v1+cell": {
     "cellMetadata": {},
     "inputWidgets": {},
     "nuid": "20144d8a-c398-49c2-85d0-322e617e191b",
     "showTitle": false,
     "tableResultSettingsMap": {},
     "title": ""
    }
   },
   "source": [
    "#### Pareto Chart\n",
    "To show 80/20\n",
    "\n",
    "![](./images/4/Cat_Num_Pareto_Example.png)"
   ]
  },
  {
   "cell_type": "markdown",
   "metadata": {
    "application/vnd.databricks.v1+cell": {
     "cellMetadata": {},
     "inputWidgets": {},
     "nuid": "d5486d99-763c-4007-89b6-1a31ef658c65",
     "showTitle": false,
     "tableResultSettingsMap": {},
     "title": ""
    }
   },
   "source": [
    "#### Magnitude Cuts (using Average)\n",
    "We apply **_Top filter_** to show Top/Bottom 5 or 10 categorical variables\n",
    "- Noted we use **AVERAGE** instead of SUM or COUNT\n",
    "\n",
    "![](./images/4/Cat_Num_Magnitude_Cuts_Example.png)"
   ]
  },
  {
   "cell_type": "markdown",
   "metadata": {
    "application/vnd.databricks.v1+cell": {
     "cellMetadata": {},
     "inputWidgets": {},
     "nuid": "fc5cb51e-ba62-46b4-9043-0ad24c7ebec6",
     "showTitle": false,
     "tableResultSettingsMap": {},
     "title": ""
    }
   },
   "source": [
    "#### Side-by-side Box Plots\n",
    "There are 2 visuals that can be used"
   ]
  },
  {
   "cell_type": "markdown",
   "metadata": {
    "application/vnd.databricks.v1+cell": {
     "cellMetadata": {},
     "inputWidgets": {},
     "nuid": "3f9e4869-4761-48f4-9610-0484b9c97ab5",
     "showTitle": false,
     "tableResultSettingsMap": {},
     "title": ""
    }
   },
   "source": [
    "##### Box and Whisker by MAQ Software\n",
    "**Step 1:** add data\n",
    "\n",
    "![](./images/4/Box_Whisker_MAQ_Software_Example_1.png)\n",
    "\n",
    "**Step 2:** add outliers limit by IQR\n",
    "\n",
    "![](./images/4/Box_Whisker_MAQ_Software_Example_2.png)"
   ]
  },
  {
   "cell_type": "markdown",
   "metadata": {
    "application/vnd.databricks.v1+cell": {
     "cellMetadata": {},
     "inputWidgets": {},
     "nuid": "1b9b53cf-2e95-4bce-b27f-18d27d57b345",
     "showTitle": false,
     "tableResultSettingsMap": {},
     "title": ""
    }
   },
   "source": [
    "##### Box and Whisker chart\n",
    "**Step 1:** add data\n",
    "\n",
    "![](./images/4/Box_Whisker_Chart_Example_1.png)\n",
    "\n",
    "**Step 2:** add outliers limit by IQR\n",
    "\n",
    "![](./images/4/Box_Whisker_Chart_Example_2.png)"
   ]
  },
  {
   "cell_type": "markdown",
   "metadata": {
    "application/vnd.databricks.v1+cell": {
     "cellMetadata": {},
     "inputWidgets": {},
     "nuid": "c18998e2-ae32-4d51-b170-4dfe0456ebc9",
     "showTitle": false,
     "tableResultSettingsMap": {},
     "title": ""
    }
   },
   "source": [
    "### T-Test\n",
    "..."
   ]
  }
 ],
 "metadata": {
  "application/vnd.databricks.v1+notebook": {
   "dashboards": [],
   "environmentMetadata": {
    "base_environment": "",
    "client": "1"
   },
   "language": "python",
   "notebookMetadata": {
    "pythonIndentUnit": 4
   },
   "notebookName": "4. Diagnostics Analytics",
   "widgets": {}
  },
  "language_info": {
   "name": "python"
  }
 },
 "nbformat": 4,
 "nbformat_minor": 0
}

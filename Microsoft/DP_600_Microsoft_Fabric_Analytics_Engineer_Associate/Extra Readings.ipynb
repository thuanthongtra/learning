{
 "cells": [
  {
   "cell_type": "markdown",
   "metadata": {
    "application/vnd.databricks.v1+cell": {
     "cellMetadata": {},
     "inputWidgets": {},
     "nuid": "21b9323b-fb27-480a-9d16-bdc6e621fa7f",
     "showTitle": false,
     "tableResultSettingsMap": {},
     "title": ""
    }
   },
   "source": []
  },
  {
   "cell_type": "markdown",
   "metadata": {
    "application/vnd.databricks.v1+cell": {
     "cellMetadata": {},
     "inputWidgets": {},
     "nuid": "bc8eaa5d-e153-43d4-8ec9-c2028fcf8704",
     "showTitle": false,
     "tableResultSettingsMap": {},
     "title": ""
    }
   },
   "source": [
    "# Abu Bakar N. Alvi \n",
    "[LinkedIn](https://www.linkedin.com/in/abubakar-alvi/)\n",
    "\n",
    "[News Letters](https://www.linkedin.com/newsletters/the-data-guy-isb-7123319093067231232/)\n"
   ]
  },
  {
   "cell_type": "markdown",
   "metadata": {
    "application/vnd.databricks.v1+cell": {
     "cellMetadata": {},
     "inputWidgets": {},
     "nuid": "c60d0ce8-e025-4f14-a00b-a6bf5fee66a3",
     "showTitle": false,
     "tableResultSettingsMap": {},
     "title": ""
    }
   },
   "source": [
    "## DP-600: Fabric Analytics Engineer Associate\n",
    "[Section 1: Plan a data analytics](https://www.linkedin.com/pulse/dp-600-fabric-analytics-engineer-associate-exam-1-abu-bakar-n--ckrfe/)\n",
    "\n",
    "[Section 2: Implement and Manage a data analytics environment](https://www.linkedin.com/pulse/dp-600-fabric-analytics-engineer-associate-exam-2-abu-bakar-n--ke1jf/)\n",
    "\n",
    "[Section 3: Manage the analytics development lifecycle](https://www.linkedin.com/pulse/dp-600-fabric-analytics-engineer-associate-exam-3-abu-bakar-n--ufmtf/)\n",
    "\n",
    "[Section 4: Create objects in a lakehouse or warehouse](https://www.linkedin.com/pulse/dp-600-fabric-analytics-engineer-associate-exam-4-abu-bakar-n--ppusf/)\n",
    "\n",
    "[Section 5: Copy data](https://www.linkedin.com/pulse/dp-600-fabric-analytics-engineer-associate-exam-5-abu-bakar-n--uzfxf/)\n",
    "\n",
    "[Section 6: Transform data](https://www.linkedin.com/pulse/dp-600-fabric-analytics-engineer-associate-exam-6-abu-bakar-n--itb3f/)\n",
    "\n",
    "[Section 7: Optimize Performance](https://www.linkedin.com/pulse/dp-600-fabric-analytics-engineer-associate-exam-7-abu-bakar-n--xmshf/)\n",
    "\n",
    "[Section 8: Design and build semantic models](https://www.linkedin.com/pulse/dp-600-fabric-analytics-engineer-associate-exam-8-abu-bakar-n--e3oke/)\n",
    "\n",
    "[Section 9: Optimize enterprise-scale semantic models](https://www.linkedin.com/pulse/dp-600-fabric-analytics-engineer-associate-exam-9-abu-bakar-n--y4yof/)\n",
    "\n",
    "[Section 10: Perform exploratory analytics](https://www.linkedin.com/pulse/dp-600-fabric-analytics-engineer-associate-exam-10-abu-bakar-n--819uf/)\n",
    "\n",
    "[Section 11: Query data by using SQL](https://www.linkedin.com/pulse/dp-600-fabric-analytics-engineer-associate-exam-11-abu-bakar-n--q3nkf/)"
   ]
  }
 ],
 "metadata": {
  "application/vnd.databricks.v1+notebook": {
   "dashboards": [],
   "environmentMetadata": null,
   "language": "python",
   "notebookMetadata": {
    "pythonIndentUnit": 4
   },
   "notebookName": "Extra Readings",
   "widgets": {}
  },
  "language_info": {
   "name": "python"
  }
 },
 "nbformat": 4,
 "nbformat_minor": 0
}

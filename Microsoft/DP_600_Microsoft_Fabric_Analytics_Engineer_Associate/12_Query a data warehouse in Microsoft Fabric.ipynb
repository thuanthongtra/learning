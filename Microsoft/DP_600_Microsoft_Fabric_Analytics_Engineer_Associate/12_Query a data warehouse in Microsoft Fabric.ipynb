{
 "cells": [
  {
   "cell_type": "markdown",
   "metadata": {
    "application/vnd.databricks.v1+cell": {
     "cellMetadata": {},
     "inputWidgets": {},
     "nuid": "f0b39fa2-cf21-4add-9aea-c389fa295f4e",
     "showTitle": false,
     "title": ""
    }
   },
   "source": [
    "# Use the SQL query editor"
   ]
  },
  {
   "cell_type": "markdown",
   "metadata": {
    "application/vnd.databricks.v1+cell": {
     "cellMetadata": {},
     "inputWidgets": {},
     "nuid": "2f737a99-0b4d-466c-84f9-ab43d669869c",
     "showTitle": false,
     "title": ""
    }
   },
   "source": [
    "## Launch a SQL query editor\n",
    "The SQL query editor isn't just about querying; it’s about managing your data effectively. Whether you’re creating a new table, inserting rows into a table, granting objects permission or executing complex queries, the SQL query editor is designed to make these tasks seamless.\n",
    "\n",
    "To launch the SQL query editor, you need to select your warehouse asset from **My workspace**. This step connects to your data warehouse automatically, without you having to prompt any connection information.\n",
    "\n",
    "From the warehouse **Explorer**, there are a few ways to create a SQL query editor.\n",
    "\n",
    "<img src=\"./images/12/2-sql-editor.png\" alt=\"Invoke a new SQL editor\" style=\"border: 2px solid black; border-radius: 10px;\">\n",
    "\n",
    "\n",
    "**1. Home** menu: Select **New SQL query** or select any of the templates available.\n",
    "**2. Queries** node: Select ... in **My queries**, then select **New SQL Query**.\n",
    "**3. Query** tab: This option opens a new query editor.\n",
    "No matter how you initiate a new query editor, a new query item is automatically created in **My queries** folder in the **Explorer**."
   ]
  },
  {
   "cell_type": "markdown",
   "metadata": {
    "application/vnd.databricks.v1+cell": {
     "cellMetadata": {},
     "inputWidgets": {},
     "nuid": "98829e23-2b49-459e-92de-74dcabb38fac",
     "showTitle": false,
     "title": ""
    }
   },
   "source": [
    "## Run queries and view results\n",
    "To run a query, type it into a new query editor and select **Run** at the top of the editor.\n",
    "\n",
    "Animated GIF showing how to run a query for a data warehouse in Microsoft Fabric.\n",
    "\n",
    "<img src=\"./images/12/2-query-editor.gif\" alt=\"Run a query for a data warehouse\" style=\"border: 2px solid black; border-radius: 10px;\">\n",
    "\n",
    "The **Results** section shows a preview, limited to 10,000 rows if exceeded."
   ]
  },
  {
   "cell_type": "markdown",
   "metadata": {
    "application/vnd.databricks.v1+cell": {
     "cellMetadata": {},
     "inputWidgets": {},
     "nuid": "edbf5983-a94b-4b96-a3cc-0776cf712edf",
     "showTitle": false,
     "title": ""
    }
   },
   "source": [
    "## Export results\n",
    "Your query results can be exported as an Excel file. To export it, select **Download Excel file**.\n",
    "\n",
    "<img src=\"./images/12/2-export-query.gif\" alt=\"Export query results\" style=\"border: 2px solid black; border-radius: 10px;\">\n",
    "\n",
    "You need to select the text of one `SELECT` statement in your query to export results to Excel.\n",
    "\n",
    "Similarly, the query editor offers the ability to save your highlighted query as either a view or a table, each with distinct features:\n",
    "\n",
    "- **Save as view:** Allows you to create a view in the warehouse using the SELECT statement highlighted in the query editor.\n",
    "- **Save as table:** Creates a new table with your query results.\n",
    "\n",
    "For both options, you must provide the schema and the name before confirming the creation.\n",
    "\n",
    "To learn more about SQL query editor, see [Query using the SQL query editor](https://learn.microsoft.com/en-us/fabric/data-warehouse/sql-query-editor)."
   ]
  },
  {
   "cell_type": "markdown",
   "metadata": {
    "application/vnd.databricks.v1+cell": {
     "cellMetadata": {},
     "inputWidgets": {},
     "nuid": "9917ae5d-a45b-469e-91e1-da243c32c42e",
     "showTitle": false,
     "title": ""
    }
   },
   "source": [
    "# Explore the visual query editor\n",
    "The visual query editor in Microsoft Fabric data warehouse is a tool that provides an intuitive interface for building SQL queries.\n",
    "\n",
    "It simplifies the process of writing and managing queries, especially for those who might not be comfortable with SQL syntax.\n",
    "- **Graphical interface:** The editor provides a graphical interface where you can drag and drop tables, and visually design your queries. This makes it easier to understand the structure of your query and the relationships between tables.\n",
    "- **Automatic query generation:** As you design your query using the visual interface, the corresponding SQL query is automatically generated. This allows you to focus on the logic of your query, rather than the syntax. All workspace users can save their queries in **My queries** folder."
   ]
  },
  {
   "cell_type": "markdown",
   "metadata": {
    "application/vnd.databricks.v1+cell": {
     "cellMetadata": {},
     "inputWidgets": {},
     "nuid": "5bd142d5-fc2c-41b3-8054-a74e85f06885",
     "showTitle": false,
     "title": ""
    }
   },
   "source": [
    "## Build your query visually\n",
    "The visual query editor enhances intuitive understanding of data relationships by allowing users to visually organize tables and fields.\n",
    "\n",
    "Also, the visual query editor is user-friendly, even for those with little to no SQL experience. Nontechnical team members can use it to extract valuable insights from your data, democratizing data access within your organization and speeding up the decision-making process.\n",
    "\n",
    "<img src=\"./images/12/3-visual-editor.gif\" alt=\"Build a query using the visual query editor\" style=\"border: 2px solid black; border-radius: 10px;\">\n",
    "\n",
    "Similarly to the SQL query editor, the **Save as table** and **Save as view** options are also available. These features can be useful for reusing your queries or for creating more complex queries based on the results of previous queries.\n",
    "\n",
    "To learn more about SQL query editor, see [Query using the visual query editor](https://learn.microsoft.com/en-us/fabric/data-warehouse/visual-query-editor)."
   ]
  },
  {
   "cell_type": "markdown",
   "metadata": {
    "application/vnd.databricks.v1+cell": {
     "cellMetadata": {},
     "inputWidgets": {},
     "nuid": "8af40c56-f8bd-4beb-89eb-770438faff78",
     "showTitle": false,
     "title": ""
    }
   },
   "source": [
    "# Use client tools to query a warehouse"
   ]
  },
  {
   "cell_type": "markdown",
   "metadata": {
    "application/vnd.databricks.v1+cell": {
     "cellMetadata": {},
     "inputWidgets": {},
     "nuid": "cff773cb-f2f5-49a7-9614-a32193b0f45f",
     "showTitle": false,
     "title": ""
    }
   },
   "source": [
    "## Connect to your data warehouse\n",
    "SQL Server Management Studio provides a familiar interface for those who regularly work with SQL Server.\n",
    "\n",
    "<img src=\"./images/12/4-connection-string.gif\" alt=\"Generate the connection string\" style=\"border: 2px solid black; border-radius: 10px;\">\n",
    "\n",
    "Follow these steps to connect to data warehouse in Fabric from SSMS:\n",
    "1. Navigate to your Microsoft Fabric workspace.\n",
    "2. On your warehouse asset, select more options, then select **Copy SQL connection string**.\n",
    "3. Launch SQL Server Management Studio, and paste the SQL connection string copied into the **Server** name box, and provide the appropriate credentials for authentication.\n",
    "\n",
    "\n",
    "<img src=\"./images/12/4-ssms.png\" alt=\"Connect to a warehouse using SQL Server Management Studio\" style=\"border: 2px solid black; border-radius: 10px;\">\n",
    "\n",
    "4. After establishing a connection, SSMS shows the connected warehouse, along with its corresponding tables and views, all ready for querying.\n",
    "\n",
    "<img src=\"./images/12/4-ssms-warehouse.png\" alt=\"Connected to a warehouse using SQL Server Management Studio\" style=\"border: 2px solid black; border-radius: 10px;\">"
   ]
  },
  {
   "cell_type": "markdown",
   "metadata": {
    "application/vnd.databricks.v1+cell": {
     "cellMetadata": {},
     "inputWidgets": {},
     "nuid": "709b746e-0ed4-4bc6-9620-3894aca363ca",
     "showTitle": false,
     "title": ""
    }
   },
   "source": [
    "## Authentication options\n",
    "In Microsoft Fabric, two types of authenticated users are supported through the SQL connection string:\n",
    "- Microsoft Entra ID (formerly Azure Active Directory) user principals, or user identities\n",
    "- Microsoft Entra ID (formerly Azure Active Directory) service principals\n",
    "\n",
    "<img src=\"https://files.training.databricks.com/images/icon_note_32.png\" alt=\"Note\"> SQL authentication is not supported."
   ]
  },
  {
   "cell_type": "markdown",
   "metadata": {
    "application/vnd.databricks.v1+cell": {
     "cellMetadata": {},
     "inputWidgets": {},
     "nuid": "a50667fc-9eb9-4589-966c-f410414d6872",
     "showTitle": false,
     "title": ""
    }
   },
   "source": [
    "## Other tools\n",
    "Any third-party tool can use the SQL connection string via ODBC or OLE DB drivers to connect to a Microsoft Fabric Warehouse or SQL analytics endpoint, using Microsoft Entra ID (formerly Azure Active Directory) authentication."
   ]
  }
 ],
 "metadata": {
  "application/vnd.databricks.v1+notebook": {
   "dashboards": [],
   "environmentMetadata": null,
   "language": "python",
   "notebookMetadata": {
    "pythonIndentUnit": 4
   },
   "notebookName": "12_Query a data warehouse in Microsoft Fabric",
   "widgets": {}
  }
 },
 "nbformat": 4,
 "nbformat_minor": 0
}

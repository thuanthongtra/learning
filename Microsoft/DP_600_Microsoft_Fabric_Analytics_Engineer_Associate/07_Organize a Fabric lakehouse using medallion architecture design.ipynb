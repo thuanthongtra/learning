{
 "cells": [
  {
   "cell_type": "markdown",
   "metadata": {
    "application/vnd.databricks.v1+cell": {
     "cellMetadata": {},
     "inputWidgets": {},
     "nuid": "f0b39fa2-cf21-4add-9aea-c389fa295f4e",
     "showTitle": false,
     "title": ""
    }
   },
   "source": [
    "# Describe medallion architecture\n",
    "Data lakehouses in Fabric are built on the Delta Lake format, which natively supports ACID (Atomicity, Consistency, Isolation, Durability) transactions. Within this framework, the **medallion architecture** is a recommended data design pattern used to organize data in a lakehouse logically. \n",
    "- It aims to **improve data quality** as it moves through different layers. \n",
    "- The architecture typically has **three layers** – bronze (raw), silver (validated), and gold (enriched), each representing higher data quality levels. \n",
    "- Some people also call it a \"multi-hop\" architecture, meaning that data can move between layers as needed.\n",
    "\n",
    "This architecture ensures that data is reliable and consistent as it goes through various **checks** and **changes**. It also guarantees that the data is safely stored in a way that makes it **easier** and **faster** to analyze.\n",
    "\n",
    "The medallion architecture **`complements`** other data organization methods, rather than replacing them.\n",
    "- You can think of the medallion architecture as the framework for data cleaning, rather than a data architecture or model. \n",
    "- It ensures compatibility and flexibility for businesses to adopt its benefits alongside existing data models, allowing you to customize data solutions and preserve expertise while remaining adaptable in the ever-changing data landscape.\n",
    "\n",
    "![Medallion architecture](./images/07/lakehouse-medallion.png)"
   ]
  },
  {
   "cell_type": "markdown",
   "metadata": {
    "application/vnd.databricks.v1+cell": {
     "cellMetadata": {},
     "inputWidgets": {},
     "nuid": "11dd88f5-fd38-4caa-9a8b-8bbe235473bb",
     "showTitle": false,
     "title": ""
    }
   },
   "source": [
    "## Understand the medallion architecture format\n",
    "**1. Bronze layer:**\n",
    "- It's the landing zone for **`all data`**, whether it's structured, semi-structured, or unstructured. \n",
    "- The data is stored in its **`original format`**, and no changes are made to it.\n",
    "\n",
    "**2. Silver layer:**\n",
    "- It's where you'll **validate** and **refine** your data. \n",
    "  - Typical activities in the silver layer include **`combining and merging`** data and **`enforcing data validation rules`** like removing nulls and deduplicating.\n",
    "  - In the silver layer you're **`cleaning`** your data enough so that everything is in one place and ready to be refined and modeled in the gold layer.\n",
    "- The silver layer can be thought of as a **central repository** across an organization or team, where data is stored in a consistent format and can be accessed by multiple teams. \n",
    "\n",
    "**3. Gold layer:**\n",
    "- In the gold layer, data undergoes **further refinement** to align with specific business and analytics needs.\n",
    "  - This could involve **`aggregating`** data to a particular granularity, such as daily or hourly, or **`enriching`** it with external information. \n",
    "- Once the data reaches the gold stage, it becomes ready for use by downstream teams, including analytics, data science, or MLOps."
   ]
  },
  {
   "cell_type": "markdown",
   "metadata": {
    "application/vnd.databricks.v1+cell": {
     "cellMetadata": {},
     "inputWidgets": {},
     "nuid": "fbf1afbd-4a99-462e-937b-e1c6fec6276a",
     "showTitle": false,
     "title": ""
    }
   },
   "source": [
    "## Customize your medallion architecture\n",
    "Depending on your organization's specific use case, you may have a need for **`more layers`**. For example, \n",
    "- you might have an **`additional \"raw\" layer`** for landing data in a specific format before it's transformed into the bronze layer.\n",
    "- you might have a **`\"platinum\" layer`** for data that's been further refined and enriched for a specific use case. \n",
    "\n",
    "Regardless of the names and number of layers, the medallion architecture is flexible and can be tailored to meet your organization's particular requirements."
   ]
  },
  {
   "cell_type": "markdown",
   "metadata": {
    "application/vnd.databricks.v1+cell": {
     "cellMetadata": {},
     "inputWidgets": {},
     "nuid": "027a6232-ec65-494a-8848-7b3f151d493a",
     "showTitle": false,
     "title": ""
    }
   },
   "source": [
    "## Move data across layers in Fabric\n",
    "There are a few things to consider when deciding how to move and transform data across layers.\n",
    "\n",
    "- **How much data** are you working with?\n",
    "- **How complex** are the transformations you need to make?\n",
    "- **How often** will you need to move data between layers?\n",
    "- **What tools** are you most comfortable with?\n",
    "- Understanding the difference between **`data transformation`** and **`data orchestration`** helps you select the right tools for the job within Fabric.\n",
    "  - **Data transformation:** involves altering the structure or content of data to meet specific requirements.\n",
    "    - Tools for data transformation in Fabric include **`Dataflows (Gen2)`** and **`notebooks`**.\n",
    "      - **Dataflows:** are a great option for **`smaller` semantic models** and **`simple` transformations**. \n",
    "      - **Notebooks:** are a better option for **`larger` semantic models** and **`more complex` transformations**. Notebooks also allow you to save your transformed data as a managed Delta table in the lakehouse, ready for reporting.\n",
    "  - **Data orchestration:** refers to the coordination and management of multiple data-related processes, ensuring they work together to achieve a desired outcome\n",
    "    - The primary tool for data orchestration in Fabric is **`pipelines`**. \n",
    "      - A pipeline is a **`series of steps`** that move data from one place to another, in this case, from one layer of the medallion architecture to the next. Pipelines can be automated to run on a schedule or triggered by an event."
   ]
  },
  {
   "cell_type": "markdown",
   "metadata": {
    "application/vnd.databricks.v1+cell": {
     "cellMetadata": {},
     "inputWidgets": {},
     "nuid": "a4b08dc9-e981-4286-be60-6e13d123ecd4",
     "showTitle": false,
     "title": ""
    }
   },
   "source": [
    "# Implement a medallion architecture in Fabric\n",
    "Now that you have a solid understanding of the medallion architecture, let's explore how to put it into action within Fabric.\n",
    "\n",
    "Set up the foundation: Create your Fabric lakehouse. You can use the same lakehouse for multiple medallion architectures, or alternatively, you can use different lakehouses and even different lakehouses in different workspaces, depending on your use case. We'll dive more into this in unit 5.\n",
    "\n",
    "Design your architecture: Create your architecture layout, define your layers, and determine how data will flow between them. The most straightforward implementation is to use Bronze as the raw layer, Silver as the curated layer, and gold as the presentation layer. Your gold layer should be modeled in a star schema and optimized for reporting.\n",
    "\n",
    "Question\tBronze\tSilver\tGold\n",
    "What happens in that layer?\tIngest raw data\tCleanse and validate data\tAdditional transformations and modeling\n",
    "What tool is used?\tPipelines, dataflows, notebooks\tDataflows or notebooks\tSQL analytics endpoint or semantic model\n",
    "Ingest data into bronze: Determine how you'll ingest data into your bronze layer. You can do this using pipelines, dataflows, or notebooks.\n",
    "\n",
    "Transform data and load to silver: Determine how you'll transform data in your silver layer. You can do this using dataflows or notebooks. Transformations at the silver level should be focused on data quality and consistency, not on data modeling.\n",
    "\n",
    "Generate a gold layer: Determine how you'll generate your gold layer(s), what it will contain, and how it will be used.\n",
    "\n",
    "The gold layer is where you'll model your data for reporting using a dimensional model. Here you'll establish relationships, define measures, and incorporate any other elements essential for effective reporting.\n",
    "You can have multiple gold layers for different audiences or domains. For example, you might have a gold layer for your finance team and a separate gold layer for your sales team. You might also have a gold layer for your data scientists that is optimized for machine learning.\n",
    "Depending on your needs, you might also use a Data Warehouse as your gold layer. See Get started with data warehouses in Microsoft Fabric to learn more.\n",
    "In Fabric, you can transform your data using dataflows or notebooks, and then load it into a gold Delta table in the lakehouse. You can then connect to the Delta table using a SQL analytics endpoint and use SQL to model your data for reporting. Alternatively, you can use Power BI to connect to the SQL analytics endpoint of the gold layer and model your data for reporting.\n",
    "Enable downstream consumption: Determine how you'll enable downstream consumption of your data. You can do this using workspace or item permissions, or by connecting to the SQL analytics endpoint."
   ]
  },
  {
   "cell_type": "markdown",
   "metadata": {
    "application/vnd.databricks.v1+cell": {
     "cellMetadata": {},
     "inputWidgets": {},
     "nuid": "5c11e82d-7961-4c34-a229-5d9c7c81a3f0",
     "showTitle": false,
     "title": ""
    }
   },
   "source": [
    "# Query and report on data in your Fabric lakehouse\n",
    "Now that your medallion architecture is in place, data teams and the business can start using it to query and report on data. Fabric has several tools and technologies that enable you to query and report on data in your lakehouse, including SQL analytics endpoints and Direct Lake mode in Power BI semantic models.\n",
    "\n",
    "Query data in your lakehouse\n",
    "Teams can use SQL to explore and query data in the gold layer. You can analyze data in delta tables at any layer of the medallion architecture using the T-SQL language, save functions, generate views, and apply SQL security. You can also use the SQL analytics endpoint to connect to your lakehouse from third-party tools and applications.\n",
    "\n",
    "The SQL analytics endpoint in Fabric enables you to write queries, manage the semantic model, and query data using the new visual query experience.\n",
    "\n",
    "Screenshot of the SQL analytics endpoint in the Fabric user interface.\n",
    "\n",
    " Note\n",
    "\n",
    "The SQL analytics endpoint operates in read-only mode over lakehouse delta tables. To modify data in your lakehouse you can use dataflows, notebooks, or pipelines.\n",
    "\n",
    "In addition to using the SQL analytics endpoint for data exploration, you can also create a Power BI semantic model in Direct Lake mode to query data in your lakehouse. When you create a lakehouse, the system also creates an associated default semantic model. The default semantic model is a semantic model with metrics on top of lakehouse data.\n",
    "\n",
    "Screenshot of the Power BI semantic model with relationships between tables.\n",
    "\n",
    "Data analysts connect to the semantic model using Direct Lake mode, in which the semantic model accesses data from a lakehouse. Direct Lake mode caches often-used data and refreshes it as required, combining the speed of a semantic model with the up-to-date data from a lakehouse.\n",
    "\n",
    "Tailor your medallion layers for different needs\n",
    "Tailoring medallion layers to different needs allows you to optimize data processing and access for specific use cases. By customizing these layers, you can ensure that each layer's structure and organization align with the requirements of different user groups, improving performance, ease of use, and data relevance for diverse stakeholders.\n",
    "\n",
    "Creating multiple Gold layers tailored for diverse audiences or domains highlights the flexibility of the medallion architecture. Finance, sales, data science – each can have its optimized Gold layer, serving specific analytical requirements.\n",
    "\n",
    "Some applications, third-party tools, or systems require specific data formats. You can utilize your medallion architecture to generate cleansed and properly formatted data."
   ]
  },
  {
   "cell_type": "markdown",
   "metadata": {
    "application/vnd.databricks.v1+cell": {
     "cellMetadata": {},
     "inputWidgets": {},
     "nuid": "2b185237-7dc9-4de1-97b1-2174eaa9b004",
     "showTitle": false,
     "title": ""
    }
   },
   "source": [
    "# Considerations for managing your lakehouse\n",
    "There are a couple of considerations to keep in mind when managing your lakehouse, including how to secure your lakehouse and how to handle continuous integration and continuous delivery (CI/CD).\n",
    "\n",
    "Secure your lakehouse\n",
    "Secure your lakehouse by ensuring that only authorized users can access data. In Fabric, you can do this by setting permissions at the workspace or item level.\n",
    "\n",
    "Workspace permissions control access to all items within a workspace. Item level permissions control access to specific items within a workspace, and could be used when you're collaborating with colleagues who aren't in the same workspace, or they only need access to a single, specific item.\n",
    "\n",
    "You can strategically store different layers of your lakehouse in separate workspaces for improved security and efficient capacity management. This approach not only enhances security but also optimizes cost-effectiveness.\n",
    "\n",
    "Security and Access Considerations: Define who needs access at each layer, ensuring only authorized personnel can interact with sensitive data.\n",
    "Gold Layer Access Control: Restrict access to the Gold layer for read-only purposes, emphasizing the importance of minimal permissions.\n",
    "Silver Layer Utilization: Decide whether users will be allowed to build upon the Silver layer, balancing flexibility and security.\n",
    "Bronze Layer Access Control: Restrict access to the Bronze layer for read-only purposes, emphasizing the importance of minimal permissions.\n",
    "Sharing of Fabric content should be discussed with your organization's security team to ensure that it aligns with your organization's security policies.\n",
    "\n",
    "Considerations for Continuous Integration and Continuous Delivery (CI/CD)\n",
    "Designing a Continuous Integration/Continuous Deployment (CI/CD) process for a lakehouse architecture involves several considerations to ensure a smooth and efficient deployment process. Considerations include implementing data quality checks, version control, automated deployments, monitoring, and security measures. Considerations should also include scalability, disaster recovery, collaboration, compliance, and continuous improvement to ensure reliable and efficient data pipeline deployments. While some of these are related to processes and practices, others are related to the tools and technologies used to implement CI/CD. Fabric natively provides several tools and technologies to support CI/CD processes.\n",
    "\n",
    "Git integration in Microsoft Fabric enables you to integrate development processes, tools, and best practices straight into the Fabric platform. Fabric's Git integration enables data teams to back up and version work, revert to previous stages as needed, collaborate with others or work alone using Git branches, and leverage the capabilities of familiar source control tools to manage Fabric items.\n",
    "\n",
    " Note\n",
    "\n",
    "Learn more about Git integration in Fabric in Introduction to git integration.\n",
    "\n",
    "CI/CD is crucial at the gold layer of a lakehouse because it ensures that high-quality, validated, and reliable data is available for consumption. Automated processes enable continuous integration of new data, data transformations, and updates, reducing manual errors and providing consistent and up-to-date insights to downstream users and applications. This enhances data accuracy, accelerates decision-making, and supports data-driven initiatives effectively."
   ]
  }
 ],
 "metadata": {
  "application/vnd.databricks.v1+notebook": {
   "dashboards": [],
   "environmentMetadata": null,
   "language": "python",
   "notebookMetadata": {
    "pythonIndentUnit": 4
   },
   "notebookName": "07_Organize a Fabric lakehouse using medallion architecture design",
   "widgets": {}
  }
 },
 "nbformat": 4,
 "nbformat_minor": 0
}

{
 "cells": [
  {
   "cell_type": "markdown",
   "metadata": {
    "application/vnd.databricks.v1+cell": {
     "cellMetadata": {},
     "inputWidgets": {},
     "nuid": "f0b39fa2-cf21-4add-9aea-c389fa295f4e",
     "showTitle": false,
     "title": ""
    }
   },
   "source": [
    "# Monitor capacity metrics\n",
    "When your organization uses Microsoft Fabric, the license used to purchase the service determines the **_capacity_** available. A capacity is a pool of resources that you can use to implement Fabric capabilities.\n",
    "\n",
    "The cost of using Fabric is based on **_capacity units (CUs)_**. Each action you perform in a Fabric resource can consume CUs, for which your organization is billed. It's therefore important to be able to monitor capacity usage to plan and manage costs. In data warehouse workloads, CUs are consumed by data read and write activities, so queries in your data warehouse and the underlying file operations to OneLake storage are a significant factor in the cost of your Fabric analytics solution."
   ]
  },
  {
   "cell_type": "markdown",
   "metadata": {
    "application/vnd.databricks.v1+cell": {
     "cellMetadata": {},
     "inputWidgets": {},
     "nuid": "99c37d53-0a80-468d-b653-6cfc2209fce0",
     "showTitle": false,
     "title": ""
    }
   },
   "source": [
    "## Using the Microsoft Fabric Capacity Metrics app\n",
    "**The Microsoft Fabric Capacity Metrics app** is an app that an administrator can install in a Fabric environment and use to **_monitor capacity utilization_**. To monitor capacity utilization related to data warehousing, you can filter the interface to show only **warehouse** activity, like this:\n",
    "\n",
    "<img src=\"../images/04_Implement a data warehouse with Microsoft Fabric/03/fabric-capacity-metrics-app.gif\" alt=\"Fabric Capacity Metrics app\" style=\"border: 2px solid black; border-radius: 10px;\">\n",
    "\n",
    "By using the Fabric Capacity Metrics app, you can observe capacity utilization trends to determine what processes are consuming CUs in your Fabric environment and whether any **_throttling_** is occurring (which indicates that your processes require more capacity than is available within the constraints of your purchased capacity license). With this information, you can optimize your capacity license for your needs.\n",
    "\n",
    "<img src=\"https://files.training.databricks.com/images/icon_note_32.png\" alt=\"Note\"> For more information about Microsoft Fabric Capacity Metrics app, refer to [Billing and utilization reporting in Synapse Data Warehouse](https://learn.microsoft.com/en-us/fabric/data-warehouse/usage-reporting) in the Microsoft Fabric documentation."
   ]
  },
  {
   "cell_type": "markdown",
   "metadata": {
    "application/vnd.databricks.v1+cell": {
     "cellMetadata": {},
     "inputWidgets": {},
     "nuid": "bc8451c2-d84e-4466-b3e7-d2cb2b65aff3",
     "showTitle": false,
     "title": ""
    }
   },
   "source": [
    "# Monitor current activity\n",
    "You can use dynamic management views (DMVs) to retrieve information about the current state of the data warehouse. Specifically, Microsoft Fabric data warehouses include the following DMVs:\n",
    "\n",
    "- **`sys.dm_exec_connections`**: Returns information about data warehouse connections.\n",
    "- **`sys.dm_exec_sessions`**: Returns information about authenticated sessions.\n",
    "- **`sys.dm_exec_requests`**: Returns information about active requests.\n",
    "\n",
    "The schema of these tables is shown here:\n",
    "\n",
    "<img src=\"../images/04_Implement a data warehouse with Microsoft Fabric/03/dynamic-management-views.png\" alt=\"Diagram of dynamic management views.\" style=\"border: 2px solid black; border-radius: 10px;\">"
   ]
  },
  {
   "cell_type": "markdown",
   "metadata": {
    "application/vnd.databricks.v1+cell": {
     "cellMetadata": {},
     "inputWidgets": {},
     "nuid": "c5cca677-3088-40de-a749-ee9f259983bf",
     "showTitle": false,
     "title": ""
    }
   },
   "source": [
    "## Querying DMVs\n",
    "You can retrieve detailed information about current activities in the data warehouse by querying the **`dm_exec_*`** DMVs. For example, consider the following query:"
   ]
  },
  {
   "cell_type": "code",
   "execution_count": 0,
   "metadata": {
    "application/vnd.databricks.v1+cell": {
     "cellMetadata": {},
     "inputWidgets": {},
     "nuid": "95cf1317-1e53-4b33-afc4-a53fd3868142",
     "showTitle": false,
     "title": ""
    }
   },
   "outputs": [],
   "source": [
    "%sql\n",
    "SELECT sessions.session_id, sessions.login_name,\n",
    "    connections.client_net_address,\n",
    "    requests.command, requests.start_time, requests.total_elapsed_time\n",
    "FROM sys.dm_exec_connections AS connections\n",
    "INNER JOIN sys.dm_exec_sessions AS sessions\n",
    "    ON connections.session_id=sessions.session_id\n",
    "INNER JOIN sys.dm_exec_requests AS requests\n",
    "    ON requests.session_id = sessions.session_id\n",
    "WHERE requests.status = 'running'\n",
    "    AND requests.database_id = DB_ID()\n",
    "ORDER BY requests.total_elapsed_time DESC"
   ]
  },
  {
   "cell_type": "markdown",
   "metadata": {
    "application/vnd.databricks.v1+cell": {
     "cellMetadata": {},
     "inputWidgets": {},
     "nuid": "cb0dfc96-e145-4f24-81fd-d8d95ccda151",
     "showTitle": false,
     "title": ""
    }
   },
   "source": [
    "This query returns details about the active requests in the current database, ordered by the duration for which they have been executing; which may be useful to identify long-running queries that could benefit from optimization. An example result set from the query is shown here:\n",
    "\n",
    "| session_id | login_name | client_net_address | command | start_time | total_elapsed_time |\n",
    "|-- | -- | -- | -- | -- | -- |\n",
    "| 60 | fred@contoso.com | 10.23.139.162 | SELECT | 2023-12-07T14:56:41.3530000 | 57266 |\n",
    "| 126 | nandita@contoso.com | 10.23.137.98 | SELECT | 2023-12-07T14:57:22.7800000 | 15840 |\n",
    "| 137 | zoe@contoso.com | 10.23.119.171 | SELECT | 2023-12-07T14:57:38.6070000 | 4 |\n",
    "\n",
    "<img src=\"https://files.training.databricks.com/images/icon_note_32.png\" alt=\"Note\"> For more information about using DMVs, refer to [Monitor connections, sessions, and requests using DMVs](https://learn.microsoft.com/en-us/fabric/data-warehouse/monitor-using-dmv) in the Microsoft Fabric documentation."
   ]
  },
  {
   "cell_type": "markdown",
   "metadata": {
    "application/vnd.databricks.v1+cell": {
     "cellMetadata": {},
     "inputWidgets": {},
     "nuid": "d2b2b424-e937-4c25-98fa-581f37c3318d",
     "showTitle": false,
     "title": ""
    }
   },
   "source": [
    "# Monitor queries\n",
    "Microsoft Fabric data warehouses include **_query insights_** feature that provides historical, aggregated information about the queries that have been run; enabling you to identify frequently used or long-running queries, and helping you analyze and tune query performance.\n",
    "\n",
    "Query insights are provided through the following views:\n",
    "\n",
    "- **`queryinsights.exec_requests_history`**: Details of each completed SQL query.\n",
    "- **`queryinsights.long_running_queries`**: Details of query execution time.\n",
    "- **`queryinsights.frequently_run_queries`**: Details of frequently run queries.\n",
    "The schema for these tables is shown here:\n",
    "\n",
    "<img src=\"../images/04_Implement a data warehouse with Microsoft Fabric/03/query-insights.png\" alt=\"Query insights views\" style=\"border: 2px solid black; border-radius: 10px;\">"
   ]
  },
  {
   "cell_type": "markdown",
   "metadata": {
    "application/vnd.databricks.v1+cell": {
     "cellMetadata": {},
     "inputWidgets": {},
     "nuid": "7e115aa2-5f10-4488-a5b7-963aa3e46167",
     "showTitle": false,
     "title": ""
    }
   },
   "source": [
    "## Retrieving query insights\n",
    "The query insights views are a useful source of information about the queries that are being run in your data warehouse."
   ]
  },
  {
   "cell_type": "markdown",
   "metadata": {
    "application/vnd.databricks.v1+cell": {
     "cellMetadata": {},
     "inputWidgets": {},
     "nuid": "5b42d984-d666-4781-889d-43a1aa9cb37a",
     "showTitle": false,
     "title": ""
    }
   },
   "source": [
    "### exec_requests_history"
   ]
  },
  {
   "cell_type": "code",
   "execution_count": 0,
   "metadata": {
    "application/vnd.databricks.v1+cell": {
     "cellMetadata": {},
     "inputWidgets": {},
     "nuid": "8bd56203-69a4-4ad2-b663-680fc0c6c015",
     "showTitle": false,
     "title": ""
    }
   },
   "outputs": [],
   "source": [
    "%sql\n",
    "SELECT start_time, login_name, command\n",
    "FROM queryinsights.exec_requests_history \n",
    "WHERE start_time >= DATEADD(MINUTE, -60, GETUTCDATE())"
   ]
  },
  {
   "cell_type": "markdown",
   "metadata": {
    "application/vnd.databricks.v1+cell": {
     "cellMetadata": {},
     "inputWidgets": {},
     "nuid": "f4c7016c-583c-4b9a-bbe1-2d843cb96b88",
     "showTitle": false,
     "title": ""
    }
   },
   "source": [
    "This query uses the **`queryinsights.exec_requests_history`** view to identify queries that were run in the previous hour.\n",
    "\n",
    "<img src=\"https://files.training.databricks.com/images/icon_note_32.png\" alt=\"Note\"> Depending on the concurrent workloads, queries may take up to 15 minutes to be reflected in the query insights views."
   ]
  },
  {
   "cell_type": "markdown",
   "metadata": {
    "application/vnd.databricks.v1+cell": {
     "cellMetadata": {},
     "inputWidgets": {},
     "nuid": "3916d184-b951-4ea2-b80f-a61de8a997c5",
     "showTitle": false,
     "title": ""
    }
   },
   "source": [
    "### long_running_queries"
   ]
  },
  {
   "cell_type": "markdown",
   "metadata": {
    "application/vnd.databricks.v1+cell": {
     "cellMetadata": {},
     "inputWidgets": {},
     "nuid": "902deeb4-9269-47c0-a8ad-3e47cb72acc4",
     "showTitle": false,
     "title": ""
    }
   },
   "source": [
    "You can get details of long-running queries from the **`queryinsights.long_running_queries`** view like this:"
   ]
  },
  {
   "cell_type": "code",
   "execution_count": 0,
   "metadata": {
    "application/vnd.databricks.v1+cell": {
     "cellMetadata": {},
     "inputWidgets": {},
     "nuid": "debde7a0-2c08-4020-9946-0999c3bf31d8",
     "showTitle": false,
     "title": ""
    }
   },
   "outputs": [],
   "source": [
    "%sql\n",
    "SELECT last_run_command, number_of_runs, median_total_elapsed_time_ms, last_run_start_time\n",
    "FROM queryinsights.long_running_queries\n",
    "WHERE number_of_runs > 1\n",
    "ORDER BY median_total_elapsed_time_ms DESC;"
   ]
  },
  {
   "cell_type": "markdown",
   "metadata": {
    "application/vnd.databricks.v1+cell": {
     "cellMetadata": {},
     "inputWidgets": {},
     "nuid": "86f37328-3460-4e1a-a469-1783a9551dde",
     "showTitle": false,
     "title": ""
    }
   },
   "source": [
    "This query identifies long-running SQL commands that have been used more than once and returns them in descending order of their median time to complete.\n",
    "\n",
    "<img src=\"https://files.training.databricks.com/images/icon_note_32.png\" alt=\"Note\"> To enable the views to provide aggregated metrics, queries with predicates are parameterized and considered the same query if the parameterized statements are an exact match. For example, the following queries would be considered to be the same command:\n",
    "\n",
    "`SELECT * FROM sales WHERE orderdate > '01/01/2023'`\n",
    "\n",
    "`SELECT * FROM sales WHERE orderdate > '12/31/2021'`"
   ]
  },
  {
   "cell_type": "markdown",
   "metadata": {
    "application/vnd.databricks.v1+cell": {
     "cellMetadata": {},
     "inputWidgets": {},
     "nuid": "fc865aee-aaef-4f9e-b2cc-c2d902bade47",
     "showTitle": false,
     "title": ""
    }
   },
   "source": [
    "### frequently_run_queries"
   ]
  },
  {
   "cell_type": "markdown",
   "metadata": {
    "application/vnd.databricks.v1+cell": {
     "cellMetadata": {},
     "inputWidgets": {},
     "nuid": "4a6f6705-1bed-494e-b762-dc7516d7aafe",
     "showTitle": false,
     "title": ""
    }
   },
   "source": [
    "To find commonly used queries, you can use the queryinsights.**`frequently_run_queries`** view, like this:"
   ]
  },
  {
   "cell_type": "code",
   "execution_count": 0,
   "metadata": {
    "application/vnd.databricks.v1+cell": {
     "cellMetadata": {},
     "inputWidgets": {},
     "nuid": "e9b6bbda-16a8-4442-ad0d-8515fd8fed60",
     "showTitle": false,
     "title": ""
    }
   },
   "outputs": [],
   "source": [
    "%sql\n",
    "SELECT last_run_command, number_of_runs, number_of_successful_runs, number_of_failed_runs\n",
    "FROM queryinsights.frequently_run_queries\n",
    "ORDER BY number_of_runs DESC;"
   ]
  },
  {
   "cell_type": "markdown",
   "metadata": {
    "application/vnd.databricks.v1+cell": {
     "cellMetadata": {},
     "inputWidgets": {},
     "nuid": "50e39041-5695-4e8e-8e07-73e183b4e77e",
     "showTitle": false,
     "title": ""
    }
   },
   "source": [
    "This query returns details of successful and failed runs for frequently run commands.\n",
    "\n",
    "<img src=\"https://files.training.databricks.com/images/icon_note_32.png\" alt=\"Note\"> For more information about using query insights refer to [Query insights in Fabric data warehousing](https://learn.microsoft.com/en-us/fabric/data-warehouse/query-insights) in the Microsoft Fabric documentation."
   ]
  }
 ],
 "metadata": {
  "application/vnd.databricks.v1+notebook": {
   "dashboards": [],
   "environmentMetadata": null,
   "language": "python",
   "notebookMetadata": {
    "pythonIndentUnit": 4
   },
   "notebookName": "03_Monitor a Microsoft Fabric data warehouse",
   "widgets": {}
  },
  "language_info": {
   "name": "python"
  }
 },
 "nbformat": 4,
 "nbformat_minor": 0
}

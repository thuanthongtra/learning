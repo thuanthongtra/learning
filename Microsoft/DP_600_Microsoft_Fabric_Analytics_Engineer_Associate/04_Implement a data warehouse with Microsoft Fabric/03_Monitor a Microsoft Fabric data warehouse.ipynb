{
 "cells": [
  {
   "cell_type": "markdown",
   "metadata": {
    "application/vnd.databricks.v1+cell": {
     "cellMetadata": {},
     "inputWidgets": {},
     "nuid": "f0b39fa2-cf21-4add-9aea-c389fa295f4e",
     "showTitle": false,
     "title": ""
    }
   },
   "source": [
    "# Monitor capacity metrics\n",
    "When your organization uses Microsoft Fabric, the license used to purchase the service determines the capacity available. A capacity is a pool of resources that you can use to implement Fabric capabilities.\n",
    "\n",
    "The cost of using Fabric is based on capacity units (CUs). Each action you perform in a Fabric resource can consume CUs, for which your organization is billed. It's therefore important to be able to monitor capacity usage to plan and manage costs. In data warehouse workloads, CUs are consumed by data read and write activities, so queries in your data warehouse and the underlying file operations to OneLake storage are a significant factor in the cost of your Fabric analytics solution."
   ]
  },
  {
   "cell_type": "markdown",
   "metadata": {
    "application/vnd.databricks.v1+cell": {
     "cellMetadata": {},
     "inputWidgets": {},
     "nuid": "99c37d53-0a80-468d-b653-6cfc2209fce0",
     "showTitle": false,
     "title": ""
    }
   },
   "source": [
    "## Using the Microsoft Fabric Capacity Metrics app\n",
    "The Microsoft Fabric Capacity Metrics app is an app that an administrator can install in a Fabric environment and use to monitor capacity utilization. To monitor capacity utilization related to data warehousing, you can filter the interface to show only warehouse activity, like this:\n",
    "\n",
    "Screenshot of the Fabric Capacity Metrics app showing warehouse activity.\n",
    "\n",
    "By using the Fabric Capacity Metrics app, you can observe capacity utilization trends to determine what processes are consuming CUs in your Fabric environment and whether any throttling is occurring (which indicates that your processes require more capacity than is available within the constraints of your purchased capacity license). With this information, you can optimize your capacity license for your needs.\n",
    "\n",
    " Tip\n",
    "\n",
    "For more information about Microsoft Fabric Capacity Metrics app, refer to Billing and utilization reporting in Synapse Data Warehouse in the Microsoft Fabric documentation."
   ]
  },
  {
   "cell_type": "markdown",
   "metadata": {
    "application/vnd.databricks.v1+cell": {
     "cellMetadata": {},
     "inputWidgets": {},
     "nuid": "f5b29d78-e040-4e12-82f6-e2c49d743ab5",
     "showTitle": false,
     "title": ""
    }
   },
   "source": [
    "# Monitor current activity"
   ]
  },
  {
   "cell_type": "markdown",
   "metadata": {
    "application/vnd.databricks.v1+cell": {
     "cellMetadata": {},
     "inputWidgets": {},
     "nuid": "bc8451c2-d84e-4466-b3e7-d2cb2b65aff3",
     "showTitle": false,
     "title": ""
    }
   },
   "source": [
    "# Monitor queries"
   ]
  }
 ],
 "metadata": {
  "application/vnd.databricks.v1+notebook": {
   "dashboards": [],
   "environmentMetadata": null,
   "language": "python",
   "notebookMetadata": {
    "pythonIndentUnit": 4
   },
   "notebookName": "03_Monitor a Microsoft Fabric data warehouse",
   "widgets": {}
  }
 },
 "nbformat": 4,
 "nbformat_minor": 0
}

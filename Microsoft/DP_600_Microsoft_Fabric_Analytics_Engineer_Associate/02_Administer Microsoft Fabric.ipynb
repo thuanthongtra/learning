{
 "cells": [
  {
   "cell_type": "markdown",
   "metadata": {
    "application/vnd.databricks.v1+cell": {
     "cellMetadata": {},
     "inputWidgets": {},
     "nuid": "05978be5-a1d2-4f88-8f07-9d4fed7bb564",
     "showTitle": false,
     "title": ""
    }
   },
   "source": [
    "# Understand Fabric concepts\n"
   ]
  },
  {
   "cell_type": "markdown",
   "metadata": {
    "application/vnd.databricks.v1+cell": {
     "cellMetadata": {},
     "inputWidgets": {},
     "nuid": "e715033d-e073-4589-b1da-9df95ac87bb4",
     "showTitle": false,
     "title": ""
    }
   },
   "source": [
    "## Tenant\n",
    "**A Fabric tenant:** is a dedicated **space** for organizations to create, store, and manage Fabric **items**. \n",
    "  - There's often a **single instance** of Fabric for an organization, and it's aligned with **Microsoft Entra ID**. \n",
    "  - The Fabric tenant maps to the **root** of OneLake and is at the **top level** of the hierarchy."
   ]
  },
  {
   "cell_type": "markdown",
   "metadata": {
    "application/vnd.databricks.v1+cell": {
     "cellMetadata": {},
     "inputWidgets": {},
     "nuid": "ef0bcf63-3a2d-46ae-83eb-791449ffc465",
     "showTitle": false,
     "title": ""
    }
   },
   "source": [
    "## Capacity\n",
    "**Capacity:** is a dedicated **set of resources** that is available at a given time to be used. \n",
    "  - A tenant can have **one or more** capacities associated with it. \n",
    "  - Capacity defines the **ability** of a resource to perform an activity or to produce output. \n",
    "  - Different items consume different capacity at a certain time."
   ]
  },
  {
   "cell_type": "markdown",
   "metadata": {
    "application/vnd.databricks.v1+cell": {
     "cellMetadata": {},
     "inputWidgets": {},
     "nuid": "33984d4a-3d69-4b75-a65b-88016f31de36",
     "showTitle": false,
     "title": ""
    }
   },
   "source": [
    "## Domain\n",
    "**A domain:** is a logical **grouping of workspaces**. \n",
    "  - Domains are used to organize items. \n",
    "  - You can group things together in a way that makes it easier for the right people to have access to the right workspaces. For example, you might have a domain for sales, another for marketing, and another for finance."
   ]
  },
  {
   "cell_type": "markdown",
   "metadata": {
    "application/vnd.databricks.v1+cell": {
     "cellMetadata": {},
     "inputWidgets": {},
     "nuid": "64ab4f37-2339-4dfd-8188-5eb1e74ba01d",
     "showTitle": false,
     "title": ""
    }
   },
   "source": [
    "## Workspace\n",
    "**A workspace:** is a **collection of items** that brings together different functionality in a **single tenant**. \n",
    "  - It acts as a **container** that leverages capacity for the work that is executed, and provides controls for who can access the items in it. For example, in a sales workspace, users associated with the sales organization can create a data warehouse, run notebooks, create semantic models, create reports, etc."
   ]
  },
  {
   "cell_type": "markdown",
   "metadata": {
    "application/vnd.databricks.v1+cell": {
     "cellMetadata": {},
     "inputWidgets": {},
     "nuid": "920f6da2-2e3d-461a-8c0f-e07deafdec40",
     "showTitle": false,
     "title": ""
    }
   },
   "source": [
    "## Fabric items\n",
    "**Fabric items:** are the building blocks of the Fabric platform. \n",
    "  - They're the objects that you create and manage in Fabric. There are different types of items, such as data warehouses, data pipelines, semantic models, reports, and dashboards."
   ]
  },
  {
   "cell_type": "markdown",
   "metadata": {
    "application/vnd.databricks.v1+cell": {
     "cellMetadata": {},
     "inputWidgets": {},
     "nuid": "33e3cb53-c49d-4c7c-b1e5-52b47bde6c07",
     "showTitle": false,
     "title": ""
    }
   },
   "source": [
    "# Understand the Fabric administrator role"
   ]
  },
  {
   "cell_type": "markdown",
   "metadata": {
    "application/vnd.databricks.v1+cell": {
     "cellMetadata": {},
     "inputWidgets": {},
     "nuid": "0138224a-1b47-416d-a38f-051719f04f70",
     "showTitle": false,
     "title": ""
    }
   },
   "source": [
    "## Describe admin tasks\n",
    "- **Security and access control:** to ensure that only authorized users can access sensitive data.\n",
    "  - Use **role-based access control (RBAC)** to define who can view and edit content, set up data gateways to securely connect to on-premises data sources, and \n",
    "  - Use **Microsoft Entra ID** to manage user access.\n",
    "- **Data governance:** requires a solid understanding of data governance principles.\n",
    "  - Know how to secure inbound and outbound connectivity in your tenant and how to monitor usage and performance metrics. \n",
    "  - Know how to apply data governance policies to ensure data within your tenant is only accessible to authorized users.\n",
    "- **Customization and configuration:** could include: \n",
    "  - Configuring private links to secure your tenant\n",
    "  - Defining data classification policies\n",
    "  - Adjusting the look and feel of reports and dashboards\n",
    "- **Monitoring and optimization:** could include:\n",
    "  - Configuring monitoring and alerting settings\n",
    "  - Optimizing query performance\n",
    "  - Managing capacity and scaling\n",
    "  - Troubleshooting data refresh and connectivity issues"
   ]
  },
  {
   "cell_type": "markdown",
   "metadata": {
    "application/vnd.databricks.v1+cell": {
     "cellMetadata": {},
     "inputWidgets": {},
     "nuid": "c093d582-548b-401d-8f78-008b74cad390",
     "showTitle": false,
     "title": ""
    }
   },
   "source": [
    "## Describe admin tools"
   ]
  },
  {
   "cell_type": "markdown",
   "metadata": {
    "application/vnd.databricks.v1+cell": {
     "cellMetadata": {},
     "inputWidgets": {},
     "nuid": "4ae2e5e1-c92b-49ae-b05c-0c5f8c293bd0",
     "showTitle": false,
     "title": ""
    }
   },
   "source": [
    "### Fabric admin portal\n",
    "In Fabric's admin portal you can:\n",
    "- Centrally manage, review, and apply settings for the entire tenant or by capacity.\n",
    "- Manage users, admins and groups, access audit logs, and monitor usage and performance.\n",
    "\n",
    "The Fabric on/off switch, located in tenant settings let's organizations that use Power BI opt into Fabric. Here, you can enable Fabric for your tenant or allow capacity admins to enable Fabric.\n",
    "\n",
    "![Fabric admin portal](./images/02/admin-delegation.png)"
   ]
  },
  {
   "cell_type": "markdown",
   "metadata": {
    "application/vnd.databricks.v1+cell": {
     "cellMetadata": {},
     "inputWidgets": {},
     "nuid": "a40203aa-0573-414f-9138-fb8703b1fc69",
     "showTitle": false,
     "title": ""
    }
   },
   "source": [
    "### PowerShell cmdlets\n",
    "Fabric provides a set of [PowerShell cmdlets](https://learn.microsoft.com/en-us/powershell/scripting/powershell-commands?view=powershell-7.4) that you can use to automate common administrative tasks. A PowerShell cmdlet is a simple command that can be executed in PowerShell."
   ]
  },
  {
   "cell_type": "markdown",
   "metadata": {
    "application/vnd.databricks.v1+cell": {
     "cellMetadata": {},
     "inputWidgets": {},
     "nuid": "05ac9025-a756-489f-8f7a-80f0efe88b4b",
     "showTitle": false,
     "title": ""
    }
   },
   "source": [
    "### Admin APIs and SDKs\n",
    "An admin API and SDK are tools that allow developers to **interact with a software system** programmatically.\n",
    "- **An API (Application Programming Interface):** is a set of protocols and tools that **enable communication** between different software applications.\n",
    "- **An SDK (Software Development Kit):** is a set of tools and libraries that helps developers **create software applications** that can interact with a specific system or platform."
   ]
  },
  {
   "cell_type": "markdown",
   "metadata": {
    "application/vnd.databricks.v1+cell": {
     "cellMetadata": {},
     "inputWidgets": {},
     "nuid": "2e54a0b3-ad2e-4e93-b63a-b142099b03eb",
     "showTitle": false,
     "title": ""
    }
   },
   "source": [
    "### Admin monitoring workspace\n",
    "- Fabric tenant admins will have access to the new admin monitoring workspace.\n",
    "  - You can choose to share access to the workspace or specific items within it with other users in your organization. \n",
    "- The admin monitoring workspace includes the Feature Usage and Adoption semantic model and report, which together provide insights on the usage and performance of your Fabric environment. \n",
    "  - You can use this information to identify trends and patterns, and troubleshoot issues.\n",
    "\n",
    "![Admin monitoring workspace](./images/02/admin-monitoring-report.png)"
   ]
  },
  {
   "cell_type": "markdown",
   "metadata": {
    "application/vnd.databricks.v1+cell": {
     "cellMetadata": {},
     "inputWidgets": {},
     "nuid": "76412faa-4208-4fcf-94ea-ad3f684ea185",
     "showTitle": false,
     "title": ""
    }
   },
   "source": [
    "# Manage Fabric security"
   ]
  },
  {
   "cell_type": "markdown",
   "metadata": {
    "application/vnd.databricks.v1+cell": {
     "cellMetadata": {},
     "inputWidgets": {},
     "nuid": "7cd2bfb6-1801-4ccf-8372-08b14771e9e1",
     "showTitle": false,
     "title": ""
    }
   },
   "source": [
    "## Manage users: assign and manage licenses\n",
    "**Licenses:** control the level of **access** and **functionality** that users have within the Fabric environment. \n",
    "- Administrators can ensure that licensed users have the **necessary access** to data and analytics to perform their roles effectively, while also **limiting access** to sensitive data and ensuring compliance with data protection laws and regulations.\n",
    "- Managing licenses allows administrators to **monitor and control costs** by ensuring that licenses are allocated efficiently and only to users who need them.\n",
    "- Having the appropriate procedures in place to assign and manage licenses helps to control access to data and analytics, ensure compliance with regulations, and optimize costs.\n",
    "\n",
    "License management for Fabric is handled in the Microsoft 365 admin center. For more information about managing licenses, see [Assign licenses to users](https://learn.microsoft.com/en-us/microsoft-365/admin/manage/assign-licenses-to-users?view=o365-worldwide)."
   ]
  },
  {
   "cell_type": "markdown",
   "metadata": {
    "application/vnd.databricks.v1+cell": {
     "cellMetadata": {},
     "inputWidgets": {},
     "nuid": "39533145-c2eb-473a-8ebc-228bfbccfd29",
     "showTitle": false,
     "title": ""
    }
   },
   "source": [
    "## Manage items and sharing\n",
    "As an admin, you can manage how users interact with Fabric in terms of **sharing and distribution** of content.\n",
    "- This includes managing how users share content with others, and how they distribute content to others. \n",
    "- You can also manage how users interact with items, such as data warehouses, data pipelines, semantic models, reports, and dashboards.\n",
    "\n",
    "Items in workspaces are best distributed through a **workspace app** or the **workspace** directly. \n",
    "- Granting the least permissive rights is the first step is securing the data. \n",
    "  - Share the read only app for access to the reports or grant access to the workspaces for collaboration and development."
   ]
  },
  {
   "cell_type": "markdown",
   "metadata": {
    "application/vnd.databricks.v1+cell": {
     "cellMetadata": {},
     "inputWidgets": {},
     "nuid": "68a61258-9621-4047-9659-fc3cfd076a86",
     "showTitle": false,
     "title": ""
    }
   },
   "source": [
    "# Govern data in Fabric"
   ]
  },
  {
   "cell_type": "markdown",
   "metadata": {
    "application/vnd.databricks.v1+cell": {
     "cellMetadata": {},
     "inputWidgets": {},
     "nuid": "2eb2b679-fc0d-4504-a57f-078517cbbdd0",
     "showTitle": false,
     "title": ""
    }
   },
   "source": [
    "## Endorse Fabric content\n",
    "**Content endorsement:** helps to **establish trust** in your **data assets** by **`promoting`** and **`certifying`** specific Fabric items as trusted and approved for use across the organization. \n",
    "- All Fabric items can be endorsed **except dashboards**.\n",
    "- Endorsed assets are identified with a **badge** that indicates they have been reviewed and approved.\n",
    "\n",
    "Promoted Fabric content appears with a **`Promoted badge`** in the Fabric portal. \n",
    "- Workspace members with the **contributor** or **admin role** can promote content within a workspace.\n",
    "- The Fabric admin can promote content across the organization.\n",
    "\n",
    "![Endorse Fabric content](./images/02/content-endorsement.png)\n",
    "\n",
    "**Content certification:** is a more formal process that involves a review of the content by a designated reviewer. \n",
    "- Certified Fabric content appears with a **`Certified badge`** in the Fabric portal. \n",
    "- The certification process is managed by you, the admin, and can be customized to meet the needs of your organization.\n",
    "\n",
    "If you aren't an admin, you need to request item certification from an admin. You can do request certification by selecting the item in the Fabric portal, and then selecting **Request certification** from the **More** menu."
   ]
  },
  {
   "cell_type": "markdown",
   "metadata": {
    "application/vnd.databricks.v1+cell": {
     "cellMetadata": {},
     "inputWidgets": {},
     "nuid": "6ef3d38e-c7a4-4310-9b90-a529170914de",
     "showTitle": false,
     "title": ""
    }
   },
   "source": [
    "## Scan for sensitive data\n",
    "**Metadata scanning:** facilitates governance of data by enabling cataloging and reporting on all the metadata of your organization's Fabric items. \n",
    "- The scanner API is a set of Admin REST APIs that allows you to scan Fabric items for **sensitive data**.\n",
    "  - It is used to scan data warehouses, data pipelines, semantic models, reports, and dashboards for sensitive data. \n",
    "  - It is used to scan both structured and unstructured data.\n",
    "\n",
    "<img src=\"https://files.training.databricks.com/images/icon_note_32.png\" alt=\"Note\"> Before metadata scanning can be run, it needs to be set up in your organization by an Admin. For more information, see the [Metadata scanning overview](https://learn.microsoft.com/en-us/fabric/governance/metadata-scanning-overview)."
   ]
  },
  {
   "cell_type": "markdown",
   "metadata": {
    "application/vnd.databricks.v1+cell": {
     "cellMetadata": {},
     "inputWidgets": {},
     "nuid": "a01990c2-9c75-4fa7-bc0a-6d9c9f5c0d38",
     "showTitle": false,
     "title": ""
    }
   },
   "source": [
    "# Track data lineage\n",
    "**Data lineage:** is the ability to track the flow of data through Fabric. \n",
    "- Data lineage allows you to see where data comes from, how it's transformed, and where it goes."
   ]
  }
 ],
 "metadata": {
  "application/vnd.databricks.v1+notebook": {
   "dashboards": [],
   "environmentMetadata": null,
   "language": "python",
   "notebookMetadata": {
    "pythonIndentUnit": 4
   },
   "notebookName": "02_Administer Microsoft Fabric",
   "widgets": {}
  }
 },
 "nbformat": 4,
 "nbformat_minor": 0
}

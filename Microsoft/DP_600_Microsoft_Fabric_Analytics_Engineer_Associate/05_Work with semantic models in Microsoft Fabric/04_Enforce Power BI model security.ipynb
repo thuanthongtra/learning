{
 "cells": [
  {
   "cell_type": "markdown",
   "metadata": {
    "application/vnd.databricks.v1+cell": {
     "cellMetadata": {},
     "inputWidgets": {},
     "nuid": "f0b39fa2-cf21-4add-9aea-c389fa295f4e",
     "showTitle": false,
     "title": ""
    }
   },
   "source": [
    "# Restrict access to Power BI model data\n",
    "As a data modeler, you set up RLS by creating one or more roles. A role has a unique name in the model, and it usually includes one or more rules. Rules enforce filters on model tables by using Data Analysis Expressions (DAX) filter expressions.\n",
    "\n",
    "<img src=\"https://files.training.databricks.com/images/icon_note_32.png\" alt=\"Note\"> By default, a data model has no roles. A data model without roles means that users (who have permission to query the data model) have access to all model data.\n",
    "\n",
    "<img src=\"https://files.training.databricks.com/images/icon_note_32.png\" alt=\"Note\"> It's possible to define a role that includes no rules. In this case, the role provides access to all rows of all model tables. This role set up would be suitable for an admin user who is allowed to view all data.\n",
    "\n",
    "You can create, validate, and manage roles in Power BI Desktop. For Azure Analysis Services or SQL Server Analysis Services models, you can create, validate, and manage roles by using SQL Server Data Tools (SSDT).\n",
    "\n",
    "You can also create and manage roles by using SQL Server Management Studio (SSMS), or by using a third-party tool, like [Tabular Editor](https://tabulareditor.com/).\n",
    "\n",
    "To gain a better understanding of how RLS restricts access to data, watch the following animated image.\n",
    "\n",
    "<img src=\"../images/05_Work with semantic models in Microsoft Fabric/04/introduce-row-level-security.gif\" alt=\"Animated diagram demonstrates how row-level security works for two users who each have access to specific country data.\" style=\"border: 2px solid black; border-radius: 10px;\">"
   ]
  },
  {
   "cell_type": "markdown",
   "metadata": {
    "application/vnd.databricks.v1+cell": {
     "cellMetadata": {},
     "inputWidgets": {},
     "nuid": "7ecd9abf-7fa4-4c78-ad97-a7959ee9893a",
     "showTitle": false,
     "title": ""
    }
   },
   "source": [
    "## Apply star schema design principles\n",
    "We recommend you apply [star schema](https://learn.microsoft.com/en-us/power-bi/guidance/star-schema) design principles to produce a model comprising dimension and fact tables. It’s common to set up Power BI to enforce rules that filter dimension tables, allowing [model relationships](https://learn.microsoft.com/en-us/power-bi/transform-model/desktop-relationships-understand) to efficiently propagate those filters to fact tables.\n",
    "\n",
    "The following image is the model diagram of the Adventure Works sales analysis data model. It shows a star schema design comprising a single fact table named **Sales**. The other tables are dimension tables that support the analysis of sales measures by date, sales territory, customer, reseller, order, product, and salesperson. Notice the model relationships connecting all tables. These relationships propagate filters (directly or indirectly) to the **Sales** table.\n",
    "\n",
    "<img src=\"../images/05_Work with semantic models in Microsoft Fabric/04/model-diagram-star-schema.png\" alt=\"Screenshot shows a Power BI Desktop model diagram comprising the tables and relationships as described in the previous paragraph.\" style=\"border: 2px solid black; border-radius: 10px;\">\n",
    "\n",
    "This model design supports examples presented in this unit."
   ]
  },
  {
   "cell_type": "markdown",
   "metadata": {
    "application/vnd.databricks.v1+cell": {
     "cellMetadata": {},
     "inputWidgets": {},
     "nuid": "c809881f-e282-4074-8539-50d22a992b47",
     "showTitle": false,
     "title": ""
    }
   },
   "source": [
    "## Define rules\n",
    "Rule expressions are evaluated within row context. Row context means the expression is evaluated for each row using the column values of that row. When the expression returns TRUE, the user can “see” the row.\n",
    "\n",
    "<img src=\"https://files.training.databricks.com/images/icon_note_32.png\" alt=\"Note\"> To learn more about row context, work through the [Add calculated tables and columns to Power BI Desktop models module](https://learn.microsoft.com/en-us/training/modules/dax-power-bi-add-calculated-tables/). While this module describes adding model calculations, it includes a unit that introduces and describes row context.\n",
    "\n",
    "You can define rules that are either static or dynamic."
   ]
  },
  {
   "cell_type": "markdown",
   "metadata": {
    "application/vnd.databricks.v1+cell": {
     "cellMetadata": {},
     "inputWidgets": {},
     "nuid": "17d7b80f-c60c-41e4-b239-0f9e8e8ee629",
     "showTitle": false,
     "title": ""
    }
   },
   "source": [
    "### Static rules\n",
    "Static rules use DAX expressions that refer to constants.\n",
    "\n",
    "Consider the following rule applied to the Region table that restricts data access to Midwest sales."
   ]
  },
  {
   "cell_type": "code",
   "execution_count": 0,
   "metadata": {
    "application/vnd.databricks.v1+cell": {
     "cellMetadata": {},
     "inputWidgets": {},
     "nuid": "92c9233d-609a-4e0c-9902-c4c4dea68b9c",
     "showTitle": false,
     "title": ""
    }
   },
   "outputs": [],
   "source": [
    "#DAX\n",
    "'Region'[Region] = \"Midwest\""
   ]
  },
  {
   "cell_type": "markdown",
   "metadata": {
    "application/vnd.databricks.v1+cell": {
     "cellMetadata": {},
     "inputWidgets": {},
     "nuid": "96a76ba8-1c9a-4cbe-b1a5-109d58f49c8e",
     "showTitle": false,
     "title": ""
    }
   },
   "source": [
    "The following steps explain how Power BI enforces the rule. It:\n",
    "1. Filters the **Region** table, resulting in one visible row (for Midwest).\n",
    "2. Uses the model relationship to propagate the **Region** table filter to the **State** table, resulting in 14 visible rows (the Midwest region comprise 14 states).\n",
    "3. Uses the model relationship to propagate the **State** table filter to the Sales table, resulting in thousands of visible rows (the sales facts for the states that belong to the Midwest region).\n",
    "\n",
    "The simplest static rule that you can create restricts access to all table rows. Consider the following rule applied to the **Sales Details** table (not depicted in the model diagram)."
   ]
  },
  {
   "cell_type": "code",
   "execution_count": 0,
   "metadata": {
    "application/vnd.databricks.v1+cell": {
     "cellMetadata": {},
     "inputWidgets": {},
     "nuid": "4e3fe155-cc68-4050-bd2b-645dde454dd6",
     "showTitle": false,
     "title": ""
    }
   },
   "outputs": [],
   "source": [
    "#DAX\n",
    "FALSE()"
   ]
  },
  {
   "cell_type": "markdown",
   "metadata": {
    "application/vnd.databricks.v1+cell": {
     "cellMetadata": {},
     "inputWidgets": {},
     "nuid": "2f98dd4b-321c-436a-a08d-a26b6e96624f",
     "showTitle": false,
     "title": ""
    }
   },
   "source": [
    "This rule ensures users can't access any table data. It could be useful when salespeople are allowed to see aggregated sales results (from the **Sales** table) but not order-level details.\n",
    "\n",
    "Defining static rules is simple and effective. Consider using them when you need to create only a few of them, as might be the case at Adventure Works where there are only six US regions. However, be aware of disadvantages: setting up static rules can involve significant effort to create and set up. It would also require you to update and republish the dataset when new regions are onboarded.\n",
    "\n",
    "If there are many rules to set up and you anticipate adding new rules in the future, consider creating dynamic rules instead."
   ]
  },
  {
   "cell_type": "markdown",
   "metadata": {
    "application/vnd.databricks.v1+cell": {
     "cellMetadata": {},
     "inputWidgets": {},
     "nuid": "4a72fcaa-3ac6-4af1-b9a6-7d6748e57bc0",
     "showTitle": false,
     "title": ""
    }
   },
   "source": [
    "### Dynamic rules\n",
    "Dynamic rules use specific DAX functions that return environmental values (as opposed to constants). Environmental values are returned from three specific DAX functions:\n",
    "- [USERNAME](https://learn.microsoft.com/en-us/dax/username-function-dax) or [USERPRINCIPALNAME](https://learn.microsoft.com/en-us/dax/userprincipalname-function-dax) – Returns the Power BI authenticated user as a text value.\n",
    "- [CUSTOMDATA](https://learn.microsoft.com/en-us/dax/customdata-function-dax) - Returns the **CustomData** property passed in the connection string. Non-Power BI reporting tools that connect to the dataset by using a connection string can set this property, like Microsoft Excel.\n",
    "\n",
    "<img src=\"https://files.training.databricks.com/images/icon_note_32.png\" alt=\"Note\"> Be aware that the USERNAME function returns the user in the format of DOMAIN\\username when used in Power BI Desktop. However, when used in the Power BI service, it returns the format of the user's User Principal Name (UPN), like username@adventureworks.com. Alternatively, you can use the USERPRINCIPALNAME function, which always returns the user in the user principal name format.\n",
    "\n",
    "Consider a revised model design that now includes the (hidden) **AppUser** table. Each row of the **AppUser** table describes a username and region. A model relationship to the **Region** table propagates filters from the **AppUser** table.\n",
    "\n",
    "<img src=\"../images/05_Work with semantic models in Microsoft Fabric/04/model-diagram-appuser-table.png\" alt=\"Image shows a revised model diagram that now includes the AppUser table. This table has two columns: Region and User Name.\" style=\"border: 2px solid black; border-radius: 10px;\">\n",
    "\n",
    "The following rule applied to the AppUser table restricts data access to the region(s) of the authenticated user."
   ]
  },
  {
   "cell_type": "code",
   "execution_count": 0,
   "metadata": {
    "application/vnd.databricks.v1+cell": {
     "cellMetadata": {},
     "inputWidgets": {},
     "nuid": "b6cbef55-9ee1-4c1b-938b-7cfeae96786f",
     "showTitle": false,
     "title": ""
    }
   },
   "outputs": [],
   "source": [
    "#DAX\n",
    "'AppUser'[UserName] = USERPRINCIPALNAME()"
   ]
  },
  {
   "cell_type": "markdown",
   "metadata": {
    "application/vnd.databricks.v1+cell": {
     "cellMetadata": {},
     "inputWidgets": {},
     "nuid": "b153372a-947d-4e17-b6b5-88c50980c8b6",
     "showTitle": false,
     "title": ""
    }
   },
   "source": [
    "Defining dynamic rules is simple and effective when a model table stores username values. They allow you to enforce a data-driven RLS design. For example, when salespeople are added to, or removed from, the AppUser table (or are assigned to different regions), this design approach just works."
   ]
  },
  {
   "cell_type": "markdown",
   "metadata": {
    "application/vnd.databricks.v1+cell": {
     "cellMetadata": {},
     "inputWidgets": {},
     "nuid": "62b97612-a44d-4c86-acd8-bc3aedc24b16",
     "showTitle": false,
     "title": ""
    }
   },
   "source": [
    "## Validate roles\n",
    "When you create roles, it’s important to test them to ensure they apply the correct filters. For data models created in Power BI Desktop, there’s the **View as** function that allows you to see the report when different roles are enforced, and different username values are passed.\n",
    "\n",
    "<img src=\"../images/05_Work with semantic models in Microsoft Fabric/04/power-bi-desktop-security-view.png\" alt=\"Screenshot shows the Power B I Desktop Modeling ribbon. The “View as” command is highlighted.\" style=\"border: 2px solid black; border-radius: 10px;\">"
   ]
  },
  {
   "cell_type": "markdown",
   "metadata": {
    "application/vnd.databricks.v1+cell": {
     "cellMetadata": {},
     "inputWidgets": {},
     "nuid": "0d50fcc3-e5ea-457f-b22f-453768b3275c",
     "showTitle": false,
     "title": ""
    }
   },
   "source": [
    "## Set up role mappings\n",
    "Role mappings must be set up in advance of users accessing Power BI content. Role mapping involves assigning Microsoft Entra security objects to roles. Security objects can be user accounts or security groups.\n",
    "\n",
    "<img src=\"https://files.training.databricks.com/images/icon_note_32.png\" alt=\"Note\"> When possible, it’s a good practice to map roles to security groups. That way, there will be fewer mappings, and you can delegate the group membership management to the network administrators.\n",
    "\n",
    "For Power BI Desktop developed models, role mapping is typically done in the Power BI service. For Azure Analysis Services or SQL Server Analysis Services models, role mapping is typically done in SSMS.\n",
    "\n",
    "For more information about setting up RLS, see:\n",
    "- [Row-level security (RLS) with Power BI](https://learn.microsoft.com/en-us/power-bi/enterprise/service-admin-rls)\n",
    "- [Row-level security (RLS) guidance in Power BI Desktop](https://learn.microsoft.com/en-us/power-bi/guidance/rls-guidance)"
   ]
  },
  {
   "cell_type": "markdown",
   "metadata": {
    "application/vnd.databricks.v1+cell": {
     "cellMetadata": {},
     "inputWidgets": {},
     "nuid": "8a93828c-0b31-4d2f-b654-67648dc5ba0b",
     "showTitle": false,
     "title": ""
    }
   },
   "source": [
    "## Use single sign-on (SSO) for DirectQuery sources\n",
    "When your data model has DirectQuery tables and their data source supports SSO, the data source can enforce data permissions. This way, the database enforces RLS, and Power BI datasets and reports honor the data source security.\n",
    "\n",
    "Consider that Adventure Works has an Azure SQL Database for their sales operations that resides in the same tenant as Power BI. The database enforces RLS to control access to rows in various database tables. You can create a DirectQuery model that connects to this database without roles and publish it to the Power BI service. When you set the data source credentials in the Power BI service, you [enable SSO](https://learn.microsoft.com/en-us/power-bi/connect-data/service-azure-sql-database-with-direct-connect). When report consumers open Power BI reports, Power BI passes their identity to the data source. The data source then enforces RLS based on the identity of the report consumer.\n",
    "\n",
    "<img src=\"../images/05_Work with semantic models in Microsoft Fabric/04/set-data-source-credentials-single-sign-on.png\" alt=\"Screenshot shows the data source credentials window with the S O option enabled.\" style=\"border: 2px solid black; border-radius: 10px;\">\n",
    "\n",
    "<img src=\"https://files.training.databricks.com/images/icon_note_32.png\" alt=\"Note\"> For information about Azure SQL Database RLS, see [Row-level security](https://learn.microsoft.com/en-us/sql/relational-databases/security/row-level-security).\n",
    "\n",
    "<img src=\"https://files.training.databricks.com/images/icon_note_32.png\" alt=\"Note\"> Calculated tables and calculated columns that reference a DirectQuery table from a data source with SSO authentication aren’t supported in the Power BI service.\n",
    "\n",
    "<img src=\"https://files.training.databricks.com/images/icon_note_32.png\" alt=\"Note\"> For more information about data sources that support SSO, see [Single sign-on (SSO) for DirectQuery sources](https://learn.microsoft.com/en-us/power-bi/connect-data/power-bi-data-sources)."
   ]
  },
  {
   "cell_type": "markdown",
   "metadata": {
    "application/vnd.databricks.v1+cell": {
     "cellMetadata": {},
     "inputWidgets": {},
     "nuid": "c5d1f495-9498-4964-ba78-b98b0d7e022d",
     "showTitle": false,
     "title": ""
    }
   },
   "source": [
    "# Restrict access to Power BI model objects\n",
    "As a data modeler, you can consider restricting user access to Power BI model objects. Object-level security (OLS) can restrict access to specific tables and columns, and their metadata. Typically, you apply OLS to secure objects that store sensitive data, like employee personal data.\n",
    "\n",
    "When Power BI enforces OLS, not only does it restrict access to tables and columns, but it can also secure metadata. When you secure metadata, it’s not possible to retrieve information about secured tables and columns by using [Dynamic Management Views (DMVs)](https://learn.microsoft.com/en-us/analysis-services/instances/use-dynamic-management-views-dmvs-to-monitor-analysis-services).\n",
    "\n",
    "<img src=\"https://files.training.databricks.com/images/icon_note_32.png\" alt=\"Note\"> Tabular models can hide tables and columns (and other objects) by using a [perspective](https://learn.microsoft.com/en-us/analysis-services/tabular-models/perspectives-ssas-tabular). A perspective defines viewable subsets of model objects to help provide a specific focus for report authors. Perspectives are intended to reduce the complexity of a model, helping report authors find resources of interest. However, perspectives aren’t a security feature because they don’t secure objects. A user can still query a table or column even when it’s not visible to them.\n",
    "\n",
    "Consider an example at Adventure Works. This organization has a data warehouse dimension table named **DimEmployee**. The table includes columns that store employee name, phone, email address, and salary. While general report consumers can see employee name and contact details, they must not be able to see salary values. Only senior Human Resources staff are permitted to see salary values. So, the data modeler used OLS to grant access to the salary column only to specific Human Resources staff.\n",
    "\n",
    "<img src=\"../images/05_Work with semantic models in Microsoft Fabric/04/employee-table-restrict-salary-column-object-level-security.png\" alt=\"Screenshot shows a model diagram view of the Employee table, which includes the restricted Salary column.\" style=\"border: 2px solid black; border-radius: 10px;\">\n",
    "\n",
    "OLS is a feature inherited from Azure Analysis Services (AAS) and SQL Server Analysis Services (SSAS). The feature is available in Power BI Premium to provide backward compatibility for models migrated to Power BI. For this reason, it’s not possible to completely set up OLS in Power BI Desktop."
   ]
  },
  {
   "cell_type": "markdown",
   "metadata": {
    "application/vnd.databricks.v1+cell": {
     "cellMetadata": {},
     "inputWidgets": {},
     "nuid": "3a35e7bd-09ae-421b-9b2d-e1fc15140e37",
     "showTitle": false,
     "title": ""
    }
   },
   "source": [
    "## Set up OLS\n",
    "To set up OLS, you start by creating roles. You can create roles in Power BI Desktop in the same way you do when setting up RLS. Next, you need to add OLS rules to the roles. This capability isn’t supported by Power BI Desktop, so you’ll need to take a different approach.\n",
    "\n",
    "You add OLS rules to a Power BI Desktop model by using an [XML for Analysis (XMLA) endpoint](https://learn.microsoft.com/en-us/power-bi/enterprise/service-premium-connect-tools). XMLA endpoints are available with Power BI Premium, and they provide access to the Analysis Services engine in the Power BI service. The read/write endpoint supports dataset management, application lifecycle management, advanced data modeling, and more. You can use XMLA endpoint-enabled APIs for scripting, such as [Tabular Model Scripting Language (TMSL)](https://learn.microsoft.com/en-us/analysis-services/tmsl/tabular-model-scripting-language-tmsl-reference) or the [PowerShell SqlServer module](https://www.powershellgallery.com/packages/SqlServer/). Or you can use a client tool, like SSMS. There are third-party tool options too, like [Tabular Editor](https://tabulareditor.github.io/TabularEditor/), which is an open-source tool for creating, maintaining, and managing models.\n",
    "\n",
    "By default, all model tables and columns aren’t restricted. You can set them to **None** or **Read**. When set to **None**, users associated with the role can’t access the object. When set to **Read**, users associated with the role can access the object. When you’re restricting specific columns, ensure the table isn’t set to **None**.\n",
    "\n",
    "Once you’ve added the OLS rules, you can publish the model to the Power BI service. Use the same process for RLS to map accounts and security groups to the roles."
   ]
  },
  {
   "cell_type": "markdown",
   "metadata": {
    "application/vnd.databricks.v1+cell": {
     "cellMetadata": {},
     "inputWidgets": {},
     "nuid": "1bbda526-41e3-4122-a382-fa2f7573dfa7",
     "showTitle": false,
     "title": ""
    }
   },
   "source": [
    "## Considerations\n",
    "In a Power BI report, when a user doesn’t have permission to access a table or column, they'll receive an error message. The message will inform them that the object doesn’t exist.\n",
    "\n",
    "<img src=\"../images/05_Work with semantic models in Microsoft Fabric/04/fields-need-to-fixed-object-level-security.png\" alt=\"Screenshot shows a Power B I Desktop error message when a report visual attempts to query a restricted column.\" style=\"border: 2px solid black; border-radius: 10px;\">\n",
    "\n",
    "Consider carefully whether OLS is the right solution for your project. When a user opens a Power BI report that queries a restricted object (for them), the error message could be confusing and will result in a negative experience. To them, it looks like the report is broken. A better approach might be to create a separate set of models or reports for the different report consumer requirements."
   ]
  },
  {
   "cell_type": "markdown",
   "metadata": {
    "application/vnd.databricks.v1+cell": {
     "cellMetadata": {},
     "inputWidgets": {},
     "nuid": "08b44be8-1fcd-4b46-b13b-b6990095eeee",
     "showTitle": false,
     "title": ""
    }
   },
   "source": [
    "## Restrictions\n",
    "There are restrictions to be aware of when implementing OLS.\n",
    "\n",
    "You can’t mix RLS and OLS in the same role. If you need to apply RLS and OLS in the same model, create separate roles dedicated to each type. Also, you can’t set table-level security if it breaks a relationship chain. For example, if there are relationships between tables A and B, and B and C, you can't secure table B. If table B is secured, a query on table A can't transit the relationships between table A and B, and B and C. In this case, you could set up a separate relationship between tables A and C.\n",
    "\n",
    "<img src=\"../images/05_Work with semantic models in Microsoft Fabric/04/model-relationships-object-level-security.png\" alt=\"Diagram shows the relationship example described in the previous paragraph.\" style=\"border: 2px solid black; border-radius: 10px;\">\n",
    "\n",
    "However, model relationships that reference a secured column will work, providing that the column’s table isn’t secured.\n",
    "\n",
    "Lastly, while it isn’t possible to secure measures, a measure that references secured objects is automatically restricted.\n",
    "\n",
    "<img src=\"https://files.training.databricks.com/images/icon_note_32.png\" alt=\"Note\"> For more information, see [Object-level security](https://learn.microsoft.com/en-us/analysis-services/tabular-models/object-level-security)."
   ]
  },
  {
   "cell_type": "markdown",
   "metadata": {
    "application/vnd.databricks.v1+cell": {
     "cellMetadata": {},
     "inputWidgets": {},
     "nuid": "43dae463-41b0-41f6-9424-5272465bd312",
     "showTitle": false,
     "title": ""
    }
   },
   "source": [
    "# Apply good modeling practices\n",
    "It’s critical that your model enforces data permissions correctly and efficiently. The following list provides you with good development practices to apply.\n",
    "- Strive to define fewer datasets (data models) with well-designed roles.\n",
    "- Strive to create fewer roles by using dynamic rules. A data-driven solution is easier to maintain because you don’t need to add new roles.\n",
    "- When possible, create rules that filter dimension tables instead of fact tables. It will help to deliver faster query performance.\n",
    "- Validate that the model design, including its relationships and relationship properties, are correctly set up.\n",
    "- Use the `USERPRINCIPALNAME` function instead of `USERNAME` function. It provides consistency when validating the roles in Power BI Desktop and the Power BI service.\n",
    "- Rigorously validate RLS and OLS by testing all roles.\n",
    "- Ensure that the Power BI Desktop data source connection uses the same credentials that will be applied when set up in the Power BI service."
   ]
  }
 ],
 "metadata": {
  "application/vnd.databricks.v1+notebook": {
   "dashboards": [],
   "environmentMetadata": null,
   "language": "python",
   "notebookMetadata": {
    "pythonIndentUnit": 4
   },
   "notebookName": "04_Enforce Power BI model security",
   "widgets": {}
  },
  "language_info": {
   "name": "python"
  }
 },
 "nbformat": 4,
 "nbformat_minor": 0
}

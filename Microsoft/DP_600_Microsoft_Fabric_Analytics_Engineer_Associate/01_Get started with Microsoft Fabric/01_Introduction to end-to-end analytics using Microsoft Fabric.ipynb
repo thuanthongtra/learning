{
 "cells": [
  {
   "cell_type": "markdown",
   "metadata": {
    "application/vnd.databricks.v1+cell": {
     "cellMetadata": {},
     "inputWidgets": {},
     "nuid": "05978be5-a1d2-4f88-8f07-9d4fed7bb564",
     "showTitle": false,
     "title": ""
    }
   },
   "source": [
    "# Introduction\n",
    "**Microsoft Fabric** is an end-to-end analytics platform that provides a **single**, **integrated environment** for data professionals and the business to collaborate (ingest, store, process, and analyze) on data projects\n",
    "\n",
    "Fabric is built on **Power BI** and **Azure Data Lake Storage**, and includes capabilities from **Azure Synapse Analytics**, **Azure Data Factory**, **Azure Databricks**, and **Azure Machine Learning**."
   ]
  },
  {
   "cell_type": "markdown",
   "metadata": {
    "application/vnd.databricks.v1+cell": {
     "cellMetadata": {},
     "inputWidgets": {},
     "nuid": "2048a17f-bc66-48f4-9780-09343a77e97f",
     "showTitle": false,
     "title": ""
    }
   },
   "source": [
    "# OneLake\n",
    "**OneLake** is Fabric's lake-centric architecture that provides a single, integrated environment\n",
    "- It eliminaties the need to move and copy data between different systems and teams\n",
    "  - **`OneCopy`** is a key component of OneLake that allows you to read data from a **single copy**, without moving or duplicating data\n",
    "- All the compute workloads in Fabric are **preconfigured** to work with OneLake. \n",
    "  - Fabric's data warehousing, data engineering (Lakehouses and Notebooks), data integration (pipelines and dataflows), real-time intelligence, and Power BI all use OneLake as their native store without needing any extra configuration.\n",
    "\n",
    "<img src=\"../images/01_Get started with Microsoft Fabric/01/fabric-introduction.png\" alt=\"One Lake\" style=\"border: 2px solid black; border-radius: 10px;\">"
   ]
  },
  {
   "cell_type": "markdown",
   "metadata": {
    "application/vnd.databricks.v1+cell": {
     "cellMetadata": {},
     "inputWidgets": {},
     "nuid": "de69d45e-0fff-4798-b144-1a7cb1bcc7a4",
     "showTitle": false,
     "title": ""
    }
   },
   "source": [
    "## OneLake Storage\n",
    "\n",
    "<img src=\"../images/01_Get started with Microsoft Fabric/01/onelake-storage.png\" alt=\"One Lake Storage\" style=\"border: 2px solid black; border-radius: 10px;\">\n",
    "\n",
    "- OneLake is built on top of **Azure Data Lake Storage (ADLS)** and data can be stored in any format, including Delta, Parquet, CSV, JSON, and more.\n",
    "  - All of the compute engines in Fabric automatically **store their data in OneLake**. \n",
    "  - Data that is stored in OneLake is then **directly accessible** by all of the compute engines without needing to be moved or copied. \n",
    "  - For tabular data, the analytical engines in Fabric will write data in **delta-parquet format** and all engines interact with the format seamlessly.\n",
    "\n",
    "- One important feature of OneLake is the ability to **create shortcuts**, which are embedded references within OneLake that point to other files or storage locations. \n",
    "  - Shortcuts allow you to quickly source your existing cloud data without having to copy it, and enables Fabric experiences to derive data from the same source to **always be in sync**."
   ]
  },
  {
   "cell_type": "markdown",
   "metadata": {
    "application/vnd.databricks.v1+cell": {
     "cellMetadata": {},
     "inputWidgets": {},
     "nuid": "0d0be132-ec85-49b8-bd5c-2bc8cf8b3b77",
     "showTitle": false,
     "title": ""
    }
   },
   "source": [
    "# Enable and use Microsoft Fabric\n",
    "The permissions required to enable Fabric are either:\n",
    "- Fabric admin\n",
    "- Power Platform admin\n",
    "- Microsoft 365 admin"
   ]
  },
  {
   "cell_type": "markdown",
   "metadata": {
    "application/vnd.databricks.v1+cell": {
     "cellMetadata": {},
     "inputWidgets": {},
     "nuid": "2f037bcf-831a-446b-a5a1-ffbcc6d1d2c7",
     "showTitle": false,
     "title": ""
    }
   },
   "source": [
    "## Enable Microsoft Fabric\n",
    "If you have admin privileges, you can access **Admin center** from **Settings** menu in the upper right corner of Power BI service. From here, you enable Fabric in the **Tenant settings**.\n",
    "  - Admins can make Fabric available to either \n",
    "    - the entire organization or \n",
    "    - specific groups of users, who can be organized based on their Microsoft 365 or Microsoft Entra security groups. \n",
    "  - Admins can also delegate the ability to enable Fabric to other users, at the capacity level.\n",
    "\n",
    "<img src=\"../images/01_Get started with Microsoft Fabric/01/enable-fabric.png\" alt=\"Enable Microsoft Fabric\" style=\"border: 2px solid black; border-radius: 10px;\">\n",
    "\n",
    "<img src=\"https://files.training.databricks.com/images/icon_note_32.png\" alt=\"Note\"> If your organization isn't using Fabric or Power BI today, you can sign up for a [free Fabric trial](https://learn.microsoft.com/en-us/fabric/get-started/fabric-trial) to explore the different workloads."
   ]
  },
  {
   "cell_type": "markdown",
   "metadata": {
    "application/vnd.databricks.v1+cell": {
     "cellMetadata": {},
     "inputWidgets": {},
     "nuid": "ebf76a00-4a8a-4ba7-b10a-267c25888c6f",
     "showTitle": false,
     "title": ""
    }
   },
   "source": [
    "## Create Fabric enabled workspaces\n",
    "All Fabric items (lakehouses, notebooks, pipelines, etc.) are stored in OneLake and accessed via Fabric workspaces. To enable Fabric in a workspace, choose a Trial or Fabric Capacity license mode.\n",
    "\n",
    "<img src=\"../images/01_Get started with Microsoft Fabric/01/workspace-settings-license.png\" alt=\"Create Fabric enabled workspaces\" style=\"border: 2px solid black; border-radius: 10px;\">"
   ]
  },
  {
   "cell_type": "markdown",
   "metadata": {
    "application/vnd.databricks.v1+cell": {
     "cellMetadata": {},
     "inputWidgets": {},
     "nuid": "8dd80d6d-21a1-4131-a9c7-53b86a422c88",
     "showTitle": false,
     "title": ""
    }
   },
   "source": [
    "## Create items in Fabric\n",
    "You can create items in Fabric using the **Create menu** in the upper left corner of the Power BI service.\n",
    "\n",
    "<img src=\"../images/01_Get started with Microsoft Fabric/01/fabric-create.png\" alt=\"Create items in Fabric\" style=\"border: 2px solid black; border-radius: 10px;\">"
   ]
  },
  {
   "cell_type": "markdown",
   "metadata": {
    "application/vnd.databricks.v1+cell": {
     "cellMetadata": {},
     "inputWidgets": {},
     "nuid": "85c4a906-2eb8-4bff-b5ad-6055210cb7e6",
     "showTitle": false,
     "title": ""
    }
   },
   "source": [
    "## Explore Fabric workloads\n",
    "Fabric workloads refer to the different capabilities included in Fabric. You can switch between workloads using the workload switcher in the bottom left corner of the navigation pane.\n",
    "\n",
    "<img src=\"../images/01_Get started with Microsoft Fabric/01/workspace-switcher.png\" alt=\"Explore Fabric workloads\" style=\"border: 2px solid black; border-radius: 10px;\">"
   ]
  }
 ],
 "metadata": {
  "application/vnd.databricks.v1+notebook": {
   "dashboards": [],
   "environmentMetadata": null,
   "language": "python",
   "notebookMetadata": {
    "pythonIndentUnit": 4
   },
   "notebookName": "01_Introduction to end-to-end analytics using Microsoft Fabric",
   "widgets": {}
  }
 },
 "nbformat": 4,
 "nbformat_minor": 0
}

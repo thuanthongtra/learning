{
 "cells": [
  {
   "cell_type": "markdown",
   "metadata": {
    "application/vnd.databricks.v1+cell": {
     "cellMetadata": {},
     "inputWidgets": {},
     "nuid": "1d25dde8-3813-4656-b7bf-74c63b1ebdcc",
     "showTitle": false,
     "title": ""
    }
   },
   "source": [
    "# Understand Data Activator"
   ]
  },
  {
   "cell_type": "markdown",
   "metadata": {
    "application/vnd.databricks.v1+cell": {
     "cellMetadata": {},
     "inputWidgets": {},
     "nuid": "f960a8cc-82f8-470f-a3ae-8830abff33f4",
     "showTitle": false,
     "title": ""
    }
   },
   "source": [
    "## Use Cases for Data Activator\n",
    "Data Activator can help you in various scenarios, such as dynamic inventory management, real-time customer engagement, and effective resource allocation in cloud environments. It's a potent tool for any circumstance that requires real-time data analysis and actions.\n",
    "\n",
    "Use Data Activator to:\n",
    "- Initiate marketing actions when product sales drop.\n",
    "- Send notifications when temperature changes could affect perishable goods.\n",
    "- Flag real-time issues affecting the user experience on apps and websites.\n",
    "- Trigger alerts when a shipment hasn't been updated within an expected time frame.\n",
    "- Send alerts when a customer's account balance crosses a certain threshold.\n",
    "- Respond to anomalies or failures in data processing workflows immediately.\n",
    "- Run ads when same-store sales decline.\n",
    "- Alert store managers to move food from failing grocery store freezers before it spoils."
   ]
  },
  {
   "cell_type": "markdown",
   "metadata": {
    "application/vnd.databricks.v1+cell": {
     "cellMetadata": {},
     "inputWidgets": {},
     "nuid": "d58518d9-a99b-4d1a-9a7a-94200b1c36b3",
     "showTitle": false,
     "title": ""
    }
   },
   "source": [
    "## Understand Data Activator key concepts\n",
    "Data Activator operates based on four core concepts:\n",
    "\n",
    "1. **Events** - Data Activator considers all data sources as a sequence of events, each representing an observation about the status of a particular object. These events can occur frequently, as with IoT sensors, or less frequently, such as when monitoring package scanning in shipping locations.\n",
    "2. **Objects** - Data Activator’s objects can be tangible items like vehicles or packages, or abstract concepts like advertising campaigns or user sessions. When creating a Reflex item, you model the object by connecting one or more event streams. You then select a column for the object ID, and specifying the fields to become properties of the object.\n",
    "3. **Triggers** - Data Activator’s triggers are designed to monitor your events and data, initiating specified actions once certain conditions within these events are fulfilled.\n",
    "4. **Properties** - Data Activator’s properties are beneficial for reusing logic across various triggers. You could, for instance, set up a property on a smart lighting system to track the average brightness levels during the busiest hours of the day. This average could then be used in numerous triggers to correctly tweak the lighting and save energy."
   ]
  },
  {
   "cell_type": "markdown",
   "metadata": {
    "application/vnd.databricks.v1+cell": {
     "cellMetadata": {},
     "inputWidgets": {},
     "nuid": "fc99d7bd-072c-4729-8013-02ec4eb3956b",
     "showTitle": false,
     "title": ""
    }
   },
   "source": [
    "## Interoperability with Other Fabric experiences\n",
    "- Data Activator can be used in multiple ways with **_EventStreams_**.\n",
    "- One of Data Activator's strengths is its integration capabilities with other Fabric experiences.\n",
    "- Data Activator can ingest data from **_EventStreams_**, **_Power BI_** reports, and **_Real-Time Dashboards_**."
   ]
  },
  {
   "cell_type": "markdown",
   "metadata": {
    "application/vnd.databricks.v1+cell": {
     "cellMetadata": {},
     "inputWidgets": {},
     "nuid": "ac6ee79b-5e5b-468e-a1e0-1b40fed35408",
     "showTitle": false,
     "title": ""
    }
   },
   "source": [
    "# Get started with Data Activator\n",
    "<img src=\"https://files.training.databricks.com/images/icon_note_32.png\" alt=\"Note\"> For the public preview, verify that your organization has workspaces with a Fabric capacity and that Data Activator is available in your region, As a preview feature, Data Activator may not be available in all Azure regions."
   ]
  },
  {
   "cell_type": "markdown",
   "metadata": {
    "application/vnd.databricks.v1+cell": {
     "cellMetadata": {},
     "inputWidgets": {},
     "nuid": "002a2cb9-4d74-40d0-9ded-154bf62cec0f",
     "showTitle": false,
     "title": ""
    }
   },
   "source": [
    "## Select the Data Activator experience\n",
    "To begin using Data Activator in Microsoft Fabric, select **_Data Activator_** from the menu. This option customizes your Fabric experience to Data Activator.\n",
    "\n",
    "<img src=\"../images/01_Get started with Microsoft Fabric/10/data-activator-select.png\" alt=\"Screenshot of selecting Data Activator in Fabric.\" style=\"border: 2px solid black; border-radius: 10px;\">"
   ]
  },
  {
   "cell_type": "markdown",
   "metadata": {
    "application/vnd.databricks.v1+cell": {
     "cellMetadata": {},
     "inputWidgets": {},
     "nuid": "78ff190f-3464-4e51-8350-ffcd8fdaffc7",
     "showTitle": false,
     "title": ""
    }
   },
   "source": [
    "## Create a Reflex\n",
    "Just like other Fabric experiences, the first thing you do with Data Activator is set up an item in your Fabric Workspace. Data Activator’s items are known as Reflexes. A Reflex item contains all the necessary details to connect to data sources, monitor conditions, and initiate actions. You're likely to set up a Reflex for each business segment or process you're monitoring.\n",
    "\n",
    "Let's go ahead and create a Reflex item in your Fabric workspace. From the New menu in the workspace, choose the **_Reflex_** item.\n",
    "\n",
    "<img src=\"../images/01_Get started with Microsoft Fabric/10/get-reflex-data.png\" alt=\"Screenshot of selecting Reflexes in Data Activator.\" style=\"border: 2px solid black; border-radius: 10px;\">"
   ]
  },
  {
   "cell_type": "markdown",
   "metadata": {
    "application/vnd.databricks.v1+cell": {
     "cellMetadata": {},
     "inputWidgets": {},
     "nuid": "c7948498-87ac-450d-b741-440dabdc451f",
     "showTitle": false,
     "title": ""
    }
   },
   "source": [
    "## Navigate between data mode and design mode\n",
    "Once you've selected the option to create a Reflex, you see the **_Get data_** buttons and the **_Get sample data_** button in the canvas.\n",
    "\n",
    "<img src=\"../images/01_Get started with Microsoft Fabric/10/get-data.png\" alt=\"Screenshot of selecting Data or Design modes in Data Activator.\" style=\"border: 2px solid black; border-radius: 10px;\">"
   ]
  },
  {
   "cell_type": "markdown",
   "metadata": {
    "application/vnd.databricks.v1+cell": {
     "cellMetadata": {},
     "inputWidgets": {},
     "nuid": "521df2d3-0898-4421-9410-213d71fae6f4",
     "showTitle": false,
     "title": ""
    }
   },
   "source": [
    "## Select a streaming data source\n",
    "When you select get-data, you're presented with existing data stream events that you can add actions to.\n",
    "\n",
    "<img src=\"../images/01_Get started with Microsoft Fabric/10/data-stream-events.png\" alt=\"Screenshot of selecting data stream events in Data Activator.\" style=\"border: 2px solid black; border-radius: 10px;\">"
   ]
  },
  {
   "cell_type": "markdown",
   "metadata": {
    "application/vnd.databricks.v1+cell": {
     "cellMetadata": {},
     "inputWidgets": {},
     "nuid": "b09a07c9-1154-48ca-b895-3fb7cd511b20",
     "showTitle": false,
     "title": ""
    }
   },
   "source": [
    "## Select set alert on a tile in your Real-Time Dashboard\n",
    "You can use Data Activator to trigger notifications when conditions are met on data in a Real-time Dashboard. For example, if you have a Real-Time Dashboard displaying real-time availability of bicycles for hire in multiple locations, you can trigger an alert if there are too few bicycles available in any one location. You can send alert notifications either to yourself, or to others in your organization, via either email or Microsoft Teams.\n",
    "\n",
    "To begin creating a trigger from a Real-Time Dashboard:\n",
    "1. Browse to your Real-Time Dashboard.\n",
    "2. Toggle from **_viewing_** > **_editing_** mode in the toolbar.\n",
    "3. Choose a tile on the Real-Time Dashboard for Data Activator to monitor.\n",
    "4. Select the **_More menu (...)_** on the right-top of the tile, and select **_Set alert_**.\n",
    "\n",
    "<img src=\"../images/01_Get started with Microsoft Fabric/10/real-time-dashboard-alert.png\" alt=\"Set alert in Real-Time Dashboard\" style=\"border: 2px solid black; border-radius: 10px;\">"
   ]
  },
  {
   "cell_type": "markdown",
   "metadata": {
    "application/vnd.databricks.v1+cell": {
     "cellMetadata": {},
     "inputWidgets": {},
     "nuid": "40612864-7c8f-45b5-904b-2023ede9b1b8",
     "showTitle": false,
     "title": ""
    }
   },
   "source": [
    "## Define alert conditions\n",
    "Once you determine that you want alerted, you see the **_Set alert_** pane, and can take more steps for configuration:\n",
    "1. In the **_Condition_** dropdowns and the **_Action_** radio buttons, you specify the condition and how you would like to receive the alert.\n",
    "2. In the **_Action_** section, you can receive the alert via email of Microsoft Teams.\n",
    "3. In the **_Save location_** you choose the workspace and whether you want to use an existing reflex item or **_create_** a new one.\n",
    "\n",
    "<img src=\"../images/01_Get started with Microsoft Fabric/10/real-time-dashboard-alert-settings.png\" alt=\"Configuring alert settings\" style=\"border: 2px solid black; border-radius: 10px;\">"
   ]
  },
  {
   "cell_type": "markdown",
   "metadata": {
    "application/vnd.databricks.v1+cell": {
     "cellMetadata": {},
     "inputWidgets": {},
     "nuid": "fac9d63c-52fd-4c34-a1e9-ca4616ec01c4",
     "showTitle": false,
     "title": ""
    }
   },
   "source": [
    "# Understand triggers, conditions and actions in Data Activator"
   ]
  },
  {
   "cell_type": "markdown",
   "metadata": {
    "application/vnd.databricks.v1+cell": {
     "cellMetadata": {},
     "inputWidgets": {},
     "nuid": "b7658102-5aab-48fd-af63-8870e17eb6bb",
     "showTitle": false,
     "title": ""
    }
   },
   "source": [
    "## Triggers in Data Activator\n",
    "Triggers in Data Activator are designed to monitor your events and data, initiating specified actions once certain conditions within these events are fulfilled. Essentially, triggers act like \"if-then\" statements for your data, enabling real-time responses to critical changes or anomalies in your events."
   ]
  },
  {
   "cell_type": "markdown",
   "metadata": {
    "application/vnd.databricks.v1+cell": {
     "cellMetadata": {},
     "inputWidgets": {},
     "nuid": "f33049ed-5d60-4a73-a7ea-887cd3124c2d",
     "showTitle": false,
     "title": ""
    }
   },
   "source": [
    "## Conditions in Data Activator\n",
    "Conditions define the specific circumstances or states within your events under which a trigger becomes active. They're like the rules of engagement for your triggers, determining when it's time to step into action based on the real-time events and associated data flowing through your system."
   ]
  },
  {
   "cell_type": "markdown",
   "metadata": {
    "application/vnd.databricks.v1+cell": {
     "cellMetadata": {},
     "inputWidgets": {},
     "nuid": "a407d040-963a-47fb-a106-2088380df085",
     "showTitle": false,
     "title": ""
    }
   },
   "source": [
    "## Actions in Data Activator\n",
    "Actions are the end result of a condition met by a trigger. They represent the tasks that Data Activator carries out in response to the specified conditions within an event. These actions can range from sending an alert or notification to initiating a complex workflow."
   ]
  },
  {
   "cell_type": "markdown",
   "metadata": {
    "application/vnd.databricks.v1+cell": {
     "cellMetadata": {},
     "inputWidgets": {},
     "nuid": "c14a92f9-1668-4bb2-857a-71f0b15c3da4",
     "showTitle": false,
     "title": ""
    }
   },
   "source": [
    "## The Power of Triggers, Conditions, and Actions\n",
    "The combination of triggers, conditions, and actions, driven by real-time events, can transform your data management from a passive to an active state. They facilitate immediate and informed responses to changes occurring within your events. They enable you to act on insights as they unfold in real-time, creating a dynamic system that's both proactive and responsive."
   ]
  },
  {
   "cell_type": "markdown",
   "metadata": {
    "application/vnd.databricks.v1+cell": {
     "cellMetadata": {},
     "inputWidgets": {},
     "nuid": "1683f954-5f41-4ba5-83e3-3ac0edf1dcbd",
     "showTitle": false,
     "title": ""
    }
   },
   "source": [
    "# Get data from Power BI Reports and EventStreams with Data Activator"
   ]
  },
  {
   "cell_type": "markdown",
   "metadata": {
    "application/vnd.databricks.v1+cell": {
     "cellMetadata": {},
     "inputWidgets": {},
     "nuid": "37b7ace4-20a2-4c2f-b051-7ebfda16ae56",
     "showTitle": false,
     "title": ""
    }
   },
   "source": [
    "## Power BI Reports\n",
    "Using Data Activator, you can set up notifications that get triggered based on specific conditions met by the data in a Power BI report. Consider a scenario where you have a Power BI report that tracks the monthly website traffic. You can configure Data Activator to send an alert if the traffic falls below a certain threshold at any given time, enabling you to respond promptly.\n",
    "\n",
    "<img src=\"https://files.training.databricks.com/images/icon_note_32.png\" alt=\"Note\"> Ensure you have a Power BI report published online to a Fabric workspace in a Premium capacity before you start. Data Activator currently supports Power BI visuals that have both an X-axis and Y-axis, excluding time dimension visuals on the X-axis.\n",
    "\n",
    "Let's walk through the steps of setting up a notification based on a Power BI report.\n",
    "\n",
    "To trigger an action on a Power BI visual, you would first select **_Trigger Action_** on your report. For example, the following screenshot shows an example of how to trigger an action from a visual that displays today’s sales for each store in a retail chain.\n",
    "\n",
    "<img src=\"../images/01_Get started with Microsoft Fabric/10/data-activator-power-bi-trigger-action.png\" alt=\"Screenshot showing the Trigger Action option from a visual that displays daily sales.\" style=\"border: 2px solid black; border-radius: 10px;\">\n",
    "\n",
    "Once you pick a report to monitor, you define your Data Activator trigger. It’s here where you would define **_what to monitor_**, or what measure Data Activator should keep track of in that report and the frequency of checking the measure’s value. Here you also define **_what to detect_**, in other words the condition that triggers the alert. And you define **_where to save_** or store the Data Activator trigger, either by selecting an existing Reflex or creating a new one. For example, the following screenshot shows how you would create a trigger that fires daily if the sales for any store drop under $60,000.\n",
    "\n",
    "<img src=\"../images/01_Get started with Microsoft Fabric/10/data-activator-power-bi-create-alert.png\" alt=\"Screenshot showing the Create Alert dialog.\" style=\"border: 2px solid black; border-radius: 10px;\">\n",
    "\n",
    "The last thing remaining is to add an action to your trigger. Here you add an email or Teams notification to your trigger."
   ]
  },
  {
   "cell_type": "markdown",
   "metadata": {
    "application/vnd.databricks.v1+cell": {
     "cellMetadata": {},
     "inputWidgets": {},
     "nuid": "56b37d8c-7080-4c79-85f6-db50181c6b7c",
     "showTitle": false,
     "title": ""
    }
   },
   "source": [
    "## EventStreams\n",
    "Let’s now learn how to connect Data Activator to your real-time data in Fabric DataStreams. With Data Activator, you can then set up notifications or actions based on specific conditions met by the data in the Fabric EventStream. For example, you might have a scenario where you have a Fabric EventStream where you track the monthly website traffic. You can configure Data Activator to send an alert if the traffic falls below a certain threshold at any given time. This action enables you to respond promptly to these or similar alerts.\n",
    "\n",
    "<img src=\"https://files.training.databricks.com/images/icon_note_32.png\" alt=\"Note\"> You need two things to start using EventStreams in Fabric, an EventStream item, and an existing connection to a Source. Each event in the source must be formatted as a JSON dictionary, with one of the dictionary keys denoting a unique object ID. For example, PackageID is our unique key in the following event:"
   ]
  },
  {
   "cell_type": "code",
   "execution_count": 0,
   "metadata": {
    "application/vnd.databricks.v1+cell": {
     "cellMetadata": {},
     "inputWidgets": {},
     "nuid": "47d27736-b1cd-4e2d-a48d-6043c0f1c5bd",
     "showTitle": false,
     "title": ""
    }
   },
   "outputs": [],
   "source": [
    "#JSON\n",
    "{ \n",
    "  \"PackageID\": \"PKG_123\", \n",
    "  \"Temperature\": 25 \n",
    "}"
   ]
  },
  {
   "cell_type": "markdown",
   "metadata": {
    "application/vnd.databricks.v1+cell": {
     "cellMetadata": {},
     "inputWidgets": {},
     "nuid": "ee4416ef-b2ec-467d-97fa-c2bf625e59b0",
     "showTitle": false,
     "title": ""
    }
   },
   "source": [
    "All you need to set your Data Activator connection to the EventStream is to add the Reflex as a New destination on the EventStream item. You're now ready to assign your data to some objects.\n",
    "\n",
    "<img src=\"../images/01_Get started with Microsoft Fabric/10/data-activator-eventstream-destination-reflex.png\" alt=\"Screenshot showing setting the EventStream destination to Reflex.\" style=\"border: 2px solid black; border-radius: 10px;\">\n",
    "\n",
    "<img src=\"../images/01_Get started with Microsoft Fabric/10/data-activator-eventstream-reflex.png\" alt=\"Screenshot showing the Create a new Reflex.\" style=\"border: 2px solid black; border-radius: 10px;\">"
   ]
  },
  {
   "cell_type": "markdown",
   "metadata": {
    "application/vnd.databricks.v1+cell": {
     "cellMetadata": {},
     "inputWidgets": {},
     "nuid": "563ee351-53c0-49c0-9c53-b6da30034226",
     "showTitle": false,
     "title": ""
    }
   },
   "source": [
    "# Assign data in Data Activator\n",
    "We assign data to objects using **_Data Mode_**."
   ]
  },
  {
   "cell_type": "markdown",
   "metadata": {
    "application/vnd.databricks.v1+cell": {
     "cellMetadata": {},
     "inputWidgets": {},
     "nuid": "fb33df5c-2268-4acf-93dd-917d1e07f593",
     "showTitle": false,
     "title": ""
    }
   },
   "source": [
    "## Data Mode\n",
    "Your first task was to get the data, now you need to assign the events to objects. To use this mode, you start by selecting **_Data Mode_** from the tab at the bottom of the screen.\n",
    "\n",
    "<img src=\"../images/01_Get started with Microsoft Fabric/10/data-activator-data-design.png\" alt=\"Screenshot of selecting Data mode in Data Activator.\" style=\"border: 2px solid black; border-radius: 10px;\">\n",
    "\n",
    "<img src=\"https://files.training.databricks.com/images/icon_note_32.png\" alt=\"Note\"> If you started from Power BI, Data Activator automatically assigns your data to a newly created object, allowing you to bypass this section unless you are also integrating with events from EventStreams.\n",
    "\n",
    "Once you choose the events you want to track, it's time to **_assign your data_** to those events. You can assign your data to one or more new or existing objects. Here, you define the object name, the key column that uniquely defines the object you're monitoring and if needed, assign a **_property_**. We'll cover properties in more detail in the next unit.\n",
    "\n",
    "<img src=\"../images/01_Get started with Microsoft Fabric/10/data-activator-data-mode-assign-your-data.png\" alt=\"Screenshot of assigning your data in Data mode in Data Activator.\" style=\"border: 2px solid black; border-radius: 10px;\">\n",
    "\n",
    "Once an object is created, you'll switch to the **_Design mode_**, where you can see what’s happening for each object, over time. You notice a chart displaying event data from the past 24 hours, which can be customized according to your preferences. For example, let's consider you assigned the data for a retail company that is the tracking delivery of its packages. In the following screenshot, the status by minute of each package out for delivery is returned.\n",
    "\n",
    "<img src=\"../images/01_Get started with Microsoft Fabric/10/data-activator-design-mode-delivery-package-example.png\" alt=\"Screenshot of Design mode delivery package example in Data Activator.\" style=\"border: 2px solid black; border-radius: 10px;\">\n",
    "\n",
    "Data Activator allows you to assign data to one or more objects. You can assign several data streams to a single object or even link one event source to various objects, making it easier to monitor different data facets. However, when you're adding data to an existing object, it's critical to use the correct key column to prevent unexpected results. This approach helps you create a detailed and efficient monitoring system."
   ]
  },
  {
   "cell_type": "markdown",
   "metadata": {
    "application/vnd.databricks.v1+cell": {
     "cellMetadata": {},
     "inputWidgets": {},
     "nuid": "0933c21d-d7ef-4495-adb5-e85c56f014e7",
     "showTitle": false,
     "title": ""
    }
   },
   "source": [
    "# Create triggers in Data Activator"
   ]
  },
  {
   "cell_type": "markdown",
   "metadata": {
    "application/vnd.databricks.v1+cell": {
     "cellMetadata": {},
     "inputWidgets": {},
     "nuid": "74087dde-7998-4372-8caa-6e2d2460b8f5",
     "showTitle": false,
     "title": ""
    }
   },
   "source": [
    "## Design Mode\n",
    "To create triggers to perform some action against our data, we select **Design Mode** from the tab at the bottom of the screen.\n",
    "\n",
    "To get your triggers up and running you will:\n",
    "1. Define a trigger condition and action in Data Activator.\n",
    "2. Optionally, create **_properties_** in Data Activator."
   ]
  },
  {
   "cell_type": "markdown",
   "metadata": {
    "application/vnd.databricks.v1+cell": {
     "cellMetadata": {},
     "inputWidgets": {},
     "nuid": "75d8313e-cbef-4e5f-a041-251bd80c3a37",
     "showTitle": false,
     "title": ""
    }
   },
   "source": [
    "### Define a trigger condition and action in Data Activator\n",
    "Data Activator’s triggers define the conditions and actions to perform based on what’s happening in the data. Let's consider the following example, you work at pharmaceutical company and would like to monitor the temperature of multiple packages you need to ship. You need an alert to be sent to the shipping department when the temperature exceeds 48 degrees. You start by creating a new trigger.\n",
    "\n",
    "<img src=\"../images/01_Get started with Microsoft Fabric/10/data-activator-trigger-create.png\" alt=\"Screenshot of creating a new trigger in Data Activator.\" style=\"border: 2px solid black; border-radius: 10px;\">\n",
    "\n",
    "Then you select your data by either choosing a column from an event, or from a property you’ve already defined. In our example, you would pick the temperature column like the next screenshot demonstrates.\n",
    "\n",
    "<img src=\"../images/01_Get started with Microsoft Fabric/10/data-activator-trigger-select-column.png\" alt=\"Screenshot of selecting trigger column in Data Activator.\" style=\"border: 2px solid black; border-radius: 10px;\">\n",
    "\n",
    "Once you pick your column or property, Data Activator returns a preview of the values for a sample of the instances of the object. For example, in this screenshot, Data Activator returns the temperature of different packages in the last 24 hours.\n",
    "\n",
    "<img src=\"../images/01_Get started with Microsoft Fabric/10/data-activator-trigger-preview-temperature.png\" alt=\"Screenshot of temperature chart preview in Data Activator.\" style=\"border: 2px solid black; border-radius: 10px;\">\n",
    "\n",
    "It’s now time to define the conditions you want to detect. You can:\n",
    "\n",
    "- Choose a **_numeric_** condition like when the battery level falls below 20%.\n",
    "- Choose a **_logical_** condition like when a device average temperature goes above 150 degrees.\n",
    "- Choose a **_common_** true/false condition like when a production line sensor has been triggered.\n",
    "\n",
    "<img src=\"../images/01_Get started with Microsoft Fabric/10/data-activator-trigger-define-condition.png\" alt=\"Screenshot of defining the trigger condition in Data Activator.\" style=\"border: 2px solid black; border-radius: 10px;\">\n",
    "\n",
    "In our example, you choose a numeric condition, and set the value to greater than 48 degrees. Once the condition has been set, two charts are returned based on your historic data. The first chart displays a few samples when the condition was detected. And the second chart returns the total number of triggers that would have been fired. For your packages with temperature greater than 48-degrees example, the following charts would be returned.\n",
    "\n",
    "<img src=\"../images/01_Get started with Microsoft Fabric/10/data-activator-trigger-historic-data-preview.png\" alt=\"Screenshot of preview from historic data in Data Activator.\" style=\"border: 2px solid black; border-radius: 10px;\">\n",
    "\n",
    "So far you have defined the trigger condition, now you need to define the action. You can choose to send an email, send a text message, or start a workflow. In our example, you send a Team's message to the shipping department.\n",
    "\n",
    "<img src=\"../images/01_Get started with Microsoft Fabric/10/data-activator-trigger-select-action.png\" alt=\"Screenshot of selecting your trigger action in Data Activator.\" style=\"border: 2px solid black; border-radius: 10px;\">\n",
    "\n",
    "Depending on the action you choose, you're prompted to provide additional information. For example, if you choose to send an email, you're asked to provide the email address of the recipient, the subject, and the body of the email. In our example, you're asked to provide the recipients, headline, optional message and any additional information you want to send.\n",
    "\n",
    "<img src=\"../images/01_Get started with Microsoft Fabric/10/data-activator-trigger-action-teams-message.png\" alt=\"Screenshot of trigger sending Team's message in Data Activator.\" style=\"border: 2px solid black; border-radius: 10px;\">\n",
    "\n",
    "Before you start your new trigger, it might be a good idea to test it by selecting to **_Send me a test alert_**. An alert finds a historical occurrence of the condition and sends you an alert, regardless of the recipient field in the previous dialog.\n",
    "\n",
    "<img src=\"../images/01_Get started with Microsoft Fabric/10/data-activator-trigger-send-test-message.png\" alt=\"Screenshot of trigger sending a test message in Data Activator.\" style=\"border: 2px solid black; border-radius: 10px;\">\n",
    "\n",
    "Once the trigger is created, you can start it, stop it or modify it. To start it, select **_Start_** from the Data Activator toolbar. When your trigger is in a running state, you can either select **_Stop_** to stop it, or select **_Update_** if you have made any changes to the trigger and want those changes to take effect on the currently running trigger.\n",
    "\n",
    "<img src=\"../images/01_Get started with Microsoft Fabric/10/data-activator-trigger-start.png\" alt=\"Screenshot of starting trigger in Data Activator.\" style=\"border: 2px solid black; border-radius: 10px;\">"
   ]
  },
  {
   "cell_type": "markdown",
   "metadata": {
    "application/vnd.databricks.v1+cell": {
     "cellMetadata": {},
     "inputWidgets": {},
     "nuid": "b409dd73-7e08-4bcf-9a68-2a31e8e506ca",
     "showTitle": false,
     "title": ""
    }
   },
   "source": [
    "### Create properties in Data Activator\n",
    "There are many times when you would use the same trigger logic on multiple triggers. Properties allow you to define a condition or measure once and use that property across multiple triggers.\n",
    "\n",
    "You select to create a **_New Property_**, then define your property logic. For example, on this screenshot, we define a property called Maximum Temp last hour on a package object.\n",
    "\n",
    "<img src=\"../images/01_Get started with Microsoft Fabric/10/data-activator-trigger-create-new-property.png\" alt=\"Screenshot of creating an new trigger property in Data Activator.\" style=\"border: 2px solid black; border-radius: 10px;\">\n",
    "\n",
    "Once you have defined a property, you can reference it from one or more triggers, via the select card. This screenshot references the property we made earlier in a Package too warm trigger.\n",
    "\n",
    "<img src=\"../images/01_Get started with Microsoft Fabric/10/data-activator-trigger-assign-property.png\" alt=\"Screenshot of assigning new property in Data Activator.\" style=\"border: 2px solid black; border-radius: 10px;\">"
   ]
  }
 ],
 "metadata": {
  "application/vnd.databricks.v1+notebook": {
   "dashboards": [],
   "environmentMetadata": null,
   "language": "python",
   "notebookMetadata": {
    "pythonIndentUnit": 4
   },
   "notebookName": "10_Get started with Data Activator in Microsoft Fabric",
   "widgets": {}
  },
  "language_info": {
   "name": "python"
  }
 },
 "nbformat": 4,
 "nbformat_minor": 0
}

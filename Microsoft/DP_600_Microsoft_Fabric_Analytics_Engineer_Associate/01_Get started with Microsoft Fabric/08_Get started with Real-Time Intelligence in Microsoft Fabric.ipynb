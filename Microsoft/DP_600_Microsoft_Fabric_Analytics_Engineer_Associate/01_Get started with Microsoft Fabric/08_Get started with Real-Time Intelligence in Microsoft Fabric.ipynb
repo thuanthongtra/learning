{
 "cells": [
  {
   "cell_type": "code",
   "execution_count": 0,
   "metadata": {
    "application/vnd.databricks.v1+cell": {
     "cellMetadata": {},
     "inputWidgets": {},
     "nuid": "1d25dde8-3813-4656-b7bf-74c63b1ebdcc",
     "showTitle": false,
     "title": ""
    }
   },
   "outputs": [],
   "source": []
  }
 ],
 "metadata": {
  "application/vnd.databricks.v1+notebook": {
   "dashboards": [],
   "environmentMetadata": null,
   "language": "python",
   "notebookMetadata": {
    "pythonIndentUnit": 4
   },
   "notebookName": "08_Get started with Real-Time Intelligence in Microsoft Fabric",
   "widgets": {}
  }
 },
 "nbformat": 4,
 "nbformat_minor": 0
}

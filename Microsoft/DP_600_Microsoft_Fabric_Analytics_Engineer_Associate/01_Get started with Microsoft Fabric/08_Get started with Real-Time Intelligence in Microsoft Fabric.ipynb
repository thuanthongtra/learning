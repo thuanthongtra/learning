{
 "cells": [
  {
   "cell_type": "markdown",
   "metadata": {
    "application/vnd.databricks.v1+cell": {
     "cellMetadata": {},
     "inputWidgets": {},
     "nuid": "1d25dde8-3813-4656-b7bf-74c63b1ebdcc",
     "showTitle": false,
     "title": ""
    }
   },
   "source": [
    "# Describe Microsoft Fabric Real-Time Intelligence?"
   ]
  },
  {
   "cell_type": "markdown",
   "metadata": {
    "application/vnd.databricks.v1+cell": {
     "cellMetadata": {},
     "inputWidgets": {},
     "nuid": "81cd079c-0add-4eee-bd9c-c39be0919969",
     "showTitle": false,
     "title": ""
    }
   },
   "source": [
    "# Understand KQL database and tables"
   ]
  },
  {
   "cell_type": "markdown",
   "metadata": {
    "application/vnd.databricks.v1+cell": {
     "cellMetadata": {},
     "inputWidgets": {},
     "nuid": "555bc91a-a8c5-49df-be50-794c36e0d8d8",
     "showTitle": false,
     "title": ""
    }
   },
   "source": [
    "# Describe Microsoft Fabric Real-Time hub"
   ]
  },
  {
   "cell_type": "markdown",
   "metadata": {
    "application/vnd.databricks.v1+cell": {
     "cellMetadata": {},
     "inputWidgets": {},
     "nuid": "e6474041-ba9c-4f9c-b6ab-ab49f19e0499",
     "showTitle": false,
     "title": ""
    }
   },
   "source": [
    "# Write queries with KQL"
   ]
  }
 ],
 "metadata": {
  "application/vnd.databricks.v1+notebook": {
   "dashboards": [],
   "environmentMetadata": null,
   "language": "python",
   "notebookMetadata": {
    "pythonIndentUnit": 4
   },
   "notebookName": "08_Get started with Real-Time Intelligence in Microsoft Fabric",
   "widgets": {}
  }
 },
 "nbformat": 4,
 "nbformat_minor": 0
}

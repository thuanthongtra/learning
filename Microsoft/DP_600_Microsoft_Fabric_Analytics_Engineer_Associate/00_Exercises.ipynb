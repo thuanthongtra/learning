{
 "cells": [
  {
   "cell_type": "markdown",
   "metadata": {
    "application/vnd.databricks.v1+cell": {
     "cellMetadata": {},
     "inputWidgets": {},
     "nuid": "05978be5-a1d2-4f88-8f07-9d4fed7bb564",
     "showTitle": false,
     "title": ""
    }
   },
   "source": [
    "[03_Create and use a Dataflow Gen2 in Microsoft Fabric](https://learn.microsoft.com/en-us/training/modules/use-dataflow-gen-2-fabric/5-exercise)\n",
    "\n",
    "[04_Ingest data with Spark and Microsoft Fabric notebooks](https://learn.microsoft.com/en-us/training/modules/ingest-data-with-spark-fabric-notebooks/5-exercise)\n",
    "\n",
    "[05_Ingest data with a pipeline](https://learn.microsoft.com/en-us/training/modules/use-data-factory-pipelines-fabric/6-exercise-pipelines)\n",
    "\n",
    "[06_Create and ingest data with a Microsoft Fabric Lakehouse](https://learn.microsoft.com/en-us/training/modules/get-started-lakehouses/5-exercise-lakehouse)\n",
    "\n",
    "[07_Organize your Fabric lakehouse using a medallion architecture](https://learn.microsoft.com/en-us/training/modules/describe-medallion-architecture/6-exercise)\n",
    "\n",
    "[08_Analyze data with Apache Spark](https://learn.microsoft.com/en-us/training/modules/use-apache-spark-work-files-lakehouse/7-exercise-spark)"
   ]
  }
 ],
 "metadata": {
  "application/vnd.databricks.v1+notebook": {
   "dashboards": [],
   "environmentMetadata": null,
   "language": "python",
   "notebookMetadata": {
    "pythonIndentUnit": 4
   },
   "notebookName": "00_Exercises",
   "widgets": {}
  }
 },
 "nbformat": 4,
 "nbformat_minor": 0
}

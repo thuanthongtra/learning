{
 "cells": [
  {
   "cell_type": "markdown",
   "metadata": {
    "application/vnd.databricks.v1+cell": {
     "cellMetadata": {},
     "inputWidgets": {},
     "nuid": "05978be5-a1d2-4f88-8f07-9d4fed7bb564",
     "showTitle": false,
     "title": ""
    }
   },
   "source": [
    "# 03_Create and use a Dataflow Gen2 in Microsoft Fabric\n",
    "\n",
    "[Exercise](https://learn.microsoft.com/en-us/training/modules/use-dataflow-gen-2-fabric/5-exercise)"
   ]
  },
  {
   "cell_type": "markdown",
   "metadata": {
    "application/vnd.databricks.v1+cell": {
     "cellMetadata": {},
     "inputWidgets": {},
     "nuid": "cb96b8da-a042-42a4-ad22-cc9cad057eb5",
     "showTitle": false,
     "title": ""
    }
   },
   "source": [
    "# 04_Ingest data with Spark and Microsoft Fabric notebooks\n",
    "\n",
    "[Exercise](https://learn.microsoft.com/en-us/training/modules/ingest-data-with-spark-fabric-notebooks/5-exercise)"
   ]
  }
 ],
 "metadata": {
  "application/vnd.databricks.v1+notebook": {
   "dashboards": [],
   "environmentMetadata": null,
   "language": "python",
   "notebookMetadata": {
    "pythonIndentUnit": 4
   },
   "notebookName": "00_Exercises",
   "widgets": {}
  }
 },
 "nbformat": 4,
 "nbformat_minor": 0
}

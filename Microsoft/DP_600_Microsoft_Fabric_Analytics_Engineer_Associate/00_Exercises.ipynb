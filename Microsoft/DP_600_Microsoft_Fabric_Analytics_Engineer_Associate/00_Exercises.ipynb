{
 "cells": [
  {
   "cell_type": "markdown",
   "metadata": {
    "application/vnd.databricks.v1+cell": {
     "cellMetadata": {},
     "inputWidgets": {},
     "nuid": "dab80a9f-108b-45c0-8cf1-0580c91623c7",
     "showTitle": false,
     "title": ""
    }
   },
   "source": [
    "# 01_Get started with Microsoft Fabric\n",
    "\n",
    "[02_Create and ingest data with a Microsoft Fabric Lakehouse](https://learn.microsoft.com/en-us/training/modules/get-started-lakehouses/5-exercise-lakehouse)\n",
    "\n",
    "[03_Analyze data with Apache Spark](https://learn.microsoft.com/en-us/training/modules/use-apache-spark-work-files-lakehouse/7-exercise-spark)\n",
    "\n",
    "[04_Use delta tables in Apache Spark](https://learn.microsoft.com/en-us/training/modules/work-delta-lake-tables-fabric/6-exercise-delta-tables)\n",
    "\n",
    "[05_Ingest data with a pipeline](https://learn.microsoft.com/en-us/training/modules/use-data-factory-pipelines-fabric/6-exercise-pipelines)\n",
    "\n",
    "[06_Create and use a Dataflow Gen2 in Microsoft Fabric](https://learn.microsoft.com/en-us/training/modules/use-dataflow-gen-2-fabric/5-exercise)\n",
    "\n",
    "[07_Analyze data in a data warehouse](https://learn.microsoft.com/en-us/training/modules/get-started-data-warehouse/7-exercise)\n",
    "\n",
    "[08_Explore Real-Time Intelligence in Fabric](https://learn.microsoft.com/en-us/training/modules/get-started-kusto-fabric/5-exercise-use-kusto-query-data-onelake)"
   ]
  },
  {
   "cell_type": "markdown",
   "metadata": {
    "application/vnd.databricks.v1+cell": {
     "cellMetadata": {},
     "inputWidgets": {},
     "nuid": "faa980a3-6760-4bd8-b618-6ed7f1be45d8",
     "showTitle": false,
     "title": ""
    }
   },
   "source": [
    "# 02_Implement a Lakehouse with Microsoft Fabric\n",
    "\n",
    "[01_Organize your Fabric lakehouse using a medallion architecture](https://learn.microsoft.com/en-us/training/modules/describe-medallion-architecture/6-exercise)"
   ]
  },
  {
   "cell_type": "markdown",
   "metadata": {
    "application/vnd.databricks.v1+cell": {
     "cellMetadata": {},
     "inputWidgets": {},
     "nuid": "cee6aee7-7e9b-43a2-a433-fb14066b4da2",
     "showTitle": false,
     "title": ""
    }
   },
   "source": [
    "# 03_Ingest data with Microsoft Fabric\n",
    "\n",
    "[01_Ingest data with Spark and Microsoft Fabric notebooks](https://learn.microsoft.com/en-us/training/modules/ingest-data-with-spark-fabric-notebooks/5-exercise)"
   ]
  },
  {
   "cell_type": "markdown",
   "metadata": {
    "application/vnd.databricks.v1+cell": {
     "cellMetadata": {},
     "inputWidgets": {},
     "nuid": "c75f30d2-130f-4bd6-a1e3-08bf8322f3ce",
     "showTitle": false,
     "title": ""
    }
   },
   "source": [
    "# 04_Implement a data warehouse with Microsoft Fabric\n",
    "\n",
    "[01_Load data into a warehouse in Microsoft Fabric](https://learn.microsoft.com/en-us/training/modules/load-data-into-microsoft-fabric-data-warehouse/6-exercise-load-data-into-warehouse)\n",
    "\n",
    "[02_Query a data warehouse in Microsoft Fabric](https://learn.microsoft.com/en-us/training/modules/query-data-warehouse-microsoft-fabric/5-exercise-query-data-warehouse-microsoft-fabric)\n",
    "\n",
    "[03_Monitor a data warehouse in Microsoft Fabric](https://learn.microsoft.com/en-us/training/modules/monitor-fabric-data-warehouse/05-exercise-monitor)"
   ]
  },
  {
   "cell_type": "markdown",
   "metadata": {
    "application/vnd.databricks.v1+cell": {
     "cellMetadata": {},
     "inputWidgets": {},
     "nuid": "34634f76-9c1b-4d10-a617-5c4aff63b80b",
     "showTitle": false,
     "title": ""
    }
   },
   "source": [
    "# 05_Work with semantic models in Microsoft Fabric"
   ]
  }
 ],
 "metadata": {
  "application/vnd.databricks.v1+notebook": {
   "dashboards": [],
   "environmentMetadata": null,
   "language": "python",
   "notebookMetadata": {
    "pythonIndentUnit": 4
   },
   "notebookName": "00_Exercises",
   "widgets": {}
  }
 },
 "nbformat": 4,
 "nbformat_minor": 0
}
